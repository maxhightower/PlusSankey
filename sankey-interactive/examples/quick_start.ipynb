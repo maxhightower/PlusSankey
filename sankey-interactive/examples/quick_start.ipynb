{
 "cells": [
  {
   "cell_type": "markdown",
   "id": "bf45e102",
   "metadata": {},
   "source": [
    "# Quick Start - Interactive Sankey Library\n",
    "\n",
    "Get started with interactive Sankey diagrams in just a few lines of code!"
   ]
  },
  {
   "cell_type": "code",
   "execution_count": 1,
   "id": "611c20c1",
   "metadata": {},
   "outputs": [],
   "source": [
    "# Setup\n",
    "import sys\n",
    "sys.path.insert(0, '../src')\n",
    "\n",
    "import pandas as pd\n",
    "import numpy as np\n",
    "from sankey_interactive import SankeyDiagram"
   ]
  },
  {
   "cell_type": "markdown",
   "id": "59d5ea2e",
   "metadata": {},
   "source": [
    "## Example 1: Simple Flow Diagram"
   ]
  },
  {
   "cell_type": "code",
   "execution_count": 2,
   "id": "9bba2c2b",
   "metadata": {},
   "outputs": [
    {
     "data": {
      "application/vnd.plotly.v1+json": {
       "config": {
        "plotlyServerURL": "https://plot.ly"
       },
       "data": [
        {
         "link": {
          "color": [
           "rgba(100, 150, 200, 0.4)",
           "rgba(100, 150, 200, 0.4)",
           "rgba(100, 150, 200, 0.4)",
           "rgba(100, 150, 200, 0.4)",
           "rgba(100, 150, 200, 0.4)"
          ],
          "source": [
           3,
           3,
           1,
           1,
           4
          ],
          "target": [
           2,
           0,
           2,
           0,
           0
          ],
          "value": [
           10,
           20,
           15,
           5,
           25
          ]
         },
         "node": {
          "color": "rgba(100, 150, 200, 0.8)",
          "label": [
           "E",
           "B",
           "D",
           "A",
           "C"
          ],
          "line": {
           "color": "black",
           "width": 0.5
          },
          "pad": 15,
          "thickness": 20
         },
         "type": "sankey"
        }
       ],
       "layout": {
        "font": {
         "size": 12
        },
        "height": 600,
        "template": {
         "data": {
          "bar": [
           {
            "error_x": {
             "color": "#2a3f5f"
            },
            "error_y": {
             "color": "#2a3f5f"
            },
            "marker": {
             "line": {
              "color": "#E5ECF6",
              "width": 0.5
             },
             "pattern": {
              "fillmode": "overlay",
              "size": 10,
              "solidity": 0.2
             }
            },
            "type": "bar"
           }
          ],
          "barpolar": [
           {
            "marker": {
             "line": {
              "color": "#E5ECF6",
              "width": 0.5
             },
             "pattern": {
              "fillmode": "overlay",
              "size": 10,
              "solidity": 0.2
             }
            },
            "type": "barpolar"
           }
          ],
          "carpet": [
           {
            "aaxis": {
             "endlinecolor": "#2a3f5f",
             "gridcolor": "white",
             "linecolor": "white",
             "minorgridcolor": "white",
             "startlinecolor": "#2a3f5f"
            },
            "baxis": {
             "endlinecolor": "#2a3f5f",
             "gridcolor": "white",
             "linecolor": "white",
             "minorgridcolor": "white",
             "startlinecolor": "#2a3f5f"
            },
            "type": "carpet"
           }
          ],
          "choropleth": [
           {
            "colorbar": {
             "outlinewidth": 0,
             "ticks": ""
            },
            "type": "choropleth"
           }
          ],
          "contour": [
           {
            "colorbar": {
             "outlinewidth": 0,
             "ticks": ""
            },
            "colorscale": [
             [
              0,
              "#0d0887"
             ],
             [
              0.1111111111111111,
              "#46039f"
             ],
             [
              0.2222222222222222,
              "#7201a8"
             ],
             [
              0.3333333333333333,
              "#9c179e"
             ],
             [
              0.4444444444444444,
              "#bd3786"
             ],
             [
              0.5555555555555556,
              "#d8576b"
             ],
             [
              0.6666666666666666,
              "#ed7953"
             ],
             [
              0.7777777777777778,
              "#fb9f3a"
             ],
             [
              0.8888888888888888,
              "#fdca26"
             ],
             [
              1,
              "#f0f921"
             ]
            ],
            "type": "contour"
           }
          ],
          "contourcarpet": [
           {
            "colorbar": {
             "outlinewidth": 0,
             "ticks": ""
            },
            "type": "contourcarpet"
           }
          ],
          "heatmap": [
           {
            "colorbar": {
             "outlinewidth": 0,
             "ticks": ""
            },
            "colorscale": [
             [
              0,
              "#0d0887"
             ],
             [
              0.1111111111111111,
              "#46039f"
             ],
             [
              0.2222222222222222,
              "#7201a8"
             ],
             [
              0.3333333333333333,
              "#9c179e"
             ],
             [
              0.4444444444444444,
              "#bd3786"
             ],
             [
              0.5555555555555556,
              "#d8576b"
             ],
             [
              0.6666666666666666,
              "#ed7953"
             ],
             [
              0.7777777777777778,
              "#fb9f3a"
             ],
             [
              0.8888888888888888,
              "#fdca26"
             ],
             [
              1,
              "#f0f921"
             ]
            ],
            "type": "heatmap"
           }
          ],
          "histogram": [
           {
            "marker": {
             "pattern": {
              "fillmode": "overlay",
              "size": 10,
              "solidity": 0.2
             }
            },
            "type": "histogram"
           }
          ],
          "histogram2d": [
           {
            "colorbar": {
             "outlinewidth": 0,
             "ticks": ""
            },
            "colorscale": [
             [
              0,
              "#0d0887"
             ],
             [
              0.1111111111111111,
              "#46039f"
             ],
             [
              0.2222222222222222,
              "#7201a8"
             ],
             [
              0.3333333333333333,
              "#9c179e"
             ],
             [
              0.4444444444444444,
              "#bd3786"
             ],
             [
              0.5555555555555556,
              "#d8576b"
             ],
             [
              0.6666666666666666,
              "#ed7953"
             ],
             [
              0.7777777777777778,
              "#fb9f3a"
             ],
             [
              0.8888888888888888,
              "#fdca26"
             ],
             [
              1,
              "#f0f921"
             ]
            ],
            "type": "histogram2d"
           }
          ],
          "histogram2dcontour": [
           {
            "colorbar": {
             "outlinewidth": 0,
             "ticks": ""
            },
            "colorscale": [
             [
              0,
              "#0d0887"
             ],
             [
              0.1111111111111111,
              "#46039f"
             ],
             [
              0.2222222222222222,
              "#7201a8"
             ],
             [
              0.3333333333333333,
              "#9c179e"
             ],
             [
              0.4444444444444444,
              "#bd3786"
             ],
             [
              0.5555555555555556,
              "#d8576b"
             ],
             [
              0.6666666666666666,
              "#ed7953"
             ],
             [
              0.7777777777777778,
              "#fb9f3a"
             ],
             [
              0.8888888888888888,
              "#fdca26"
             ],
             [
              1,
              "#f0f921"
             ]
            ],
            "type": "histogram2dcontour"
           }
          ],
          "mesh3d": [
           {
            "colorbar": {
             "outlinewidth": 0,
             "ticks": ""
            },
            "type": "mesh3d"
           }
          ],
          "parcoords": [
           {
            "line": {
             "colorbar": {
              "outlinewidth": 0,
              "ticks": ""
             }
            },
            "type": "parcoords"
           }
          ],
          "pie": [
           {
            "automargin": true,
            "type": "pie"
           }
          ],
          "scatter": [
           {
            "fillpattern": {
             "fillmode": "overlay",
             "size": 10,
             "solidity": 0.2
            },
            "type": "scatter"
           }
          ],
          "scatter3d": [
           {
            "line": {
             "colorbar": {
              "outlinewidth": 0,
              "ticks": ""
             }
            },
            "marker": {
             "colorbar": {
              "outlinewidth": 0,
              "ticks": ""
             }
            },
            "type": "scatter3d"
           }
          ],
          "scattercarpet": [
           {
            "marker": {
             "colorbar": {
              "outlinewidth": 0,
              "ticks": ""
             }
            },
            "type": "scattercarpet"
           }
          ],
          "scattergeo": [
           {
            "marker": {
             "colorbar": {
              "outlinewidth": 0,
              "ticks": ""
             }
            },
            "type": "scattergeo"
           }
          ],
          "scattergl": [
           {
            "marker": {
             "colorbar": {
              "outlinewidth": 0,
              "ticks": ""
             }
            },
            "type": "scattergl"
           }
          ],
          "scattermap": [
           {
            "marker": {
             "colorbar": {
              "outlinewidth": 0,
              "ticks": ""
             }
            },
            "type": "scattermap"
           }
          ],
          "scattermapbox": [
           {
            "marker": {
             "colorbar": {
              "outlinewidth": 0,
              "ticks": ""
             }
            },
            "type": "scattermapbox"
           }
          ],
          "scatterpolar": [
           {
            "marker": {
             "colorbar": {
              "outlinewidth": 0,
              "ticks": ""
             }
            },
            "type": "scatterpolar"
           }
          ],
          "scatterpolargl": [
           {
            "marker": {
             "colorbar": {
              "outlinewidth": 0,
              "ticks": ""
             }
            },
            "type": "scatterpolargl"
           }
          ],
          "scatterternary": [
           {
            "marker": {
             "colorbar": {
              "outlinewidth": 0,
              "ticks": ""
             }
            },
            "type": "scatterternary"
           }
          ],
          "surface": [
           {
            "colorbar": {
             "outlinewidth": 0,
             "ticks": ""
            },
            "colorscale": [
             [
              0,
              "#0d0887"
             ],
             [
              0.1111111111111111,
              "#46039f"
             ],
             [
              0.2222222222222222,
              "#7201a8"
             ],
             [
              0.3333333333333333,
              "#9c179e"
             ],
             [
              0.4444444444444444,
              "#bd3786"
             ],
             [
              0.5555555555555556,
              "#d8576b"
             ],
             [
              0.6666666666666666,
              "#ed7953"
             ],
             [
              0.7777777777777778,
              "#fb9f3a"
             ],
             [
              0.8888888888888888,
              "#fdca26"
             ],
             [
              1,
              "#f0f921"
             ]
            ],
            "type": "surface"
           }
          ],
          "table": [
           {
            "cells": {
             "fill": {
              "color": "#EBF0F8"
             },
             "line": {
              "color": "white"
             }
            },
            "header": {
             "fill": {
              "color": "#C8D4E3"
             },
             "line": {
              "color": "white"
             }
            },
            "type": "table"
           }
          ]
         },
         "layout": {
          "annotationdefaults": {
           "arrowcolor": "#2a3f5f",
           "arrowhead": 0,
           "arrowwidth": 1
          },
          "autotypenumbers": "strict",
          "coloraxis": {
           "colorbar": {
            "outlinewidth": 0,
            "ticks": ""
           }
          },
          "colorscale": {
           "diverging": [
            [
             0,
             "#8e0152"
            ],
            [
             0.1,
             "#c51b7d"
            ],
            [
             0.2,
             "#de77ae"
            ],
            [
             0.3,
             "#f1b6da"
            ],
            [
             0.4,
             "#fde0ef"
            ],
            [
             0.5,
             "#f7f7f7"
            ],
            [
             0.6,
             "#e6f5d0"
            ],
            [
             0.7,
             "#b8e186"
            ],
            [
             0.8,
             "#7fbc41"
            ],
            [
             0.9,
             "#4d9221"
            ],
            [
             1,
             "#276419"
            ]
           ],
           "sequential": [
            [
             0,
             "#0d0887"
            ],
            [
             0.1111111111111111,
             "#46039f"
            ],
            [
             0.2222222222222222,
             "#7201a8"
            ],
            [
             0.3333333333333333,
             "#9c179e"
            ],
            [
             0.4444444444444444,
             "#bd3786"
            ],
            [
             0.5555555555555556,
             "#d8576b"
            ],
            [
             0.6666666666666666,
             "#ed7953"
            ],
            [
             0.7777777777777778,
             "#fb9f3a"
            ],
            [
             0.8888888888888888,
             "#fdca26"
            ],
            [
             1,
             "#f0f921"
            ]
           ],
           "sequentialminus": [
            [
             0,
             "#0d0887"
            ],
            [
             0.1111111111111111,
             "#46039f"
            ],
            [
             0.2222222222222222,
             "#7201a8"
            ],
            [
             0.3333333333333333,
             "#9c179e"
            ],
            [
             0.4444444444444444,
             "#bd3786"
            ],
            [
             0.5555555555555556,
             "#d8576b"
            ],
            [
             0.6666666666666666,
             "#ed7953"
            ],
            [
             0.7777777777777778,
             "#fb9f3a"
            ],
            [
             0.8888888888888888,
             "#fdca26"
            ],
            [
             1,
             "#f0f921"
            ]
           ]
          },
          "colorway": [
           "#636efa",
           "#EF553B",
           "#00cc96",
           "#ab63fa",
           "#FFA15A",
           "#19d3f3",
           "#FF6692",
           "#B6E880",
           "#FF97FF",
           "#FECB52"
          ],
          "font": {
           "color": "#2a3f5f"
          },
          "geo": {
           "bgcolor": "white",
           "lakecolor": "white",
           "landcolor": "#E5ECF6",
           "showlakes": true,
           "showland": true,
           "subunitcolor": "white"
          },
          "hoverlabel": {
           "align": "left"
          },
          "hovermode": "closest",
          "mapbox": {
           "style": "light"
          },
          "paper_bgcolor": "white",
          "plot_bgcolor": "#E5ECF6",
          "polar": {
           "angularaxis": {
            "gridcolor": "white",
            "linecolor": "white",
            "ticks": ""
           },
           "bgcolor": "#E5ECF6",
           "radialaxis": {
            "gridcolor": "white",
            "linecolor": "white",
            "ticks": ""
           }
          },
          "scene": {
           "xaxis": {
            "backgroundcolor": "#E5ECF6",
            "gridcolor": "white",
            "gridwidth": 2,
            "linecolor": "white",
            "showbackground": true,
            "ticks": "",
            "zerolinecolor": "white"
           },
           "yaxis": {
            "backgroundcolor": "#E5ECF6",
            "gridcolor": "white",
            "gridwidth": 2,
            "linecolor": "white",
            "showbackground": true,
            "ticks": "",
            "zerolinecolor": "white"
           },
           "zaxis": {
            "backgroundcolor": "#E5ECF6",
            "gridcolor": "white",
            "gridwidth": 2,
            "linecolor": "white",
            "showbackground": true,
            "ticks": "",
            "zerolinecolor": "white"
           }
          },
          "shapedefaults": {
           "line": {
            "color": "#2a3f5f"
           }
          },
          "ternary": {
           "aaxis": {
            "gridcolor": "white",
            "linecolor": "white",
            "ticks": ""
           },
           "baxis": {
            "gridcolor": "white",
            "linecolor": "white",
            "ticks": ""
           },
           "bgcolor": "#E5ECF6",
           "caxis": {
            "gridcolor": "white",
            "linecolor": "white",
            "ticks": ""
           }
          },
          "title": {
           "x": 0.05
          },
          "xaxis": {
           "automargin": true,
           "gridcolor": "white",
           "linecolor": "white",
           "ticks": "",
           "title": {
            "standoff": 15
           },
           "zerolinecolor": "white",
           "zerolinewidth": 2
          },
          "yaxis": {
           "automargin": true,
           "gridcolor": "white",
           "linecolor": "white",
           "ticks": "",
           "title": {
            "standoff": 15
           },
           "zerolinecolor": "white",
           "zerolinewidth": 2
          }
         }
        },
        "title": {
         "text": "Interactive Sankey Diagram"
        }
       }
      }
     },
     "metadata": {},
     "output_type": "display_data"
    }
   ],
   "source": [
    "# Create simple data\n",
    "data = pd.DataFrame({\n",
    "    'source': ['A', 'A', 'B', 'B', 'C'],\n",
    "    'target': ['D', 'E', 'D', 'E', 'E'],\n",
    "    'value': [10, 20, 15, 5, 25]\n",
    "})\n",
    "\n",
    "# Create and display\n",
    "diagram = SankeyDiagram(data)\n",
    "diagram.render('source', 'target', 'value').show()"
   ]
  },
  {
   "cell_type": "markdown",
   "id": "16c1ea92",
   "metadata": {},
   "source": [
    "## Example 2: Time Series with Animation"
   ]
  },
  {
   "cell_type": "code",
   "execution_count": null,
   "id": "511c617c",
   "metadata": {},
   "outputs": [
    {
     "data": {
      "application/vnd.plotly.v1+json": {
       "config": {
        "plotlyServerURL": "https://plot.ly"
       },
       "data": [
        {
         "link": {
          "color": [
           "rgba(100, 150, 200, 0.4)",
           "rgba(100, 150, 200, 0.4)",
           "rgba(100, 150, 200, 0.4)",
           "rgba(100, 150, 200, 0.4)",
           "rgba(100, 150, 200, 0.4)",
           "rgba(100, 150, 200, 0.4)"
          ],
          "source": [
           1,
           1,
           2,
           2,
           4,
           4
          ],
          "target": [
           0,
           3,
           0,
           3,
           0,
           3
          ],
          "value": [
           101,
           142,
           64,
           121,
           110,
           70
          ]
         },
         "node": {
          "color": "rgba(100, 150, 200, 0.8)",
          "label": [
           "Residential",
           "Solar",
           "Wind",
           "Commercial",
           "Coal"
          ],
          "line": {
           "color": "black",
           "width": 0.5
          },
          "pad": 15,
          "thickness": 20
         },
         "type": "sankey"
        }
       ],
       "frames": [
        {
         "data": [
          {
           "link": {
            "color": [
             "rgba(100, 150, 200, 0.4)",
             "rgba(100, 150, 200, 0.4)",
             "rgba(100, 150, 200, 0.4)",
             "rgba(100, 150, 200, 0.4)",
             "rgba(100, 150, 200, 0.4)",
             "rgba(100, 150, 200, 0.4)"
            ],
            "source": [
             1,
             1,
             2,
             2,
             4,
             4
            ],
            "target": [
             0,
             3,
             0,
             3,
             0,
             3
            ],
            "value": [
             101,
             142,
             64,
             121,
             110,
             70
            ]
           },
           "node": {
            "color": "rgba(100, 150, 200, 0.8)",
            "label": [
             "Residential",
             "Solar",
             "Wind",
             "Commercial",
             "Coal"
            ],
            "line": {
             "color": "black",
             "width": 0.5
            },
            "pad": 15,
            "thickness": 20
           },
           "type": "sankey"
          }
         ],
         "name": "2024-01-31 00:00:00"
        },
        {
         "data": [
          {
           "link": {
            "color": [
             "rgba(100, 150, 200, 0.4)",
             "rgba(100, 150, 200, 0.4)",
             "rgba(100, 150, 200, 0.4)",
             "rgba(100, 150, 200, 0.4)",
             "rgba(100, 150, 200, 0.4)",
             "rgba(100, 150, 200, 0.4)"
            ],
            "source": [
             1,
             1,
             2,
             2,
             4,
             4
            ],
            "target": [
             0,
             3,
             0,
             3,
             0,
             3
            ],
            "value": [
             132,
             136,
             124,
             124,
             137,
             149
            ]
           },
           "node": {
            "color": "rgba(100, 150, 200, 0.8)",
            "label": [
             "Residential",
             "Solar",
             "Wind",
             "Commercial",
             "Coal"
            ],
            "line": {
             "color": "black",
             "width": 0.5
            },
            "pad": 15,
            "thickness": 20
           },
           "type": "sankey"
          }
         ],
         "name": "2024-02-29 00:00:00"
        },
        {
         "data": [
          {
           "link": {
            "color": [
             "rgba(100, 150, 200, 0.4)",
             "rgba(100, 150, 200, 0.4)",
             "rgba(100, 150, 200, 0.4)",
             "rgba(100, 150, 200, 0.4)",
             "rgba(100, 150, 200, 0.4)",
             "rgba(100, 150, 200, 0.4)"
            ],
            "source": [
             1,
             1,
             2,
             2,
             4,
             4
            ],
            "target": [
             0,
             3,
             0,
             3,
             0,
             3
            ],
            "value": [
             73,
             52,
             71,
             102,
             51,
             137
            ]
           },
           "node": {
            "color": "rgba(100, 150, 200, 0.8)",
            "label": [
             "Residential",
             "Solar",
             "Wind",
             "Commercial",
             "Coal"
            ],
            "line": {
             "color": "black",
             "width": 0.5
            },
            "pad": 15,
            "thickness": 20
           },
           "type": "sankey"
          }
         ],
         "name": "2024-03-31 00:00:00"
        },
        {
         "data": [
          {
           "link": {
            "color": [
             "rgba(100, 150, 200, 0.4)",
             "rgba(100, 150, 200, 0.4)",
             "rgba(100, 150, 200, 0.4)",
             "rgba(100, 150, 200, 0.4)",
             "rgba(100, 150, 200, 0.4)",
             "rgba(100, 150, 200, 0.4)"
            ],
            "source": [
             1,
             1,
             2,
             2,
             4,
             4
            ],
            "target": [
             0,
             3,
             0,
             3,
             0,
             3
            ],
            "value": [
             79,
             87,
             51,
             113,
             109,
             70
            ]
           },
           "node": {
            "color": "rgba(100, 150, 200, 0.8)",
            "label": [
             "Residential",
             "Solar",
             "Wind",
             "Commercial",
             "Coal"
            ],
            "line": {
             "color": "black",
             "width": 0.5
            },
            "pad": 15,
            "thickness": 20
           },
           "type": "sankey"
          }
         ],
         "name": "2024-04-30 00:00:00"
        },
        {
         "data": [
          {
           "link": {
            "color": [
             "rgba(100, 150, 200, 0.4)",
             "rgba(100, 150, 200, 0.4)",
             "rgba(100, 150, 200, 0.4)",
             "rgba(100, 150, 200, 0.4)",
             "rgba(100, 150, 200, 0.4)",
             "rgba(100, 150, 200, 0.4)"
            ],
            "source": [
             1,
             1,
             2,
             2,
             4,
             4
            ],
            "target": [
             0,
             3,
             0,
             3,
             0,
             3
            ],
            "value": [
             82,
             125,
             107,
             71,
             138,
             98
            ]
           },
           "node": {
            "color": "rgba(100, 150, 200, 0.8)",
            "label": [
             "Residential",
             "Solar",
             "Wind",
             "Commercial",
             "Coal"
            ],
            "line": {
             "color": "black",
             "width": 0.5
            },
            "pad": 15,
            "thickness": 20
           },
           "type": "sankey"
          }
         ],
         "name": "2024-05-31 00:00:00"
        },
        {
         "data": [
          {
           "link": {
            "color": [
             "rgba(100, 150, 200, 0.4)",
             "rgba(100, 150, 200, 0.4)",
             "rgba(100, 150, 200, 0.4)",
             "rgba(100, 150, 200, 0.4)",
             "rgba(100, 150, 200, 0.4)",
             "rgba(100, 150, 200, 0.4)"
            ],
            "source": [
             1,
             1,
             2,
             2,
             4,
             4
            ],
            "target": [
             0,
             3,
             0,
             3,
             0,
             3
            ],
            "value": [
             140,
             108,
             91,
             141,
             109,
             129
            ]
           },
           "node": {
            "color": "rgba(100, 150, 200, 0.8)",
            "label": [
             "Residential",
             "Solar",
             "Wind",
             "Commercial",
             "Coal"
            ],
            "line": {
             "color": "black",
             "width": 0.5
            },
            "pad": 15,
            "thickness": 20
           },
           "type": "sankey"
          }
         ],
         "name": "2024-06-30 00:00:00"
        }
       ],
       "layout": {
        "font": {
         "size": 12
        },
        "height": 700,
        "sliders": [
         {
          "active": 0,
          "currentvalue": {
           "prefix": "date: ",
           "visible": true,
           "xanchor": "right"
          },
          "len": 0.9,
          "pad": {
           "b": 10,
           "t": 50
          },
          "steps": [
           {
            "args": [
             [
              "2024-01-31 00:00:00"
             ],
             {
              "frame": {
               "duration": 300,
               "redraw": true
              },
              "mode": "immediate"
             }
            ],
            "label": "2024-01-31 00:00:00",
            "method": "animate"
           },
           {
            "args": [
             [
              "2024-02-29 00:00:00"
             ],
             {
              "frame": {
               "duration": 300,
               "redraw": true
              },
              "mode": "immediate"
             }
            ],
            "label": "2024-02-29 00:00:00",
            "method": "animate"
           },
           {
            "args": [
             [
              "2024-03-31 00:00:00"
             ],
             {
              "frame": {
               "duration": 300,
               "redraw": true
              },
              "mode": "immediate"
             }
            ],
            "label": "2024-03-31 00:00:00",
            "method": "animate"
           },
           {
            "args": [
             [
              "2024-04-30 00:00:00"
             ],
             {
              "frame": {
               "duration": 300,
               "redraw": true
              },
              "mode": "immediate"
             }
            ],
            "label": "2024-04-30 00:00:00",
            "method": "animate"
           },
           {
            "args": [
             [
              "2024-05-31 00:00:00"
             ],
             {
              "frame": {
               "duration": 300,
               "redraw": true
              },
              "mode": "immediate"
             }
            ],
            "label": "2024-05-31 00:00:00",
            "method": "animate"
           },
           {
            "args": [
             [
              "2024-06-30 00:00:00"
             ],
             {
              "frame": {
               "duration": 300,
               "redraw": true
              },
              "mode": "immediate"
             }
            ],
            "label": "2024-06-30 00:00:00",
            "method": "animate"
           }
          ],
          "x": 0.1,
          "xanchor": "left",
          "y": 0,
          "yanchor": "top"
         }
        ],
        "template": {
         "data": {
          "bar": [
           {
            "error_x": {
             "color": "#2a3f5f"
            },
            "error_y": {
             "color": "#2a3f5f"
            },
            "marker": {
             "line": {
              "color": "#E5ECF6",
              "width": 0.5
             },
             "pattern": {
              "fillmode": "overlay",
              "size": 10,
              "solidity": 0.2
             }
            },
            "type": "bar"
           }
          ],
          "barpolar": [
           {
            "marker": {
             "line": {
              "color": "#E5ECF6",
              "width": 0.5
             },
             "pattern": {
              "fillmode": "overlay",
              "size": 10,
              "solidity": 0.2
             }
            },
            "type": "barpolar"
           }
          ],
          "carpet": [
           {
            "aaxis": {
             "endlinecolor": "#2a3f5f",
             "gridcolor": "white",
             "linecolor": "white",
             "minorgridcolor": "white",
             "startlinecolor": "#2a3f5f"
            },
            "baxis": {
             "endlinecolor": "#2a3f5f",
             "gridcolor": "white",
             "linecolor": "white",
             "minorgridcolor": "white",
             "startlinecolor": "#2a3f5f"
            },
            "type": "carpet"
           }
          ],
          "choropleth": [
           {
            "colorbar": {
             "outlinewidth": 0,
             "ticks": ""
            },
            "type": "choropleth"
           }
          ],
          "contour": [
           {
            "colorbar": {
             "outlinewidth": 0,
             "ticks": ""
            },
            "colorscale": [
             [
              0,
              "#0d0887"
             ],
             [
              0.1111111111111111,
              "#46039f"
             ],
             [
              0.2222222222222222,
              "#7201a8"
             ],
             [
              0.3333333333333333,
              "#9c179e"
             ],
             [
              0.4444444444444444,
              "#bd3786"
             ],
             [
              0.5555555555555556,
              "#d8576b"
             ],
             [
              0.6666666666666666,
              "#ed7953"
             ],
             [
              0.7777777777777778,
              "#fb9f3a"
             ],
             [
              0.8888888888888888,
              "#fdca26"
             ],
             [
              1,
              "#f0f921"
             ]
            ],
            "type": "contour"
           }
          ],
          "contourcarpet": [
           {
            "colorbar": {
             "outlinewidth": 0,
             "ticks": ""
            },
            "type": "contourcarpet"
           }
          ],
          "heatmap": [
           {
            "colorbar": {
             "outlinewidth": 0,
             "ticks": ""
            },
            "colorscale": [
             [
              0,
              "#0d0887"
             ],
             [
              0.1111111111111111,
              "#46039f"
             ],
             [
              0.2222222222222222,
              "#7201a8"
             ],
             [
              0.3333333333333333,
              "#9c179e"
             ],
             [
              0.4444444444444444,
              "#bd3786"
             ],
             [
              0.5555555555555556,
              "#d8576b"
             ],
             [
              0.6666666666666666,
              "#ed7953"
             ],
             [
              0.7777777777777778,
              "#fb9f3a"
             ],
             [
              0.8888888888888888,
              "#fdca26"
             ],
             [
              1,
              "#f0f921"
             ]
            ],
            "type": "heatmap"
           }
          ],
          "histogram": [
           {
            "marker": {
             "pattern": {
              "fillmode": "overlay",
              "size": 10,
              "solidity": 0.2
             }
            },
            "type": "histogram"
           }
          ],
          "histogram2d": [
           {
            "colorbar": {
             "outlinewidth": 0,
             "ticks": ""
            },
            "colorscale": [
             [
              0,
              "#0d0887"
             ],
             [
              0.1111111111111111,
              "#46039f"
             ],
             [
              0.2222222222222222,
              "#7201a8"
             ],
             [
              0.3333333333333333,
              "#9c179e"
             ],
             [
              0.4444444444444444,
              "#bd3786"
             ],
             [
              0.5555555555555556,
              "#d8576b"
             ],
             [
              0.6666666666666666,
              "#ed7953"
             ],
             [
              0.7777777777777778,
              "#fb9f3a"
             ],
             [
              0.8888888888888888,
              "#fdca26"
             ],
             [
              1,
              "#f0f921"
             ]
            ],
            "type": "histogram2d"
           }
          ],
          "histogram2dcontour": [
           {
            "colorbar": {
             "outlinewidth": 0,
             "ticks": ""
            },
            "colorscale": [
             [
              0,
              "#0d0887"
             ],
             [
              0.1111111111111111,
              "#46039f"
             ],
             [
              0.2222222222222222,
              "#7201a8"
             ],
             [
              0.3333333333333333,
              "#9c179e"
             ],
             [
              0.4444444444444444,
              "#bd3786"
             ],
             [
              0.5555555555555556,
              "#d8576b"
             ],
             [
              0.6666666666666666,
              "#ed7953"
             ],
             [
              0.7777777777777778,
              "#fb9f3a"
             ],
             [
              0.8888888888888888,
              "#fdca26"
             ],
             [
              1,
              "#f0f921"
             ]
            ],
            "type": "histogram2dcontour"
           }
          ],
          "mesh3d": [
           {
            "colorbar": {
             "outlinewidth": 0,
             "ticks": ""
            },
            "type": "mesh3d"
           }
          ],
          "parcoords": [
           {
            "line": {
             "colorbar": {
              "outlinewidth": 0,
              "ticks": ""
             }
            },
            "type": "parcoords"
           }
          ],
          "pie": [
           {
            "automargin": true,
            "type": "pie"
           }
          ],
          "scatter": [
           {
            "fillpattern": {
             "fillmode": "overlay",
             "size": 10,
             "solidity": 0.2
            },
            "type": "scatter"
           }
          ],
          "scatter3d": [
           {
            "line": {
             "colorbar": {
              "outlinewidth": 0,
              "ticks": ""
             }
            },
            "marker": {
             "colorbar": {
              "outlinewidth": 0,
              "ticks": ""
             }
            },
            "type": "scatter3d"
           }
          ],
          "scattercarpet": [
           {
            "marker": {
             "colorbar": {
              "outlinewidth": 0,
              "ticks": ""
             }
            },
            "type": "scattercarpet"
           }
          ],
          "scattergeo": [
           {
            "marker": {
             "colorbar": {
              "outlinewidth": 0,
              "ticks": ""
             }
            },
            "type": "scattergeo"
           }
          ],
          "scattergl": [
           {
            "marker": {
             "colorbar": {
              "outlinewidth": 0,
              "ticks": ""
             }
            },
            "type": "scattergl"
           }
          ],
          "scattermap": [
           {
            "marker": {
             "colorbar": {
              "outlinewidth": 0,
              "ticks": ""
             }
            },
            "type": "scattermap"
           }
          ],
          "scattermapbox": [
           {
            "marker": {
             "colorbar": {
              "outlinewidth": 0,
              "ticks": ""
             }
            },
            "type": "scattermapbox"
           }
          ],
          "scatterpolar": [
           {
            "marker": {
             "colorbar": {
              "outlinewidth": 0,
              "ticks": ""
             }
            },
            "type": "scatterpolar"
           }
          ],
          "scatterpolargl": [
           {
            "marker": {
             "colorbar": {
              "outlinewidth": 0,
              "ticks": ""
             }
            },
            "type": "scatterpolargl"
           }
          ],
          "scatterternary": [
           {
            "marker": {
             "colorbar": {
              "outlinewidth": 0,
              "ticks": ""
             }
            },
            "type": "scatterternary"
           }
          ],
          "surface": [
           {
            "colorbar": {
             "outlinewidth": 0,
             "ticks": ""
            },
            "colorscale": [
             [
              0,
              "#0d0887"
             ],
             [
              0.1111111111111111,
              "#46039f"
             ],
             [
              0.2222222222222222,
              "#7201a8"
             ],
             [
              0.3333333333333333,
              "#9c179e"
             ],
             [
              0.4444444444444444,
              "#bd3786"
             ],
             [
              0.5555555555555556,
              "#d8576b"
             ],
             [
              0.6666666666666666,
              "#ed7953"
             ],
             [
              0.7777777777777778,
              "#fb9f3a"
             ],
             [
              0.8888888888888888,
              "#fdca26"
             ],
             [
              1,
              "#f0f921"
             ]
            ],
            "type": "surface"
           }
          ],
          "table": [
           {
            "cells": {
             "fill": {
              "color": "#EBF0F8"
             },
             "line": {
              "color": "white"
             }
            },
            "header": {
             "fill": {
              "color": "#C8D4E3"
             },
             "line": {
              "color": "white"
             }
            },
            "type": "table"
           }
          ]
         },
         "layout": {
          "annotationdefaults": {
           "arrowcolor": "#2a3f5f",
           "arrowhead": 0,
           "arrowwidth": 1
          },
          "autotypenumbers": "strict",
          "coloraxis": {
           "colorbar": {
            "outlinewidth": 0,
            "ticks": ""
           }
          },
          "colorscale": {
           "diverging": [
            [
             0,
             "#8e0152"
            ],
            [
             0.1,
             "#c51b7d"
            ],
            [
             0.2,
             "#de77ae"
            ],
            [
             0.3,
             "#f1b6da"
            ],
            [
             0.4,
             "#fde0ef"
            ],
            [
             0.5,
             "#f7f7f7"
            ],
            [
             0.6,
             "#e6f5d0"
            ],
            [
             0.7,
             "#b8e186"
            ],
            [
             0.8,
             "#7fbc41"
            ],
            [
             0.9,
             "#4d9221"
            ],
            [
             1,
             "#276419"
            ]
           ],
           "sequential": [
            [
             0,
             "#0d0887"
            ],
            [
             0.1111111111111111,
             "#46039f"
            ],
            [
             0.2222222222222222,
             "#7201a8"
            ],
            [
             0.3333333333333333,
             "#9c179e"
            ],
            [
             0.4444444444444444,
             "#bd3786"
            ],
            [
             0.5555555555555556,
             "#d8576b"
            ],
            [
             0.6666666666666666,
             "#ed7953"
            ],
            [
             0.7777777777777778,
             "#fb9f3a"
            ],
            [
             0.8888888888888888,
             "#fdca26"
            ],
            [
             1,
             "#f0f921"
            ]
           ],
           "sequentialminus": [
            [
             0,
             "#0d0887"
            ],
            [
             0.1111111111111111,
             "#46039f"
            ],
            [
             0.2222222222222222,
             "#7201a8"
            ],
            [
             0.3333333333333333,
             "#9c179e"
            ],
            [
             0.4444444444444444,
             "#bd3786"
            ],
            [
             0.5555555555555556,
             "#d8576b"
            ],
            [
             0.6666666666666666,
             "#ed7953"
            ],
            [
             0.7777777777777778,
             "#fb9f3a"
            ],
            [
             0.8888888888888888,
             "#fdca26"
            ],
            [
             1,
             "#f0f921"
            ]
           ]
          },
          "colorway": [
           "#636efa",
           "#EF553B",
           "#00cc96",
           "#ab63fa",
           "#FFA15A",
           "#19d3f3",
           "#FF6692",
           "#B6E880",
           "#FF97FF",
           "#FECB52"
          ],
          "font": {
           "color": "#2a3f5f"
          },
          "geo": {
           "bgcolor": "white",
           "lakecolor": "white",
           "landcolor": "#E5ECF6",
           "showlakes": true,
           "showland": true,
           "subunitcolor": "white"
          },
          "hoverlabel": {
           "align": "left"
          },
          "hovermode": "closest",
          "mapbox": {
           "style": "light"
          },
          "paper_bgcolor": "white",
          "plot_bgcolor": "#E5ECF6",
          "polar": {
           "angularaxis": {
            "gridcolor": "white",
            "linecolor": "white",
            "ticks": ""
           },
           "bgcolor": "#E5ECF6",
           "radialaxis": {
            "gridcolor": "white",
            "linecolor": "white",
            "ticks": ""
           }
          },
          "scene": {
           "xaxis": {
            "backgroundcolor": "#E5ECF6",
            "gridcolor": "white",
            "gridwidth": 2,
            "linecolor": "white",
            "showbackground": true,
            "ticks": "",
            "zerolinecolor": "white"
           },
           "yaxis": {
            "backgroundcolor": "#E5ECF6",
            "gridcolor": "white",
            "gridwidth": 2,
            "linecolor": "white",
            "showbackground": true,
            "ticks": "",
            "zerolinecolor": "white"
           },
           "zaxis": {
            "backgroundcolor": "#E5ECF6",
            "gridcolor": "white",
            "gridwidth": 2,
            "linecolor": "white",
            "showbackground": true,
            "ticks": "",
            "zerolinecolor": "white"
           }
          },
          "shapedefaults": {
           "line": {
            "color": "#2a3f5f"
           }
          },
          "ternary": {
           "aaxis": {
            "gridcolor": "white",
            "linecolor": "white",
            "ticks": ""
           },
           "baxis": {
            "gridcolor": "white",
            "linecolor": "white",
            "ticks": ""
           },
           "bgcolor": "#E5ECF6",
           "caxis": {
            "gridcolor": "white",
            "linecolor": "white",
            "ticks": ""
           }
          },
          "title": {
           "x": 0.05
          },
          "xaxis": {
           "automargin": true,
           "gridcolor": "white",
           "linecolor": "white",
           "ticks": "",
           "title": {
            "standoff": 15
           },
           "zerolinecolor": "white",
           "zerolinewidth": 2
          },
          "yaxis": {
           "automargin": true,
           "gridcolor": "white",
           "linecolor": "white",
           "ticks": "",
           "title": {
            "standoff": 15
           },
           "zerolinecolor": "white",
           "zerolinewidth": 2
          }
         }
        },
        "title": {
         "text": "Energy Flows Over Time (Click Play!)"
        },
        "updatemenus": [
         {
          "buttons": [
           {
            "args": [
             null,
             {
              "frame": {
               "duration": 500,
               "redraw": true
              },
              "fromcurrent": true
             }
            ],
            "label": "Play",
            "method": "animate"
           },
           {
            "args": [
             [
              null
             ],
             {
              "frame": {
               "duration": 0,
               "redraw": true
              },
              "mode": "immediate"
             }
            ],
            "label": "Pause",
            "method": "animate"
           }
          ],
          "direction": "left",
          "pad": {
           "r": 10,
           "t": 87
          },
          "showactive": false,
          "type": "buttons",
          "x": 0.1,
          "xanchor": "right",
          "y": 0,
          "yanchor": "top"
         }
        ]
       }
      }
     },
     "metadata": {},
     "output_type": "display_data"
    }
   ],
   "source": [
    "# Create time series data\n",
    "np.random.seed(42)\n",
    "dates = pd.date_range('2024-01', periods=6, freq='ME')\n",
    "sources = ['Solar', 'Wind', 'Coal']\n",
    "targets = ['Residential', 'Commercial']\n",
    "\n",
    "data = []\n",
    "for date in dates:\n",
    "    for source in sources:\n",
    "        for target in targets:\n",
    "            data.append({\n",
    "                'date': date,\n",
    "                'source': source,\n",
    "                'target': target,\n",
    "                'value': np.random.randint(50, 150)\n",
    "            })\n",
    "\n",
    "df = pd.DataFrame(data)\n",
    "\n",
    "# Create animated diagram with smooth transitions\n",
    "diagram = SankeyDiagram(df, time_column='date')\n",
    "diagram.render('source', 'target', 'value', \n",
    "               title=\"Energy Flows Over Time (Click Play!)\",\n",
    "               show_timeline=True,\n",
    "               animation_duration=1200,  # Slower, smoother transitions (in ms)\n",
    "               transition_easing='cubic-in-out').show()  # Smooth easing"
   ]
  },
  {
   "cell_type": "markdown",
   "id": "9944da43",
   "metadata": {},
   "source": [
    "### Animation Speed Options\n",
    "\n",
    "You can control the transition speed and smoothness:\n",
    "- `animation_duration`: Speed in milliseconds (300=fast, 800=normal, 1500=slow)\n",
    "- `transition_easing`: Smoothness style ('linear', 'cubic-in-out', 'elastic', etc.)"
   ]
  },
  {
   "cell_type": "code",
   "execution_count": null,
   "id": "78950586",
   "metadata": {},
   "outputs": [],
   "source": [
    "# Example: Fast animation\n",
    "diagram_fast = SankeyDiagram(df, time_column='date')\n",
    "fig_fast = diagram_fast.render('source', 'target', 'value', \n",
    "                                title=\"⚡ Fast Animation (300ms)\",\n",
    "                                show_timeline=True,\n",
    "                                animation_duration=300,  # Fast!\n",
    "                                transition_easing='linear')\n",
    "fig_fast.show()\n",
    "\n",
    "# Example: Very smooth, slow animation\n",
    "diagram_slow = SankeyDiagram(df, time_column='date')\n",
    "fig_slow = diagram_slow.render('source', 'target', 'value', \n",
    "                                title=\"🐢 Smooth & Slow Animation (1500ms)\",\n",
    "                                show_timeline=True,\n",
    "                                animation_duration=1500,  # Slow and smooth\n",
    "                                transition_easing='cubic-in-out')\n",
    "fig_slow.show()"
   ]
  },
  {
   "cell_type": "markdown",
   "id": "8e15eb3d",
   "metadata": {},
   "source": [
    "## Example 3: With Filters and Histogram Coloring"
   ]
  },
  {
   "cell_type": "code",
   "execution_count": null,
   "id": "bddc09db",
   "metadata": {},
   "outputs": [
    {
     "data": {
      "application/vnd.plotly.v1+json": {
       "config": {
        "plotlyServerURL": "https://plot.ly"
       },
       "data": [
        {
         "link": {
          "color": [
           "rgba(0, 100, 255, 0.5)",
           "rgba(254, 100, 0, 0.5)",
           "rgba(124, 100, 130, 0.5)",
           "rgba(55, 100, 199, 0.5)"
          ],
          "source": [
           1,
           1,
           2,
           4
          ],
          "target": [
           0,
           3,
           3,
           0
          ],
          "value": [
           101,
           142,
           121,
           110
          ]
         },
         "node": {
          "color": "rgba(100, 150, 200, 0.8)",
          "label": [
           "Residential",
           "Solar",
           "Wind",
           "Commercial",
           "Coal"
          ],
          "line": {
           "color": "black",
           "width": 0.5
          },
          "pad": 15,
          "thickness": 20
         },
         "type": "sankey"
        }
       ],
       "frames": [
        {
         "data": [
          {
           "link": {
            "color": [
             "rgba(0, 100, 255, 0.5)",
             "rgba(254, 100, 0, 0.5)",
             "rgba(124, 100, 130, 0.5)",
             "rgba(55, 100, 199, 0.5)"
            ],
            "source": [
             1,
             1,
             2,
             4
            ],
            "target": [
             0,
             3,
             3,
             0
            ],
            "value": [
             101,
             142,
             121,
             110
            ]
           },
           "node": {
            "color": "rgba(100, 150, 200, 0.8)",
            "label": [
             "Residential",
             "Solar",
             "Wind",
             "Commercial",
             "Coal"
            ],
            "line": {
             "color": "black",
             "width": 0.5
            },
            "pad": 15,
            "thickness": 20
           },
           "type": "sankey"
          }
         ],
         "name": "2024-01-31 00:00:00"
        },
        {
         "data": [
          {
           "link": {
            "color": [
             "rgba(81, 100, 173, 0.5)",
             "rgba(122, 100, 132, 0.5)",
             "rgba(0, 100, 255, 0.5)",
             "rgba(0, 100, 255, 0.5)",
             "rgba(132, 100, 122, 0.5)",
             "rgba(254, 100, 0, 0.5)"
            ],
            "source": [
             1,
             1,
             2,
             2,
             4,
             4
            ],
            "target": [
             0,
             3,
             0,
             3,
             0,
             3
            ],
            "value": [
             132,
             136,
             124,
             124,
             137,
             149
            ]
           },
           "node": {
            "color": "rgba(100, 150, 200, 0.8)",
            "label": [
             "Residential",
             "Solar",
             "Wind",
             "Commercial",
             "Coal"
            ],
            "line": {
             "color": "black",
             "width": 0.5
            },
            "pad": 15,
            "thickness": 20
           },
           "type": "sankey"
          }
         ],
         "name": "2024-02-29 00:00:00"
        },
        {
         "data": [
          {
           "link": {
            "color": [
             "rgba(0, 100, 255, 0.5)",
             "rgba(254, 100, 0, 0.5)"
            ],
            "source": [
             2,
             1
            ],
            "target": [
             0,
             0
            ],
            "value": [
             102,
             137
            ]
           },
           "node": {
            "color": "rgba(100, 150, 200, 0.8)",
            "label": [
             "Commercial",
             "Coal",
             "Wind"
            ],
            "line": {
             "color": "black",
             "width": 0.5
            },
            "pad": 15,
            "thickness": 20
           },
           "type": "sankey"
          }
         ],
         "name": "2024-03-31 00:00:00"
        },
        {
         "data": [
          {
           "link": {
            "color": [
             "rgba(0, 100, 255, 0.5)",
             "rgba(254, 100, 0, 0.5)",
             "rgba(215, 100, 39, 0.5)"
            ],
            "source": [
             1,
             2,
             4
            ],
            "target": [
             3,
             3,
             0
            ],
            "value": [
             87,
             113,
             109
            ]
           },
           "node": {
            "color": "rgba(100, 150, 200, 0.8)",
            "label": [
             "Residential",
             "Solar",
             "Wind",
             "Commercial",
             "Coal"
            ],
            "line": {
             "color": "black",
             "width": 0.5
            },
            "pad": 15,
            "thickness": 20
           },
           "type": "sankey"
          }
         ],
         "name": "2024-04-30 00:00:00"
        },
        {
         "data": [
          {
           "link": {
            "color": [
             "rgba(0, 100, 255, 0.5)",
             "rgba(195, 100, 59, 0.5)",
             "rgba(113, 100, 141, 0.5)",
             "rgba(254, 100, 0, 0.5)",
             "rgba(72, 100, 182, 0.5)"
            ],
            "source": [
             1,
             1,
             2,
             4,
             4
            ],
            "target": [
             0,
             3,
             0,
             0,
             3
            ],
            "value": [
             82,
             125,
             107,
             138,
             98
            ]
           },
           "node": {
            "color": "rgba(100, 150, 200, 0.8)",
            "label": [
             "Residential",
             "Solar",
             "Wind",
             "Commercial",
             "Coal"
            ],
            "line": {
             "color": "black",
             "width": 0.5
            },
            "pad": 15,
            "thickness": 20
           },
           "type": "sankey"
          }
         ],
         "name": "2024-05-31 00:00:00"
        },
        {
         "data": [
          {
           "link": {
            "color": [
             "rgba(249, 100, 5, 0.5)",
             "rgba(86, 100, 168, 0.5)",
             "rgba(0, 100, 255, 0.5)",
             "rgba(254, 100, 0, 0.5)",
             "rgba(91, 100, 163, 0.5)",
             "rgba(193, 100, 61, 0.5)"
            ],
            "source": [
             1,
             1,
             2,
             2,
             4,
             4
            ],
            "target": [
             0,
             3,
             0,
             3,
             0,
             3
            ],
            "value": [
             140,
             108,
             91,
             141,
             109,
             129
            ]
           },
           "node": {
            "color": "rgba(100, 150, 200, 0.8)",
            "label": [
             "Residential",
             "Solar",
             "Wind",
             "Commercial",
             "Coal"
            ],
            "line": {
             "color": "black",
             "width": 0.5
            },
            "pad": 15,
            "thickness": 20
           },
           "type": "sankey"
          }
         ],
         "name": "2024-06-30 00:00:00"
        }
       ],
       "layout": {
        "font": {
         "size": 12
        },
        "height": 700,
        "sliders": [
         {
          "active": 0,
          "currentvalue": {
           "prefix": "date: ",
           "visible": true,
           "xanchor": "right"
          },
          "len": 0.9,
          "pad": {
           "b": 10,
           "t": 50
          },
          "steps": [
           {
            "args": [
             [
              "2024-01-31 00:00:00"
             ],
             {
              "frame": {
               "duration": 300,
               "redraw": true
              },
              "mode": "immediate"
             }
            ],
            "label": "2024-01-31 00:00:00",
            "method": "animate"
           },
           {
            "args": [
             [
              "2024-02-29 00:00:00"
             ],
             {
              "frame": {
               "duration": 300,
               "redraw": true
              },
              "mode": "immediate"
             }
            ],
            "label": "2024-02-29 00:00:00",
            "method": "animate"
           },
           {
            "args": [
             [
              "2024-03-31 00:00:00"
             ],
             {
              "frame": {
               "duration": 300,
               "redraw": true
              },
              "mode": "immediate"
             }
            ],
            "label": "2024-03-31 00:00:00",
            "method": "animate"
           },
           {
            "args": [
             [
              "2024-04-30 00:00:00"
             ],
             {
              "frame": {
               "duration": 300,
               "redraw": true
              },
              "mode": "immediate"
             }
            ],
            "label": "2024-04-30 00:00:00",
            "method": "animate"
           },
           {
            "args": [
             [
              "2024-05-31 00:00:00"
             ],
             {
              "frame": {
               "duration": 300,
               "redraw": true
              },
              "mode": "immediate"
             }
            ],
            "label": "2024-05-31 00:00:00",
            "method": "animate"
           },
           {
            "args": [
             [
              "2024-06-30 00:00:00"
             ],
             {
              "frame": {
               "duration": 300,
               "redraw": true
              },
              "mode": "immediate"
             }
            ],
            "label": "2024-06-30 00:00:00",
            "method": "animate"
           }
          ],
          "x": 0.1,
          "xanchor": "left",
          "y": 0,
          "yanchor": "top"
         }
        ],
        "template": {
         "data": {
          "bar": [
           {
            "error_x": {
             "color": "#2a3f5f"
            },
            "error_y": {
             "color": "#2a3f5f"
            },
            "marker": {
             "line": {
              "color": "#E5ECF6",
              "width": 0.5
             },
             "pattern": {
              "fillmode": "overlay",
              "size": 10,
              "solidity": 0.2
             }
            },
            "type": "bar"
           }
          ],
          "barpolar": [
           {
            "marker": {
             "line": {
              "color": "#E5ECF6",
              "width": 0.5
             },
             "pattern": {
              "fillmode": "overlay",
              "size": 10,
              "solidity": 0.2
             }
            },
            "type": "barpolar"
           }
          ],
          "carpet": [
           {
            "aaxis": {
             "endlinecolor": "#2a3f5f",
             "gridcolor": "white",
             "linecolor": "white",
             "minorgridcolor": "white",
             "startlinecolor": "#2a3f5f"
            },
            "baxis": {
             "endlinecolor": "#2a3f5f",
             "gridcolor": "white",
             "linecolor": "white",
             "minorgridcolor": "white",
             "startlinecolor": "#2a3f5f"
            },
            "type": "carpet"
           }
          ],
          "choropleth": [
           {
            "colorbar": {
             "outlinewidth": 0,
             "ticks": ""
            },
            "type": "choropleth"
           }
          ],
          "contour": [
           {
            "colorbar": {
             "outlinewidth": 0,
             "ticks": ""
            },
            "colorscale": [
             [
              0,
              "#0d0887"
             ],
             [
              0.1111111111111111,
              "#46039f"
             ],
             [
              0.2222222222222222,
              "#7201a8"
             ],
             [
              0.3333333333333333,
              "#9c179e"
             ],
             [
              0.4444444444444444,
              "#bd3786"
             ],
             [
              0.5555555555555556,
              "#d8576b"
             ],
             [
              0.6666666666666666,
              "#ed7953"
             ],
             [
              0.7777777777777778,
              "#fb9f3a"
             ],
             [
              0.8888888888888888,
              "#fdca26"
             ],
             [
              1,
              "#f0f921"
             ]
            ],
            "type": "contour"
           }
          ],
          "contourcarpet": [
           {
            "colorbar": {
             "outlinewidth": 0,
             "ticks": ""
            },
            "type": "contourcarpet"
           }
          ],
          "heatmap": [
           {
            "colorbar": {
             "outlinewidth": 0,
             "ticks": ""
            },
            "colorscale": [
             [
              0,
              "#0d0887"
             ],
             [
              0.1111111111111111,
              "#46039f"
             ],
             [
              0.2222222222222222,
              "#7201a8"
             ],
             [
              0.3333333333333333,
              "#9c179e"
             ],
             [
              0.4444444444444444,
              "#bd3786"
             ],
             [
              0.5555555555555556,
              "#d8576b"
             ],
             [
              0.6666666666666666,
              "#ed7953"
             ],
             [
              0.7777777777777778,
              "#fb9f3a"
             ],
             [
              0.8888888888888888,
              "#fdca26"
             ],
             [
              1,
              "#f0f921"
             ]
            ],
            "type": "heatmap"
           }
          ],
          "histogram": [
           {
            "marker": {
             "pattern": {
              "fillmode": "overlay",
              "size": 10,
              "solidity": 0.2
             }
            },
            "type": "histogram"
           }
          ],
          "histogram2d": [
           {
            "colorbar": {
             "outlinewidth": 0,
             "ticks": ""
            },
            "colorscale": [
             [
              0,
              "#0d0887"
             ],
             [
              0.1111111111111111,
              "#46039f"
             ],
             [
              0.2222222222222222,
              "#7201a8"
             ],
             [
              0.3333333333333333,
              "#9c179e"
             ],
             [
              0.4444444444444444,
              "#bd3786"
             ],
             [
              0.5555555555555556,
              "#d8576b"
             ],
             [
              0.6666666666666666,
              "#ed7953"
             ],
             [
              0.7777777777777778,
              "#fb9f3a"
             ],
             [
              0.8888888888888888,
              "#fdca26"
             ],
             [
              1,
              "#f0f921"
             ]
            ],
            "type": "histogram2d"
           }
          ],
          "histogram2dcontour": [
           {
            "colorbar": {
             "outlinewidth": 0,
             "ticks": ""
            },
            "colorscale": [
             [
              0,
              "#0d0887"
             ],
             [
              0.1111111111111111,
              "#46039f"
             ],
             [
              0.2222222222222222,
              "#7201a8"
             ],
             [
              0.3333333333333333,
              "#9c179e"
             ],
             [
              0.4444444444444444,
              "#bd3786"
             ],
             [
              0.5555555555555556,
              "#d8576b"
             ],
             [
              0.6666666666666666,
              "#ed7953"
             ],
             [
              0.7777777777777778,
              "#fb9f3a"
             ],
             [
              0.8888888888888888,
              "#fdca26"
             ],
             [
              1,
              "#f0f921"
             ]
            ],
            "type": "histogram2dcontour"
           }
          ],
          "mesh3d": [
           {
            "colorbar": {
             "outlinewidth": 0,
             "ticks": ""
            },
            "type": "mesh3d"
           }
          ],
          "parcoords": [
           {
            "line": {
             "colorbar": {
              "outlinewidth": 0,
              "ticks": ""
             }
            },
            "type": "parcoords"
           }
          ],
          "pie": [
           {
            "automargin": true,
            "type": "pie"
           }
          ],
          "scatter": [
           {
            "fillpattern": {
             "fillmode": "overlay",
             "size": 10,
             "solidity": 0.2
            },
            "type": "scatter"
           }
          ],
          "scatter3d": [
           {
            "line": {
             "colorbar": {
              "outlinewidth": 0,
              "ticks": ""
             }
            },
            "marker": {
             "colorbar": {
              "outlinewidth": 0,
              "ticks": ""
             }
            },
            "type": "scatter3d"
           }
          ],
          "scattercarpet": [
           {
            "marker": {
             "colorbar": {
              "outlinewidth": 0,
              "ticks": ""
             }
            },
            "type": "scattercarpet"
           }
          ],
          "scattergeo": [
           {
            "marker": {
             "colorbar": {
              "outlinewidth": 0,
              "ticks": ""
             }
            },
            "type": "scattergeo"
           }
          ],
          "scattergl": [
           {
            "marker": {
             "colorbar": {
              "outlinewidth": 0,
              "ticks": ""
             }
            },
            "type": "scattergl"
           }
          ],
          "scattermap": [
           {
            "marker": {
             "colorbar": {
              "outlinewidth": 0,
              "ticks": ""
             }
            },
            "type": "scattermap"
           }
          ],
          "scattermapbox": [
           {
            "marker": {
             "colorbar": {
              "outlinewidth": 0,
              "ticks": ""
             }
            },
            "type": "scattermapbox"
           }
          ],
          "scatterpolar": [
           {
            "marker": {
             "colorbar": {
              "outlinewidth": 0,
              "ticks": ""
             }
            },
            "type": "scatterpolar"
           }
          ],
          "scatterpolargl": [
           {
            "marker": {
             "colorbar": {
              "outlinewidth": 0,
              "ticks": ""
             }
            },
            "type": "scatterpolargl"
           }
          ],
          "scatterternary": [
           {
            "marker": {
             "colorbar": {
              "outlinewidth": 0,
              "ticks": ""
             }
            },
            "type": "scatterternary"
           }
          ],
          "surface": [
           {
            "colorbar": {
             "outlinewidth": 0,
             "ticks": ""
            },
            "colorscale": [
             [
              0,
              "#0d0887"
             ],
             [
              0.1111111111111111,
              "#46039f"
             ],
             [
              0.2222222222222222,
              "#7201a8"
             ],
             [
              0.3333333333333333,
              "#9c179e"
             ],
             [
              0.4444444444444444,
              "#bd3786"
             ],
             [
              0.5555555555555556,
              "#d8576b"
             ],
             [
              0.6666666666666666,
              "#ed7953"
             ],
             [
              0.7777777777777778,
              "#fb9f3a"
             ],
             [
              0.8888888888888888,
              "#fdca26"
             ],
             [
              1,
              "#f0f921"
             ]
            ],
            "type": "surface"
           }
          ],
          "table": [
           {
            "cells": {
             "fill": {
              "color": "#EBF0F8"
             },
             "line": {
              "color": "white"
             }
            },
            "header": {
             "fill": {
              "color": "#C8D4E3"
             },
             "line": {
              "color": "white"
             }
            },
            "type": "table"
           }
          ]
         },
         "layout": {
          "annotationdefaults": {
           "arrowcolor": "#2a3f5f",
           "arrowhead": 0,
           "arrowwidth": 1
          },
          "autotypenumbers": "strict",
          "coloraxis": {
           "colorbar": {
            "outlinewidth": 0,
            "ticks": ""
           }
          },
          "colorscale": {
           "diverging": [
            [
             0,
             "#8e0152"
            ],
            [
             0.1,
             "#c51b7d"
            ],
            [
             0.2,
             "#de77ae"
            ],
            [
             0.3,
             "#f1b6da"
            ],
            [
             0.4,
             "#fde0ef"
            ],
            [
             0.5,
             "#f7f7f7"
            ],
            [
             0.6,
             "#e6f5d0"
            ],
            [
             0.7,
             "#b8e186"
            ],
            [
             0.8,
             "#7fbc41"
            ],
            [
             0.9,
             "#4d9221"
            ],
            [
             1,
             "#276419"
            ]
           ],
           "sequential": [
            [
             0,
             "#0d0887"
            ],
            [
             0.1111111111111111,
             "#46039f"
            ],
            [
             0.2222222222222222,
             "#7201a8"
            ],
            [
             0.3333333333333333,
             "#9c179e"
            ],
            [
             0.4444444444444444,
             "#bd3786"
            ],
            [
             0.5555555555555556,
             "#d8576b"
            ],
            [
             0.6666666666666666,
             "#ed7953"
            ],
            [
             0.7777777777777778,
             "#fb9f3a"
            ],
            [
             0.8888888888888888,
             "#fdca26"
            ],
            [
             1,
             "#f0f921"
            ]
           ],
           "sequentialminus": [
            [
             0,
             "#0d0887"
            ],
            [
             0.1111111111111111,
             "#46039f"
            ],
            [
             0.2222222222222222,
             "#7201a8"
            ],
            [
             0.3333333333333333,
             "#9c179e"
            ],
            [
             0.4444444444444444,
             "#bd3786"
            ],
            [
             0.5555555555555556,
             "#d8576b"
            ],
            [
             0.6666666666666666,
             "#ed7953"
            ],
            [
             0.7777777777777778,
             "#fb9f3a"
            ],
            [
             0.8888888888888888,
             "#fdca26"
            ],
            [
             1,
             "#f0f921"
            ]
           ]
          },
          "colorway": [
           "#636efa",
           "#EF553B",
           "#00cc96",
           "#ab63fa",
           "#FFA15A",
           "#19d3f3",
           "#FF6692",
           "#B6E880",
           "#FF97FF",
           "#FECB52"
          ],
          "font": {
           "color": "#2a3f5f"
          },
          "geo": {
           "bgcolor": "white",
           "lakecolor": "white",
           "landcolor": "#E5ECF6",
           "showlakes": true,
           "showland": true,
           "subunitcolor": "white"
          },
          "hoverlabel": {
           "align": "left"
          },
          "hovermode": "closest",
          "mapbox": {
           "style": "light"
          },
          "paper_bgcolor": "white",
          "plot_bgcolor": "#E5ECF6",
          "polar": {
           "angularaxis": {
            "gridcolor": "white",
            "linecolor": "white",
            "ticks": ""
           },
           "bgcolor": "#E5ECF6",
           "radialaxis": {
            "gridcolor": "white",
            "linecolor": "white",
            "ticks": ""
           }
          },
          "scene": {
           "xaxis": {
            "backgroundcolor": "#E5ECF6",
            "gridcolor": "white",
            "gridwidth": 2,
            "linecolor": "white",
            "showbackground": true,
            "ticks": "",
            "zerolinecolor": "white"
           },
           "yaxis": {
            "backgroundcolor": "#E5ECF6",
            "gridcolor": "white",
            "gridwidth": 2,
            "linecolor": "white",
            "showbackground": true,
            "ticks": "",
            "zerolinecolor": "white"
           },
           "zaxis": {
            "backgroundcolor": "#E5ECF6",
            "gridcolor": "white",
            "gridwidth": 2,
            "linecolor": "white",
            "showbackground": true,
            "ticks": "",
            "zerolinecolor": "white"
           }
          },
          "shapedefaults": {
           "line": {
            "color": "#2a3f5f"
           }
          },
          "ternary": {
           "aaxis": {
            "gridcolor": "white",
            "linecolor": "white",
            "ticks": ""
           },
           "baxis": {
            "gridcolor": "white",
            "linecolor": "white",
            "ticks": ""
           },
           "bgcolor": "#E5ECF6",
           "caxis": {
            "gridcolor": "white",
            "linecolor": "white",
            "ticks": ""
           }
          },
          "title": {
           "x": 0.05
          },
          "xaxis": {
           "automargin": true,
           "gridcolor": "white",
           "linecolor": "white",
           "ticks": "",
           "title": {
            "standoff": 15
           },
           "zerolinecolor": "white",
           "zerolinewidth": 2
          },
          "yaxis": {
           "automargin": true,
           "gridcolor": "white",
           "linecolor": "white",
           "ticks": "",
           "title": {
            "standoff": 15
           },
           "zerolinecolor": "white",
           "zerolinewidth": 2
          }
         }
        },
        "title": {
         "text": "High-Value Flows with Color Gradient"
        },
        "updatemenus": [
         {
          "buttons": [
           {
            "args": [
             null,
             {
              "frame": {
               "duration": 500,
               "redraw": true
              },
              "fromcurrent": true
             }
            ],
            "label": "Play",
            "method": "animate"
           },
           {
            "args": [
             [
              null
             ],
             {
              "frame": {
               "duration": 0,
               "redraw": true
              },
              "mode": "immediate"
             }
            ],
            "label": "Pause",
            "method": "animate"
           }
          ],
          "direction": "left",
          "pad": {
           "r": 10,
           "t": 87
          },
          "showactive": false,
          "type": "buttons",
          "x": 0.1,
          "xanchor": "right",
          "y": 0,
          "yanchor": "top"
         }
        ]
       }
      }
     },
     "metadata": {},
     "output_type": "display_data"
    }
   ],
   "source": [
    "# Add filters\n",
    "diagram = SankeyDiagram(df, time_column='date')\n",
    "diagram.add_filter('high_value', lambda d: d[d['value'] > 80])\n",
    "\n",
    "# Render with histogram coloring and smooth animation\n",
    "diagram.render('source', 'target', 'value',\n",
    "               title=\"High-Value Flows with Color Gradient\",\n",
    "               show_histogram=True,\n",
    "               show_timeline=True,\n",
    "               animation_duration=1000,  # Smooth 1-second transitions\n",
    "               transition_easing='cubic-in-out').show()"
   ]
  },
  {
   "cell_type": "markdown",
   "id": "8b7f9d0e",
   "metadata": {},
   "source": [
    "## That's it! 🎉\n",
    "\n",
    "You now have interactive Sankey diagrams with:\n",
    "- ⏱️ Timeline animation with adjustable speed\n",
    "- 🌈 Value-based coloring\n",
    "- 🔍 Dynamic filters\n",
    "- 🎮 Interactive controls\n",
    "- ✨ Smooth transitions with customizable easing\n",
    "\n",
    "### Animation Speed Tips:\n",
    "- **Fast (300ms)**: Quick transitions, good for presentations\n",
    "- **Normal (800ms)**: Balanced speed and smoothness (default)\n",
    "- **Slow (1200-1500ms)**: Very smooth, easy to follow changes\n",
    "\n",
    "Check out `interactive_demos.ipynb` for more advanced examples!"
   ]
  }
 ],
 "metadata": {
  "kernelspec": {
   "display_name": "Python 3",
   "language": "python",
   "name": "python3"
  },
  "language_info": {
   "codemirror_mode": {
    "name": "ipython",
    "version": 3
   },
   "file_extension": ".py",
   "mimetype": "text/x-python",
   "name": "python",
   "nbconvert_exporter": "python",
   "pygments_lexer": "ipython3",
   "version": "3.12.1"
  }
 },
 "nbformat": 4,
 "nbformat_minor": 5
}
