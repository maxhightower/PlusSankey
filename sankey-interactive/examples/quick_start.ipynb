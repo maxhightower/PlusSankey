{
 "cells": [
  {
   "cell_type": "markdown",
   "id": "bf45e102",
   "metadata": {},
   "source": [
    "# Quick Start - Interactive Sankey Library\n",
    "\n",
    "Get started with interactive Sankey diagrams in just a few lines of code!"
   ]
  },
  {
   "cell_type": "markdown",
   "id": "3df8eed0",
   "metadata": {},
   "source": [
    "## 🔄 Important: Restart Kernel\n",
    "\n",
    "If you see errors about unexpected keyword arguments (like `animation_duration`), please **restart the kernel** to reload the latest library changes:\n",
    "- Click **Kernel → Restart** or use the restart button in the toolbar\n",
    "- Then run all cells from the beginning"
   ]
  },
  {
   "cell_type": "code",
   "execution_count": 1,
   "id": "611c20c1",
   "metadata": {},
   "outputs": [],
   "source": [
    "# Setup\n",
    "import sys\n",
    "sys.path.insert(0, '../src')\n",
    "\n",
    "# Force reload to get latest changes\n",
    "import importlib\n",
    "if 'sankey_interactive' in sys.modules:\n",
    "    importlib.reload(sys.modules['sankey_interactive'])\n",
    "\n",
    "import pandas as pd\n",
    "import numpy as np\n",
    "from sankey_interactive import SankeyDiagram"
   ]
  },
  {
   "cell_type": "markdown",
   "id": "59d5ea2e",
   "metadata": {},
   "source": [
    "## Example 1: Simple Flow Diagram"
   ]
  },
  {
   "cell_type": "code",
   "execution_count": 2,
   "id": "9bba2c2b",
   "metadata": {},
   "outputs": [
    {
     "data": {
      "application/vnd.plotly.v1+json": {
       "config": {
        "plotlyServerURL": "https://plot.ly"
       },
       "data": [
        {
         "link": {
          "color": [
           "rgba(100, 150, 200, 0.4)",
           "rgba(100, 150, 200, 0.4)",
           "rgba(100, 150, 200, 0.4)",
           "rgba(100, 150, 200, 0.4)",
           "rgba(100, 150, 200, 0.4)",
           "rgba(100, 150, 200, 0.4)",
           "rgba(100, 150, 200, 0.4)",
           "rgba(100, 150, 200, 0.4)",
           "rgba(100, 150, 200, 0.4)"
          ],
          "source": [
           2,
           2,
           2,
           1,
           1,
           0,
           7,
           7,
           8
          ],
          "target": [
           1,
           0,
           6,
           7,
           4,
           7,
           8,
           3,
           5
          ],
          "value": [
           45,
           30,
           25,
           40,
           5,
           28,
           35,
           33,
           35
          ]
         },
         "node": {
          "color": "rgba(100, 150, 200, 0.8)",
          "label": [
           "Processing B",
           "Processing A",
           "Raw Materials",
           "Packaging",
           "Quality Check",
           "Shipping",
           "Processing C",
           "Assembly",
           "QA Check"
          ],
          "line": {
           "color": "black",
           "width": 0.5
          },
          "pad": 25,
          "thickness": 20
         },
         "type": "sankey"
        }
       ],
       "layout": {
        "font": {
         "size": 12
        },
        "height": 600,
        "margin": {
         "b": 50,
         "l": 50,
         "r": 50,
         "t": 80
        },
        "paper_bgcolor": "rgba(0,0,0,0)",
        "plot_bgcolor": "rgba(0,0,0,0)",
        "template": {
         "data": {
          "bar": [
           {
            "error_x": {
             "color": "#2a3f5f"
            },
            "error_y": {
             "color": "#2a3f5f"
            },
            "marker": {
             "line": {
              "color": "#E5ECF6",
              "width": 0.5
             },
             "pattern": {
              "fillmode": "overlay",
              "size": 10,
              "solidity": 0.2
             }
            },
            "type": "bar"
           }
          ],
          "barpolar": [
           {
            "marker": {
             "line": {
              "color": "#E5ECF6",
              "width": 0.5
             },
             "pattern": {
              "fillmode": "overlay",
              "size": 10,
              "solidity": 0.2
             }
            },
            "type": "barpolar"
           }
          ],
          "carpet": [
           {
            "aaxis": {
             "endlinecolor": "#2a3f5f",
             "gridcolor": "white",
             "linecolor": "white",
             "minorgridcolor": "white",
             "startlinecolor": "#2a3f5f"
            },
            "baxis": {
             "endlinecolor": "#2a3f5f",
             "gridcolor": "white",
             "linecolor": "white",
             "minorgridcolor": "white",
             "startlinecolor": "#2a3f5f"
            },
            "type": "carpet"
           }
          ],
          "choropleth": [
           {
            "colorbar": {
             "outlinewidth": 0,
             "ticks": ""
            },
            "type": "choropleth"
           }
          ],
          "contour": [
           {
            "colorbar": {
             "outlinewidth": 0,
             "ticks": ""
            },
            "colorscale": [
             [
              0,
              "#0d0887"
             ],
             [
              0.1111111111111111,
              "#46039f"
             ],
             [
              0.2222222222222222,
              "#7201a8"
             ],
             [
              0.3333333333333333,
              "#9c179e"
             ],
             [
              0.4444444444444444,
              "#bd3786"
             ],
             [
              0.5555555555555556,
              "#d8576b"
             ],
             [
              0.6666666666666666,
              "#ed7953"
             ],
             [
              0.7777777777777778,
              "#fb9f3a"
             ],
             [
              0.8888888888888888,
              "#fdca26"
             ],
             [
              1,
              "#f0f921"
             ]
            ],
            "type": "contour"
           }
          ],
          "contourcarpet": [
           {
            "colorbar": {
             "outlinewidth": 0,
             "ticks": ""
            },
            "type": "contourcarpet"
           }
          ],
          "heatmap": [
           {
            "colorbar": {
             "outlinewidth": 0,
             "ticks": ""
            },
            "colorscale": [
             [
              0,
              "#0d0887"
             ],
             [
              0.1111111111111111,
              "#46039f"
             ],
             [
              0.2222222222222222,
              "#7201a8"
             ],
             [
              0.3333333333333333,
              "#9c179e"
             ],
             [
              0.4444444444444444,
              "#bd3786"
             ],
             [
              0.5555555555555556,
              "#d8576b"
             ],
             [
              0.6666666666666666,
              "#ed7953"
             ],
             [
              0.7777777777777778,
              "#fb9f3a"
             ],
             [
              0.8888888888888888,
              "#fdca26"
             ],
             [
              1,
              "#f0f921"
             ]
            ],
            "type": "heatmap"
           }
          ],
          "histogram": [
           {
            "marker": {
             "pattern": {
              "fillmode": "overlay",
              "size": 10,
              "solidity": 0.2
             }
            },
            "type": "histogram"
           }
          ],
          "histogram2d": [
           {
            "colorbar": {
             "outlinewidth": 0,
             "ticks": ""
            },
            "colorscale": [
             [
              0,
              "#0d0887"
             ],
             [
              0.1111111111111111,
              "#46039f"
             ],
             [
              0.2222222222222222,
              "#7201a8"
             ],
             [
              0.3333333333333333,
              "#9c179e"
             ],
             [
              0.4444444444444444,
              "#bd3786"
             ],
             [
              0.5555555555555556,
              "#d8576b"
             ],
             [
              0.6666666666666666,
              "#ed7953"
             ],
             [
              0.7777777777777778,
              "#fb9f3a"
             ],
             [
              0.8888888888888888,
              "#fdca26"
             ],
             [
              1,
              "#f0f921"
             ]
            ],
            "type": "histogram2d"
           }
          ],
          "histogram2dcontour": [
           {
            "colorbar": {
             "outlinewidth": 0,
             "ticks": ""
            },
            "colorscale": [
             [
              0,
              "#0d0887"
             ],
             [
              0.1111111111111111,
              "#46039f"
             ],
             [
              0.2222222222222222,
              "#7201a8"
             ],
             [
              0.3333333333333333,
              "#9c179e"
             ],
             [
              0.4444444444444444,
              "#bd3786"
             ],
             [
              0.5555555555555556,
              "#d8576b"
             ],
             [
              0.6666666666666666,
              "#ed7953"
             ],
             [
              0.7777777777777778,
              "#fb9f3a"
             ],
             [
              0.8888888888888888,
              "#fdca26"
             ],
             [
              1,
              "#f0f921"
             ]
            ],
            "type": "histogram2dcontour"
           }
          ],
          "mesh3d": [
           {
            "colorbar": {
             "outlinewidth": 0,
             "ticks": ""
            },
            "type": "mesh3d"
           }
          ],
          "parcoords": [
           {
            "line": {
             "colorbar": {
              "outlinewidth": 0,
              "ticks": ""
             }
            },
            "type": "parcoords"
           }
          ],
          "pie": [
           {
            "automargin": true,
            "type": "pie"
           }
          ],
          "scatter": [
           {
            "fillpattern": {
             "fillmode": "overlay",
             "size": 10,
             "solidity": 0.2
            },
            "type": "scatter"
           }
          ],
          "scatter3d": [
           {
            "line": {
             "colorbar": {
              "outlinewidth": 0,
              "ticks": ""
             }
            },
            "marker": {
             "colorbar": {
              "outlinewidth": 0,
              "ticks": ""
             }
            },
            "type": "scatter3d"
           }
          ],
          "scattercarpet": [
           {
            "marker": {
             "colorbar": {
              "outlinewidth": 0,
              "ticks": ""
             }
            },
            "type": "scattercarpet"
           }
          ],
          "scattergeo": [
           {
            "marker": {
             "colorbar": {
              "outlinewidth": 0,
              "ticks": ""
             }
            },
            "type": "scattergeo"
           }
          ],
          "scattergl": [
           {
            "marker": {
             "colorbar": {
              "outlinewidth": 0,
              "ticks": ""
             }
            },
            "type": "scattergl"
           }
          ],
          "scattermap": [
           {
            "marker": {
             "colorbar": {
              "outlinewidth": 0,
              "ticks": ""
             }
            },
            "type": "scattermap"
           }
          ],
          "scattermapbox": [
           {
            "marker": {
             "colorbar": {
              "outlinewidth": 0,
              "ticks": ""
             }
            },
            "type": "scattermapbox"
           }
          ],
          "scatterpolar": [
           {
            "marker": {
             "colorbar": {
              "outlinewidth": 0,
              "ticks": ""
             }
            },
            "type": "scatterpolar"
           }
          ],
          "scatterpolargl": [
           {
            "marker": {
             "colorbar": {
              "outlinewidth": 0,
              "ticks": ""
             }
            },
            "type": "scatterpolargl"
           }
          ],
          "scatterternary": [
           {
            "marker": {
             "colorbar": {
              "outlinewidth": 0,
              "ticks": ""
             }
            },
            "type": "scatterternary"
           }
          ],
          "surface": [
           {
            "colorbar": {
             "outlinewidth": 0,
             "ticks": ""
            },
            "colorscale": [
             [
              0,
              "#0d0887"
             ],
             [
              0.1111111111111111,
              "#46039f"
             ],
             [
              0.2222222222222222,
              "#7201a8"
             ],
             [
              0.3333333333333333,
              "#9c179e"
             ],
             [
              0.4444444444444444,
              "#bd3786"
             ],
             [
              0.5555555555555556,
              "#d8576b"
             ],
             [
              0.6666666666666666,
              "#ed7953"
             ],
             [
              0.7777777777777778,
              "#fb9f3a"
             ],
             [
              0.8888888888888888,
              "#fdca26"
             ],
             [
              1,
              "#f0f921"
             ]
            ],
            "type": "surface"
           }
          ],
          "table": [
           {
            "cells": {
             "fill": {
              "color": "#EBF0F8"
             },
             "line": {
              "color": "white"
             }
            },
            "header": {
             "fill": {
              "color": "#C8D4E3"
             },
             "line": {
              "color": "white"
             }
            },
            "type": "table"
           }
          ]
         },
         "layout": {
          "annotationdefaults": {
           "arrowcolor": "#2a3f5f",
           "arrowhead": 0,
           "arrowwidth": 1
          },
          "autotypenumbers": "strict",
          "coloraxis": {
           "colorbar": {
            "outlinewidth": 0,
            "ticks": ""
           }
          },
          "colorscale": {
           "diverging": [
            [
             0,
             "#8e0152"
            ],
            [
             0.1,
             "#c51b7d"
            ],
            [
             0.2,
             "#de77ae"
            ],
            [
             0.3,
             "#f1b6da"
            ],
            [
             0.4,
             "#fde0ef"
            ],
            [
             0.5,
             "#f7f7f7"
            ],
            [
             0.6,
             "#e6f5d0"
            ],
            [
             0.7,
             "#b8e186"
            ],
            [
             0.8,
             "#7fbc41"
            ],
            [
             0.9,
             "#4d9221"
            ],
            [
             1,
             "#276419"
            ]
           ],
           "sequential": [
            [
             0,
             "#0d0887"
            ],
            [
             0.1111111111111111,
             "#46039f"
            ],
            [
             0.2222222222222222,
             "#7201a8"
            ],
            [
             0.3333333333333333,
             "#9c179e"
            ],
            [
             0.4444444444444444,
             "#bd3786"
            ],
            [
             0.5555555555555556,
             "#d8576b"
            ],
            [
             0.6666666666666666,
             "#ed7953"
            ],
            [
             0.7777777777777778,
             "#fb9f3a"
            ],
            [
             0.8888888888888888,
             "#fdca26"
            ],
            [
             1,
             "#f0f921"
            ]
           ],
           "sequentialminus": [
            [
             0,
             "#0d0887"
            ],
            [
             0.1111111111111111,
             "#46039f"
            ],
            [
             0.2222222222222222,
             "#7201a8"
            ],
            [
             0.3333333333333333,
             "#9c179e"
            ],
            [
             0.4444444444444444,
             "#bd3786"
            ],
            [
             0.5555555555555556,
             "#d8576b"
            ],
            [
             0.6666666666666666,
             "#ed7953"
            ],
            [
             0.7777777777777778,
             "#fb9f3a"
            ],
            [
             0.8888888888888888,
             "#fdca26"
            ],
            [
             1,
             "#f0f921"
            ]
           ]
          },
          "colorway": [
           "#636efa",
           "#EF553B",
           "#00cc96",
           "#ab63fa",
           "#FFA15A",
           "#19d3f3",
           "#FF6692",
           "#B6E880",
           "#FF97FF",
           "#FECB52"
          ],
          "font": {
           "color": "#2a3f5f"
          },
          "geo": {
           "bgcolor": "white",
           "lakecolor": "white",
           "landcolor": "#E5ECF6",
           "showlakes": true,
           "showland": true,
           "subunitcolor": "white"
          },
          "hoverlabel": {
           "align": "left"
          },
          "hovermode": "closest",
          "mapbox": {
           "style": "light"
          },
          "paper_bgcolor": "white",
          "plot_bgcolor": "#E5ECF6",
          "polar": {
           "angularaxis": {
            "gridcolor": "white",
            "linecolor": "white",
            "ticks": ""
           },
           "bgcolor": "#E5ECF6",
           "radialaxis": {
            "gridcolor": "white",
            "linecolor": "white",
            "ticks": ""
           }
          },
          "scene": {
           "xaxis": {
            "backgroundcolor": "#E5ECF6",
            "gridcolor": "white",
            "gridwidth": 2,
            "linecolor": "white",
            "showbackground": true,
            "ticks": "",
            "zerolinecolor": "white"
           },
           "yaxis": {
            "backgroundcolor": "#E5ECF6",
            "gridcolor": "white",
            "gridwidth": 2,
            "linecolor": "white",
            "showbackground": true,
            "ticks": "",
            "zerolinecolor": "white"
           },
           "zaxis": {
            "backgroundcolor": "#E5ECF6",
            "gridcolor": "white",
            "gridwidth": 2,
            "linecolor": "white",
            "showbackground": true,
            "ticks": "",
            "zerolinecolor": "white"
           }
          },
          "shapedefaults": {
           "line": {
            "color": "#2a3f5f"
           }
          },
          "ternary": {
           "aaxis": {
            "gridcolor": "white",
            "linecolor": "white",
            "ticks": ""
           },
           "baxis": {
            "gridcolor": "white",
            "linecolor": "white",
            "ticks": ""
           },
           "bgcolor": "#E5ECF6",
           "caxis": {
            "gridcolor": "white",
            "linecolor": "white",
            "ticks": ""
           }
          },
          "title": {
           "x": 0.05
          },
          "xaxis": {
           "automargin": true,
           "gridcolor": "white",
           "linecolor": "white",
           "ticks": "",
           "title": {
            "standoff": 15
           },
           "zerolinecolor": "white",
           "zerolinewidth": 2
          },
          "yaxis": {
           "automargin": true,
           "gridcolor": "white",
           "linecolor": "white",
           "ticks": "",
           "title": {
            "standoff": 15
           },
           "zerolinecolor": "white",
           "zerolinewidth": 2
          }
         }
        },
        "title": {
         "text": "Manufacturing Process Flow"
        }
       }
      }
     },
     "metadata": {},
     "output_type": "display_data"
    }
   ],
   "source": [
    "# Create simple data with multiple stages\n",
    "data = pd.DataFrame({\n",
    "    'source': ['Raw Materials', 'Raw Materials', 'Raw Materials', \n",
    "               'Processing A', 'Processing A', 'Processing B', \n",
    "               'Assembly', 'Assembly', 'QA Check'],\n",
    "    'target': ['Processing A', 'Processing B', 'Processing C',\n",
    "               'Assembly', 'Quality Check', 'Assembly',\n",
    "               'QA Check', 'Packaging', 'Shipping'],\n",
    "    'value': [45, 30, 25, 40, 5, 28, 35, 33, 35]\n",
    "})\n",
    "\n",
    "# Create and display\n",
    "diagram = SankeyDiagram(data)\n",
    "diagram.render('source', 'target', 'value', \n",
    "               title='Manufacturing Process Flow').show()"
   ]
  },
  {
   "cell_type": "markdown",
   "id": "16c1ea92",
   "metadata": {},
   "source": [
    "## Example 2: Time Series with Animation"
   ]
  },
  {
   "cell_type": "code",
   "execution_count": 3,
   "id": "511c617c",
   "metadata": {},
   "outputs": [
    {
     "data": {
      "application/vnd.plotly.v1+json": {
       "config": {
        "plotlyServerURL": "https://plot.ly"
       },
       "data": [
        {
         "link": {
          "color": [
           "rgba(100, 150, 200, 0.4)",
           "rgba(100, 150, 200, 0.4)",
           "rgba(100, 150, 200, 0.4)",
           "rgba(100, 150, 200, 0.4)",
           "rgba(100, 150, 200, 0.4)",
           "rgba(100, 150, 200, 0.4)",
           "rgba(100, 150, 200, 0.4)",
           "rgba(100, 150, 200, 0.4)",
           "rgba(100, 150, 200, 0.4)",
           "rgba(100, 150, 200, 0.4)",
           "rgba(100, 150, 200, 0.4)",
           "rgba(100, 150, 200, 0.4)",
           "rgba(100, 150, 200, 0.4)",
           "rgba(100, 150, 200, 0.4)",
           "rgba(100, 150, 200, 0.4)",
           "rgba(100, 150, 200, 0.4)",
           "rgba(100, 150, 200, 0.4)",
           "rgba(100, 150, 200, 0.4)",
           "rgba(100, 150, 200, 0.4)",
           "rgba(100, 150, 200, 0.4)",
           "rgba(100, 150, 200, 0.4)",
           "rgba(100, 150, 200, 0.4)",
           "rgba(100, 150, 200, 0.4)",
           "rgba(100, 150, 200, 0.4)",
           "rgba(100, 150, 200, 0.4)",
           "rgba(100, 150, 200, 0.4)",
           "rgba(100, 150, 200, 0.4)",
           "rgba(100, 150, 200, 0.4)",
           "rgba(100, 150, 200, 0.4)",
           "rgba(100, 150, 200, 0.4)",
           "rgba(100, 150, 200, 0.4)",
           "rgba(100, 150, 200, 0.4)",
           "rgba(100, 150, 200, 0.4)",
           "rgba(100, 150, 200, 0.4)",
           "rgba(100, 150, 200, 0.4)",
           "rgba(100, 150, 200, 0.4)",
           "rgba(100, 150, 200, 0.4)",
           "rgba(100, 150, 200, 0.4)",
           "rgba(100, 150, 200, 0.4)",
           "rgba(100, 150, 200, 0.4)",
           "rgba(100, 150, 200, 0.4)",
           "rgba(100, 150, 200, 0.4)",
           "rgba(100, 150, 200, 0.4)",
           "rgba(100, 150, 200, 0.4)",
           "rgba(100, 150, 200, 0.4)"
          ],
          "source": [
           6,
           6,
           6,
           0,
           0,
           0,
           2,
           2,
           2,
           8,
           8,
           8,
           5,
           5,
           5,
           7,
           7,
           7,
           4,
           4,
           4,
           15,
           15,
           15,
           14,
           14,
           14,
           10,
           10,
           10,
           16,
           16,
           16,
           1,
           1,
           1,
           1,
           12,
           12,
           12,
           12,
           13,
           13,
           13,
           13
          ],
          "target": [
           7,
           4,
           15,
           7,
           4,
           15,
           7,
           4,
           15,
           7,
           4,
           15,
           7,
           4,
           15,
           14,
           10,
           16,
           14,
           10,
           16,
           14,
           10,
           16,
           1,
           12,
           13,
           1,
           12,
           13,
           1,
           12,
           13,
           9,
           3,
           13,
           11,
           9,
           3,
           13,
           11,
           9,
           3,
           13,
           11
          ],
          "value": [
           18.9963209507789,
           23.60571445127933,
           104.90856736555794,
           15.59195090518222,
           12.93611184265462,
           76.05187317967574,
           49.39400669203679,
           45.85881833239896,
           41.61784018789134,
           32.49687093355255,
           72.7410417946489,
           35.63891822594393,
           33.98931168960506,
           79.64420798441795,
           26.18189960648521,
           24.30128117736181,
           44.12726728878613,
           30.445615769380282,
           28.775010335558086,
           26.242124523564755,
           106.71117368334278,
           47.0217789834735,
           26.258603673633928,
           27.59451317928645,
           62.8034992108518,
           79.25879806965068,
           49.98368910791799,
           65.71172192068059,
           69.62072844310212,
           42.32252063599989,
           70.37724259507192,
           48.526206184364575,
           43.25257964926398,
           82.56879504309332,
           83.03769692608765,
           33.70076817739753,
           27.65536523008045,
           41.95344228012768,
           32.21079631814588,
           29.281829924875215,
           25.464458818137345,
           29.942122921335244,
           24.41266225338262,
           93.09825286652102,
           27.105359779200203
          ]
         },
         "node": {
          "color": "rgba(100, 150, 200, 0.8)",
          "label": [
           "Wind",
           "Urban Grid",
           "Hydro",
           "Commercial",
           "Base Load",
           "Nuclear",
           "Solar",
           "Peak",
           "Coal",
           "Residential",
           "Pumped Hydro",
           "Transport",
           "Rural Grid",
           "Industrial",
           "Battery",
           "Variable",
           "Direct Grid"
          ],
          "line": {
           "color": "black",
           "width": 0.5
          },
          "pad": 25,
          "thickness": 20
         },
         "type": "sankey"
        }
       ],
       "frames": [
        {
         "data": [
          {
           "link": {
            "color": [
             "rgba(100, 150, 200, 0.4)",
             "rgba(100, 150, 200, 0.4)",
             "rgba(100, 150, 200, 0.4)",
             "rgba(100, 150, 200, 0.4)",
             "rgba(100, 150, 200, 0.4)",
             "rgba(100, 150, 200, 0.4)",
             "rgba(100, 150, 200, 0.4)",
             "rgba(100, 150, 200, 0.4)",
             "rgba(100, 150, 200, 0.4)",
             "rgba(100, 150, 200, 0.4)",
             "rgba(100, 150, 200, 0.4)",
             "rgba(100, 150, 200, 0.4)",
             "rgba(100, 150, 200, 0.4)",
             "rgba(100, 150, 200, 0.4)",
             "rgba(100, 150, 200, 0.4)",
             "rgba(100, 150, 200, 0.4)",
             "rgba(100, 150, 200, 0.4)",
             "rgba(100, 150, 200, 0.4)",
             "rgba(100, 150, 200, 0.4)",
             "rgba(100, 150, 200, 0.4)",
             "rgba(100, 150, 200, 0.4)",
             "rgba(100, 150, 200, 0.4)",
             "rgba(100, 150, 200, 0.4)",
             "rgba(100, 150, 200, 0.4)",
             "rgba(100, 150, 200, 0.4)",
             "rgba(100, 150, 200, 0.4)",
             "rgba(100, 150, 200, 0.4)",
             "rgba(100, 150, 200, 0.4)",
             "rgba(100, 150, 200, 0.4)",
             "rgba(100, 150, 200, 0.4)",
             "rgba(100, 150, 200, 0.4)",
             "rgba(100, 150, 200, 0.4)",
             "rgba(100, 150, 200, 0.4)",
             "rgba(100, 150, 200, 0.4)",
             "rgba(100, 150, 200, 0.4)",
             "rgba(100, 150, 200, 0.4)",
             "rgba(100, 150, 200, 0.4)",
             "rgba(100, 150, 200, 0.4)",
             "rgba(100, 150, 200, 0.4)",
             "rgba(100, 150, 200, 0.4)",
             "rgba(100, 150, 200, 0.4)",
             "rgba(100, 150, 200, 0.4)",
             "rgba(100, 150, 200, 0.4)",
             "rgba(100, 150, 200, 0.4)",
             "rgba(100, 150, 200, 0.4)"
            ],
            "source": [
             6,
             6,
             6,
             0,
             0,
             0,
             2,
             2,
             2,
             8,
             8,
             8,
             5,
             5,
             5,
             7,
             7,
             7,
             4,
             4,
             4,
             15,
             15,
             15,
             14,
             14,
             14,
             10,
             10,
             10,
             16,
             16,
             16,
             1,
             1,
             1,
             1,
             12,
             12,
             12,
             12,
             13,
             13,
             13,
             13
            ],
            "target": [
             7,
             4,
             15,
             7,
             4,
             15,
             7,
             4,
             15,
             7,
             4,
             15,
             7,
             4,
             15,
             14,
             10,
             16,
             14,
             10,
             16,
             14,
             10,
             16,
             1,
             12,
             13,
             1,
             12,
             13,
             1,
             12,
             13,
             9,
             3,
             13,
             11,
             9,
             3,
             13,
             11,
             9,
             3,
             13,
             11
            ],
            "value": [
             18.9963209507789,
             23.60571445127933,
             104.90856736555794,
             15.59195090518222,
             12.93611184265462,
             76.05187317967574,
             49.39400669203679,
             45.85881833239896,
             41.61784018789134,
             32.49687093355255,
             72.7410417946489,
             35.63891822594393,
             33.98931168960506,
             79.64420798441795,
             26.18189960648521,
             24.30128117736181,
             44.12726728878613,
             30.445615769380282,
             28.775010335558086,
             26.242124523564755,
             106.71117368334278,
             47.0217789834735,
             26.258603673633928,
             27.59451317928645,
             62.8034992108518,
             79.25879806965068,
             49.98368910791799,
             65.71172192068059,
             69.62072844310212,
             42.32252063599989,
             70.37724259507192,
             48.526206184364575,
             43.25257964926398,
             82.56879504309332,
             83.03769692608765,
             33.70076817739753,
             27.65536523008045,
             41.95344228012768,
             32.21079631814588,
             29.281829924875215,
             25.464458818137345,
             29.942122921335244,
             24.41266225338262,
             93.09825286652102,
             27.105359779200203
            ]
           },
           "node": {
            "color": "rgba(100, 150, 200, 0.8)",
            "label": [
             "Wind",
             "Urban Grid",
             "Hydro",
             "Commercial",
             "Base Load",
             "Nuclear",
             "Solar",
             "Peak",
             "Coal",
             "Residential",
             "Pumped Hydro",
             "Transport",
             "Rural Grid",
             "Industrial",
             "Battery",
             "Variable",
             "Direct Grid"
            ],
            "line": {
             "color": "black",
             "width": 0.5
            },
            "pad": 25,
            "thickness": 20
           },
           "type": "sankey"
          }
         ],
         "name": "2024-01-31 00:00:00"
        },
        {
         "data": [
          {
           "link": {
            "color": [
             "rgba(100, 150, 200, 0.4)",
             "rgba(100, 150, 200, 0.4)",
             "rgba(100, 150, 200, 0.4)",
             "rgba(100, 150, 200, 0.4)",
             "rgba(100, 150, 200, 0.4)",
             "rgba(100, 150, 200, 0.4)",
             "rgba(100, 150, 200, 0.4)",
             "rgba(100, 150, 200, 0.4)",
             "rgba(100, 150, 200, 0.4)",
             "rgba(100, 150, 200, 0.4)",
             "rgba(100, 150, 200, 0.4)",
             "rgba(100, 150, 200, 0.4)",
             "rgba(100, 150, 200, 0.4)",
             "rgba(100, 150, 200, 0.4)",
             "rgba(100, 150, 200, 0.4)",
             "rgba(100, 150, 200, 0.4)",
             "rgba(100, 150, 200, 0.4)",
             "rgba(100, 150, 200, 0.4)",
             "rgba(100, 150, 200, 0.4)",
             "rgba(100, 150, 200, 0.4)",
             "rgba(100, 150, 200, 0.4)",
             "rgba(100, 150, 200, 0.4)",
             "rgba(100, 150, 200, 0.4)",
             "rgba(100, 150, 200, 0.4)",
             "rgba(100, 150, 200, 0.4)",
             "rgba(100, 150, 200, 0.4)",
             "rgba(100, 150, 200, 0.4)",
             "rgba(100, 150, 200, 0.4)",
             "rgba(100, 150, 200, 0.4)",
             "rgba(100, 150, 200, 0.4)",
             "rgba(100, 150, 200, 0.4)",
             "rgba(100, 150, 200, 0.4)",
             "rgba(100, 150, 200, 0.4)",
             "rgba(100, 150, 200, 0.4)",
             "rgba(100, 150, 200, 0.4)",
             "rgba(100, 150, 200, 0.4)",
             "rgba(100, 150, 200, 0.4)",
             "rgba(100, 150, 200, 0.4)",
             "rgba(100, 150, 200, 0.4)",
             "rgba(100, 150, 200, 0.4)",
             "rgba(100, 150, 200, 0.4)",
             "rgba(100, 150, 200, 0.4)",
             "rgba(100, 150, 200, 0.4)",
             "rgba(100, 150, 200, 0.4)",
             "rgba(100, 150, 200, 0.4)"
            ],
            "source": [
             6,
             6,
             6,
             0,
             0,
             0,
             2,
             2,
             2,
             8,
             8,
             8,
             5,
             5,
             5,
             7,
             7,
             7,
             4,
             4,
             4,
             15,
             15,
             15,
             14,
             14,
             14,
             10,
             10,
             10,
             16,
             16,
             16,
             1,
             1,
             1,
             1,
             12,
             12,
             12,
             12,
             13,
             13,
             13,
             13
            ],
            "target": [
             7,
             4,
             15,
             7,
             4,
             15,
             7,
             4,
             15,
             7,
             4,
             15,
             7,
             4,
             15,
             14,
             10,
             16,
             14,
             10,
             16,
             14,
             10,
             16,
             1,
             12,
             13,
             1,
             12,
             13,
             1,
             12,
             13,
             9,
             3,
             13,
             11,
             9,
             3,
             13,
             11,
             9,
             3,
             13,
             11
            ],
            "value": [
             21.300178274831858,
             18.49368860871529,
             108.57744612543094,
             15.280261676059677,
             13.109126733153163,
             95.6206250140188,
             66.60318776066674,
             47.03198306502703,
             46.31723760684238,
             31.174799745733022,
             105.18747246083221,
             25.061910024623035,
             26.351794349029742,
             73.62818240077938,
             27.90396396915917,
             27.996191214410675,
             43.14047095321688,
             35.917275164734725,
             27.421559880484605,
             26.056821174372857,
             102.56176498949489,
             47.07327209909145,
             35.439545653572715,
             22.341911586235874,
             89.34434683002587,
             78.61223846483287,
             49.93578407670862,
             40.27610585618012,
             80.77307142274171,
             75.34286719238085,
             76.45035840204937,
             78.56351733429729,
             43.70223258670452,
             66.03704039923963,
             59.24433366670363,
             34.35724111050712,
             31.479577521930693,
             46.617960497052984,
             24.762700203432285,
             27.731787860587946,
             27.902199864320963,
             32.75527414005677,
             31.650689656262557,
             92.39080776244245,
             29.66657910194339
            ]
           },
           "node": {
            "color": "rgba(100, 150, 200, 0.8)",
            "label": [
             "Wind",
             "Urban Grid",
             "Hydro",
             "Commercial",
             "Base Load",
             "Nuclear",
             "Solar",
             "Peak",
             "Coal",
             "Residential",
             "Pumped Hydro",
             "Transport",
             "Rural Grid",
             "Industrial",
             "Battery",
             "Variable",
             "Direct Grid"
            ],
            "line": {
             "color": "black",
             "width": 0.5
            },
            "pad": 25,
            "thickness": 20
           },
           "type": "sankey"
          }
         ],
         "name": "2024-02-29 00:00:00"
        },
        {
         "data": [
          {
           "link": {
            "color": [
             "rgba(100, 150, 200, 0.4)",
             "rgba(100, 150, 200, 0.4)",
             "rgba(100, 150, 200, 0.4)",
             "rgba(100, 150, 200, 0.4)",
             "rgba(100, 150, 200, 0.4)",
             "rgba(100, 150, 200, 0.4)",
             "rgba(100, 150, 200, 0.4)",
             "rgba(100, 150, 200, 0.4)",
             "rgba(100, 150, 200, 0.4)",
             "rgba(100, 150, 200, 0.4)",
             "rgba(100, 150, 200, 0.4)",
             "rgba(100, 150, 200, 0.4)",
             "rgba(100, 150, 200, 0.4)",
             "rgba(100, 150, 200, 0.4)",
             "rgba(100, 150, 200, 0.4)",
             "rgba(100, 150, 200, 0.4)",
             "rgba(100, 150, 200, 0.4)",
             "rgba(100, 150, 200, 0.4)",
             "rgba(100, 150, 200, 0.4)",
             "rgba(100, 150, 200, 0.4)",
             "rgba(100, 150, 200, 0.4)",
             "rgba(100, 150, 200, 0.4)",
             "rgba(100, 150, 200, 0.4)",
             "rgba(100, 150, 200, 0.4)",
             "rgba(100, 150, 200, 0.4)",
             "rgba(100, 150, 200, 0.4)",
             "rgba(100, 150, 200, 0.4)",
             "rgba(100, 150, 200, 0.4)",
             "rgba(100, 150, 200, 0.4)",
             "rgba(100, 150, 200, 0.4)",
             "rgba(100, 150, 200, 0.4)",
             "rgba(100, 150, 200, 0.4)",
             "rgba(100, 150, 200, 0.4)",
             "rgba(100, 150, 200, 0.4)",
             "rgba(100, 150, 200, 0.4)",
             "rgba(100, 150, 200, 0.4)",
             "rgba(100, 150, 200, 0.4)",
             "rgba(100, 150, 200, 0.4)",
             "rgba(100, 150, 200, 0.4)",
             "rgba(100, 150, 200, 0.4)",
             "rgba(100, 150, 200, 0.4)",
             "rgba(100, 150, 200, 0.4)",
             "rgba(100, 150, 200, 0.4)",
             "rgba(100, 150, 200, 0.4)",
             "rgba(100, 150, 200, 0.4)"
            ],
            "source": [
             6,
             6,
             6,
             0,
             0,
             0,
             2,
             2,
             2,
             8,
             8,
             8,
             5,
             5,
             5,
             7,
             7,
             7,
             4,
             4,
             4,
             15,
             15,
             15,
             14,
             14,
             14,
             10,
             10,
             10,
             16,
             16,
             16,
             1,
             1,
             1,
             1,
             12,
             12,
             12,
             12,
             13,
             13,
             13,
             13
            ],
            "target": [
             7,
             4,
             15,
             7,
             4,
             15,
             7,
             4,
             15,
             7,
             4,
             15,
             7,
             4,
             15,
             14,
             10,
             16,
             14,
             10,
             16,
             14,
             10,
             16,
             1,
             12,
             13,
             1,
             12,
             13,
             1,
             12,
             13,
             9,
             3,
             13,
             11,
             9,
             3,
             13,
             11,
             9,
             3,
             13,
             11
            ],
            "value": [
             16.956753967506415,
             21.70595829778396,
             123.68317017803699,
             15.367663185416978,
             16.625803079727365,
             69.82627669820295,
             60.54558790516786,
             38.84065629373679,
             32.40670602790552,
             25.294697123919654,
             73.13145068472244,
             31.636924935165364,
             27.77227177291592,
             90.3085448819293,
             34.89079768711312,
             25.487260124679747,
             47.31148769106889,
             34.599920493774874,
             25.118366978849203,
             22.385638376918273,
             87.38508717482608,
             47.803966341144154,
             37.73455774216632,
             35.5461668321595,
             71.67018782552117,
             83.57302950938589,
             80.18360384495573,
             49.32850294430179,
             84.62794992449889,
             66.96711209578254,
             80.37200775820313,
             84.80456499617466,
             55.90017374859319,
             59.08145388677495,
             62.38218455117437,
             29.125293463515074,
             33.81617719106992,
             57.21461166512687,
             24.083425566374288,
             30.128967630930788,
             29.008932037785346,
             26.665293725648766,
             25.438384408004193,
             74.8036854849161,
             35.31491644695023
            ]
           },
           "node": {
            "color": "rgba(100, 150, 200, 0.8)",
            "label": [
             "Wind",
             "Urban Grid",
             "Hydro",
             "Commercial",
             "Base Load",
             "Nuclear",
             "Solar",
             "Peak",
             "Coal",
             "Residential",
             "Pumped Hydro",
             "Transport",
             "Rural Grid",
             "Industrial",
             "Battery",
             "Variable",
             "Direct Grid"
            ],
            "line": {
             "color": "black",
             "width": 0.5
            },
            "pad": 25,
            "thickness": 20
           },
           "type": "sankey"
          }
         ],
         "name": "2024-03-31 00:00:00"
        },
        {
         "data": [
          {
           "link": {
            "color": [
             "rgba(100, 150, 200, 0.4)",
             "rgba(100, 150, 200, 0.4)",
             "rgba(100, 150, 200, 0.4)",
             "rgba(100, 150, 200, 0.4)",
             "rgba(100, 150, 200, 0.4)",
             "rgba(100, 150, 200, 0.4)",
             "rgba(100, 150, 200, 0.4)",
             "rgba(100, 150, 200, 0.4)",
             "rgba(100, 150, 200, 0.4)",
             "rgba(100, 150, 200, 0.4)",
             "rgba(100, 150, 200, 0.4)",
             "rgba(100, 150, 200, 0.4)",
             "rgba(100, 150, 200, 0.4)",
             "rgba(100, 150, 200, 0.4)",
             "rgba(100, 150, 200, 0.4)",
             "rgba(100, 150, 200, 0.4)",
             "rgba(100, 150, 200, 0.4)",
             "rgba(100, 150, 200, 0.4)",
             "rgba(100, 150, 200, 0.4)",
             "rgba(100, 150, 200, 0.4)",
             "rgba(100, 150, 200, 0.4)",
             "rgba(100, 150, 200, 0.4)",
             "rgba(100, 150, 200, 0.4)",
             "rgba(100, 150, 200, 0.4)",
             "rgba(100, 150, 200, 0.4)",
             "rgba(100, 150, 200, 0.4)",
             "rgba(100, 150, 200, 0.4)",
             "rgba(100, 150, 200, 0.4)",
             "rgba(100, 150, 200, 0.4)",
             "rgba(100, 150, 200, 0.4)",
             "rgba(100, 150, 200, 0.4)",
             "rgba(100, 150, 200, 0.4)",
             "rgba(100, 150, 200, 0.4)",
             "rgba(100, 150, 200, 0.4)",
             "rgba(100, 150, 200, 0.4)",
             "rgba(100, 150, 200, 0.4)",
             "rgba(100, 150, 200, 0.4)",
             "rgba(100, 150, 200, 0.4)",
             "rgba(100, 150, 200, 0.4)",
             "rgba(100, 150, 200, 0.4)",
             "rgba(100, 150, 200, 0.4)",
             "rgba(100, 150, 200, 0.4)",
             "rgba(100, 150, 200, 0.4)",
             "rgba(100, 150, 200, 0.4)",
             "rgba(100, 150, 200, 0.4)"
            ],
            "source": [
             6,
             6,
             6,
             0,
             0,
             0,
             2,
             2,
             2,
             8,
             8,
             8,
             5,
             5,
             5,
             7,
             7,
             7,
             4,
             4,
             4,
             15,
             15,
             15,
             14,
             14,
             14,
             10,
             10,
             10,
             16,
             16,
             16,
             1,
             1,
             1,
             1,
             12,
             12,
             12,
             12,
             13,
             13,
             13,
             13
            ],
            "target": [
             7,
             4,
             15,
             7,
             4,
             15,
             7,
             4,
             15,
             7,
             4,
             15,
             7,
             4,
             15,
             14,
             10,
             16,
             14,
             10,
             16,
             14,
             10,
             16,
             1,
             12,
             13,
             1,
             12,
             13,
             1,
             12,
             13,
             9,
             3,
             13,
             11,
             9,
             3,
             13,
             11,
             9,
             3,
             13,
             11
            ],
            "value": [
             18.585623456166044,
             20.150324973946926,
             116.45991017666734,
             14.181777614275765,
             17.830692496325764,
             70.50624561962225,
             54.042775099808736,
             39.95597609427817,
             36.81405295706831,
             27.418085932529614,
             73.32793010476318,
             31.314772007758762,
             30.032148278746337,
             73.85323504499962,
             27.343757570839337,
             37.34878594739976,
             42.18685672000917,
             23.608107697642016,
             29.810149684996134,
             38.741708173990816,
             84.52331629069002,
             66.19687970661164,
             34.709153075916916,
             25.277475791863196,
             76.41081743059297,
             58.389156635962664,
             71.61529152967897,
             71.67648553804473,
             66.78873420373793,
             44.51448850272041,
             81.7651247794619,
             56.039003248586795,
             49.32592551999271,
             57.14170396353339,
             72.54500240927077,
             32.130772342107385,
             24.199053947134274,
             50.241861165985625,
             26.717949302375256,
             31.742073484913394,
             26.0923971480599,
             32.29125285722959,
             28.64082415560645,
             93.9753596395755,
             25.65025132975192
            ]
           },
           "node": {
            "color": "rgba(100, 150, 200, 0.8)",
            "label": [
             "Wind",
             "Urban Grid",
             "Hydro",
             "Commercial",
             "Base Load",
             "Nuclear",
             "Solar",
             "Peak",
             "Coal",
             "Residential",
             "Pumped Hydro",
             "Transport",
             "Rural Grid",
             "Industrial",
             "Battery",
             "Variable",
             "Direct Grid"
            ],
            "line": {
             "color": "black",
             "width": 0.5
            },
            "pad": 25,
            "thickness": 20
           },
           "type": "sankey"
          }
         ],
         "name": "2024-04-30 00:00:00"
        },
        {
         "data": [
          {
           "link": {
            "color": [
             "rgba(100, 150, 200, 0.4)",
             "rgba(100, 150, 200, 0.4)",
             "rgba(100, 150, 200, 0.4)",
             "rgba(100, 150, 200, 0.4)",
             "rgba(100, 150, 200, 0.4)",
             "rgba(100, 150, 200, 0.4)",
             "rgba(100, 150, 200, 0.4)",
             "rgba(100, 150, 200, 0.4)",
             "rgba(100, 150, 200, 0.4)",
             "rgba(100, 150, 200, 0.4)",
             "rgba(100, 150, 200, 0.4)",
             "rgba(100, 150, 200, 0.4)",
             "rgba(100, 150, 200, 0.4)",
             "rgba(100, 150, 200, 0.4)",
             "rgba(100, 150, 200, 0.4)",
             "rgba(100, 150, 200, 0.4)",
             "rgba(100, 150, 200, 0.4)",
             "rgba(100, 150, 200, 0.4)",
             "rgba(100, 150, 200, 0.4)",
             "rgba(100, 150, 200, 0.4)",
             "rgba(100, 150, 200, 0.4)",
             "rgba(100, 150, 200, 0.4)",
             "rgba(100, 150, 200, 0.4)",
             "rgba(100, 150, 200, 0.4)",
             "rgba(100, 150, 200, 0.4)",
             "rgba(100, 150, 200, 0.4)",
             "rgba(100, 150, 200, 0.4)",
             "rgba(100, 150, 200, 0.4)",
             "rgba(100, 150, 200, 0.4)",
             "rgba(100, 150, 200, 0.4)",
             "rgba(100, 150, 200, 0.4)",
             "rgba(100, 150, 200, 0.4)",
             "rgba(100, 150, 200, 0.4)",
             "rgba(100, 150, 200, 0.4)",
             "rgba(100, 150, 200, 0.4)",
             "rgba(100, 150, 200, 0.4)",
             "rgba(100, 150, 200, 0.4)",
             "rgba(100, 150, 200, 0.4)",
             "rgba(100, 150, 200, 0.4)",
             "rgba(100, 150, 200, 0.4)",
             "rgba(100, 150, 200, 0.4)",
             "rgba(100, 150, 200, 0.4)",
             "rgba(100, 150, 200, 0.4)",
             "rgba(100, 150, 200, 0.4)",
             "rgba(100, 150, 200, 0.4)"
            ],
            "source": [
             6,
             6,
             6,
             0,
             0,
             0,
             2,
             2,
             2,
             8,
             8,
             8,
             5,
             5,
             5,
             7,
             7,
             7,
             4,
             4,
             4,
             15,
             15,
             15,
             14,
             14,
             14,
             10,
             10,
             10,
             16,
             16,
             16,
             1,
             1,
             1,
             1,
             12,
             12,
             12,
             12,
             13,
             13,
             13,
             13
            ],
            "target": [
             7,
             4,
             15,
             7,
             4,
             15,
             7,
             4,
             15,
             7,
             4,
             15,
             7,
             4,
             15,
             14,
             10,
             16,
             14,
             10,
             16,
             14,
             10,
             16,
             1,
             12,
             13,
             1,
             12,
             13,
             1,
             12,
             13,
             9,
             3,
             13,
             11,
             9,
             3,
             13,
             11,
             9,
             3,
             13,
             11
            ],
            "value": [
             18.72853080840207,
             16.907788169924714,
             112.30823494189681,
             17.264036120285887,
             13.547649766290935,
             55.129197725730926,
             67.61333280482918,
             40.8832129855914,
             40.4744092536961,
             26.902227490805423,
             75.35169964101237,
             34.76658909543992,
             34.80501668595996,
             94.79165246183766,
             28.068357492584408,
             27.285772343027894,
             56.77867036610718,
             37.14798467914639,
             36.96755563677211,
             35.037759825437234,
             108.52189876925726,
             45.02903873982176,
             23.909316853703046,
             37.17397539348743,
             70.3214529829795,
             40.45985258083148,
             45.073577143301605,
             73.1750884554028,
             40.253079192310935,
             48.04040257087493,
             67.4366894683293,
             74.59475988463467,
             72.59806297513003,
             62.27954066489568,
             75.94101819773101,
             26.8469890499616,
             27.904796377911214,
             54.92982810236048,
             31.795594788566575,
             34.19068092593013,
             31.89135470760412,
             30.81970324002566,
             25.124097213937112,
             75.76690569790188,
             27.182428412180705
            ]
           },
           "node": {
            "color": "rgba(100, 150, 200, 0.8)",
            "label": [
             "Wind",
             "Urban Grid",
             "Hydro",
             "Commercial",
             "Base Load",
             "Nuclear",
             "Solar",
             "Peak",
             "Coal",
             "Residential",
             "Pumped Hydro",
             "Transport",
             "Rural Grid",
             "Industrial",
             "Battery",
             "Variable",
             "Direct Grid"
            ],
            "line": {
             "color": "black",
             "width": 0.5
            },
            "pad": 25,
            "thickness": 20
           },
           "type": "sankey"
          }
         ],
         "name": "2024-05-31 00:00:00"
        },
        {
         "data": [
          {
           "link": {
            "color": [
             "rgba(100, 150, 200, 0.4)",
             "rgba(100, 150, 200, 0.4)",
             "rgba(100, 150, 200, 0.4)",
             "rgba(100, 150, 200, 0.4)",
             "rgba(100, 150, 200, 0.4)",
             "rgba(100, 150, 200, 0.4)",
             "rgba(100, 150, 200, 0.4)",
             "rgba(100, 150, 200, 0.4)",
             "rgba(100, 150, 200, 0.4)",
             "rgba(100, 150, 200, 0.4)",
             "rgba(100, 150, 200, 0.4)",
             "rgba(100, 150, 200, 0.4)",
             "rgba(100, 150, 200, 0.4)",
             "rgba(100, 150, 200, 0.4)",
             "rgba(100, 150, 200, 0.4)",
             "rgba(100, 150, 200, 0.4)",
             "rgba(100, 150, 200, 0.4)",
             "rgba(100, 150, 200, 0.4)",
             "rgba(100, 150, 200, 0.4)",
             "rgba(100, 150, 200, 0.4)",
             "rgba(100, 150, 200, 0.4)",
             "rgba(100, 150, 200, 0.4)",
             "rgba(100, 150, 200, 0.4)",
             "rgba(100, 150, 200, 0.4)",
             "rgba(100, 150, 200, 0.4)",
             "rgba(100, 150, 200, 0.4)",
             "rgba(100, 150, 200, 0.4)",
             "rgba(100, 150, 200, 0.4)",
             "rgba(100, 150, 200, 0.4)",
             "rgba(100, 150, 200, 0.4)",
             "rgba(100, 150, 200, 0.4)",
             "rgba(100, 150, 200, 0.4)",
             "rgba(100, 150, 200, 0.4)",
             "rgba(100, 150, 200, 0.4)",
             "rgba(100, 150, 200, 0.4)",
             "rgba(100, 150, 200, 0.4)",
             "rgba(100, 150, 200, 0.4)",
             "rgba(100, 150, 200, 0.4)",
             "rgba(100, 150, 200, 0.4)",
             "rgba(100, 150, 200, 0.4)",
             "rgba(100, 150, 200, 0.4)",
             "rgba(100, 150, 200, 0.4)",
             "rgba(100, 150, 200, 0.4)",
             "rgba(100, 150, 200, 0.4)",
             "rgba(100, 150, 200, 0.4)"
            ],
            "source": [
             6,
             6,
             6,
             0,
             0,
             0,
             2,
             2,
             2,
             8,
             8,
             8,
             5,
             5,
             5,
             7,
             7,
             7,
             4,
             4,
             4,
             15,
             15,
             15,
             14,
             14,
             14,
             10,
             10,
             10,
             16,
             16,
             16,
             1,
             1,
             1,
             1,
             12,
             12,
             12,
             12,
             13,
             13,
             13,
             13
            ],
            "target": [
             7,
             4,
             15,
             7,
             4,
             15,
             7,
             4,
             15,
             7,
             4,
             15,
             7,
             4,
             15,
             14,
             10,
             16,
             14,
             10,
             16,
             14,
             10,
             16,
             1,
             12,
             13,
             1,
             12,
             13,
             1,
             12,
             13,
             9,
             3,
             13,
             11,
             9,
             3,
             13,
             11,
             9,
             3,
             13,
             11
            ],
            "value": [
             17.95191714703267,
             23.784084438019562,
             76.57912718933633,
             17.352279331062682,
             15.786831755983577,
             54.778301549416305,
             60.063290234524615,
             41.23046215402175,
             39.880283101101824,
             26.342915853576535,
             98.0082761494142,
             27.36926834929027,
             24.291791597177447,
             95.23700265265803,
             26.125328152884588,
             37.92825451835246,
             63.61785731007763,
             37.46755902396807,
             27.662856604597998,
             21.27821909751961,
             125.69911375526353,
             57.414629339423314,
             38.399786742786056,
             38.34515958760655,
             82.650472773368,
             54.72244460347928,
             59.25488643009626,
             82.55683357584284,
             55.84610025781389,
             48.474637334304624,
             67.84006312291751,
             86.80773870803904,
             74.80148983374865,
             71.96171276250222,
             58.72094182558153,
             31.380086720390036,
             35.88064620125115,
             42.80168030473048,
             30.21995582836484,
             34.52847686313547,
             32.88922341305045,
             32.364188891943215,
             32.42980900784531,
             75.50371683903217,
             27.52310213117392
            ]
           },
           "node": {
            "color": "rgba(100, 150, 200, 0.8)",
            "label": [
             "Wind",
             "Urban Grid",
             "Hydro",
             "Commercial",
             "Base Load",
             "Nuclear",
             "Solar",
             "Peak",
             "Coal",
             "Residential",
             "Pumped Hydro",
             "Transport",
             "Rural Grid",
             "Industrial",
             "Battery",
             "Variable",
             "Direct Grid"
            ],
            "line": {
             "color": "black",
             "width": 0.5
            },
            "pad": 25,
            "thickness": 20
           },
           "type": "sankey"
          }
         ],
         "name": "2024-06-30 00:00:00"
        }
       ],
       "layout": {
        "font": {
         "size": 12
        },
        "height": 700,
        "margin": {
         "b": 120,
         "l": 50,
         "r": 50,
         "t": 100
        },
        "paper_bgcolor": "rgba(0,0,0,0)",
        "plot_bgcolor": "rgba(0,0,0,0)",
        "sliders": [
         {
          "active": 0,
          "currentvalue": {
           "prefix": "date: ",
           "visible": true,
           "xanchor": "right"
          },
          "len": 0.9,
          "pad": {
           "b": 10,
           "t": 50
          },
          "steps": [
           {
            "args": [
             [
              "2024-01-31 00:00:00"
             ],
             {
              "frame": {
               "duration": 1200,
               "redraw": true
              },
              "mode": "immediate",
              "transition": {
               "duration": 1200,
               "easing": "cubic-in-out"
              }
             }
            ],
            "label": "2024-01-31 00:00:00",
            "method": "animate"
           },
           {
            "args": [
             [
              "2024-02-29 00:00:00"
             ],
             {
              "frame": {
               "duration": 1200,
               "redraw": true
              },
              "mode": "immediate",
              "transition": {
               "duration": 1200,
               "easing": "cubic-in-out"
              }
             }
            ],
            "label": "2024-02-29 00:00:00",
            "method": "animate"
           },
           {
            "args": [
             [
              "2024-03-31 00:00:00"
             ],
             {
              "frame": {
               "duration": 1200,
               "redraw": true
              },
              "mode": "immediate",
              "transition": {
               "duration": 1200,
               "easing": "cubic-in-out"
              }
             }
            ],
            "label": "2024-03-31 00:00:00",
            "method": "animate"
           },
           {
            "args": [
             [
              "2024-04-30 00:00:00"
             ],
             {
              "frame": {
               "duration": 1200,
               "redraw": true
              },
              "mode": "immediate",
              "transition": {
               "duration": 1200,
               "easing": "cubic-in-out"
              }
             }
            ],
            "label": "2024-04-30 00:00:00",
            "method": "animate"
           },
           {
            "args": [
             [
              "2024-05-31 00:00:00"
             ],
             {
              "frame": {
               "duration": 1200,
               "redraw": true
              },
              "mode": "immediate",
              "transition": {
               "duration": 1200,
               "easing": "cubic-in-out"
              }
             }
            ],
            "label": "2024-05-31 00:00:00",
            "method": "animate"
           },
           {
            "args": [
             [
              "2024-06-30 00:00:00"
             ],
             {
              "frame": {
               "duration": 1200,
               "redraw": true
              },
              "mode": "immediate",
              "transition": {
               "duration": 1200,
               "easing": "cubic-in-out"
              }
             }
            ],
            "label": "2024-06-30 00:00:00",
            "method": "animate"
           }
          ],
          "x": 0.1,
          "xanchor": "left",
          "y": 0,
          "yanchor": "top"
         }
        ],
        "template": {
         "data": {
          "bar": [
           {
            "error_x": {
             "color": "#2a3f5f"
            },
            "error_y": {
             "color": "#2a3f5f"
            },
            "marker": {
             "line": {
              "color": "#E5ECF6",
              "width": 0.5
             },
             "pattern": {
              "fillmode": "overlay",
              "size": 10,
              "solidity": 0.2
             }
            },
            "type": "bar"
           }
          ],
          "barpolar": [
           {
            "marker": {
             "line": {
              "color": "#E5ECF6",
              "width": 0.5
             },
             "pattern": {
              "fillmode": "overlay",
              "size": 10,
              "solidity": 0.2
             }
            },
            "type": "barpolar"
           }
          ],
          "carpet": [
           {
            "aaxis": {
             "endlinecolor": "#2a3f5f",
             "gridcolor": "white",
             "linecolor": "white",
             "minorgridcolor": "white",
             "startlinecolor": "#2a3f5f"
            },
            "baxis": {
             "endlinecolor": "#2a3f5f",
             "gridcolor": "white",
             "linecolor": "white",
             "minorgridcolor": "white",
             "startlinecolor": "#2a3f5f"
            },
            "type": "carpet"
           }
          ],
          "choropleth": [
           {
            "colorbar": {
             "outlinewidth": 0,
             "ticks": ""
            },
            "type": "choropleth"
           }
          ],
          "contour": [
           {
            "colorbar": {
             "outlinewidth": 0,
             "ticks": ""
            },
            "colorscale": [
             [
              0,
              "#0d0887"
             ],
             [
              0.1111111111111111,
              "#46039f"
             ],
             [
              0.2222222222222222,
              "#7201a8"
             ],
             [
              0.3333333333333333,
              "#9c179e"
             ],
             [
              0.4444444444444444,
              "#bd3786"
             ],
             [
              0.5555555555555556,
              "#d8576b"
             ],
             [
              0.6666666666666666,
              "#ed7953"
             ],
             [
              0.7777777777777778,
              "#fb9f3a"
             ],
             [
              0.8888888888888888,
              "#fdca26"
             ],
             [
              1,
              "#f0f921"
             ]
            ],
            "type": "contour"
           }
          ],
          "contourcarpet": [
           {
            "colorbar": {
             "outlinewidth": 0,
             "ticks": ""
            },
            "type": "contourcarpet"
           }
          ],
          "heatmap": [
           {
            "colorbar": {
             "outlinewidth": 0,
             "ticks": ""
            },
            "colorscale": [
             [
              0,
              "#0d0887"
             ],
             [
              0.1111111111111111,
              "#46039f"
             ],
             [
              0.2222222222222222,
              "#7201a8"
             ],
             [
              0.3333333333333333,
              "#9c179e"
             ],
             [
              0.4444444444444444,
              "#bd3786"
             ],
             [
              0.5555555555555556,
              "#d8576b"
             ],
             [
              0.6666666666666666,
              "#ed7953"
             ],
             [
              0.7777777777777778,
              "#fb9f3a"
             ],
             [
              0.8888888888888888,
              "#fdca26"
             ],
             [
              1,
              "#f0f921"
             ]
            ],
            "type": "heatmap"
           }
          ],
          "histogram": [
           {
            "marker": {
             "pattern": {
              "fillmode": "overlay",
              "size": 10,
              "solidity": 0.2
             }
            },
            "type": "histogram"
           }
          ],
          "histogram2d": [
           {
            "colorbar": {
             "outlinewidth": 0,
             "ticks": ""
            },
            "colorscale": [
             [
              0,
              "#0d0887"
             ],
             [
              0.1111111111111111,
              "#46039f"
             ],
             [
              0.2222222222222222,
              "#7201a8"
             ],
             [
              0.3333333333333333,
              "#9c179e"
             ],
             [
              0.4444444444444444,
              "#bd3786"
             ],
             [
              0.5555555555555556,
              "#d8576b"
             ],
             [
              0.6666666666666666,
              "#ed7953"
             ],
             [
              0.7777777777777778,
              "#fb9f3a"
             ],
             [
              0.8888888888888888,
              "#fdca26"
             ],
             [
              1,
              "#f0f921"
             ]
            ],
            "type": "histogram2d"
           }
          ],
          "histogram2dcontour": [
           {
            "colorbar": {
             "outlinewidth": 0,
             "ticks": ""
            },
            "colorscale": [
             [
              0,
              "#0d0887"
             ],
             [
              0.1111111111111111,
              "#46039f"
             ],
             [
              0.2222222222222222,
              "#7201a8"
             ],
             [
              0.3333333333333333,
              "#9c179e"
             ],
             [
              0.4444444444444444,
              "#bd3786"
             ],
             [
              0.5555555555555556,
              "#d8576b"
             ],
             [
              0.6666666666666666,
              "#ed7953"
             ],
             [
              0.7777777777777778,
              "#fb9f3a"
             ],
             [
              0.8888888888888888,
              "#fdca26"
             ],
             [
              1,
              "#f0f921"
             ]
            ],
            "type": "histogram2dcontour"
           }
          ],
          "mesh3d": [
           {
            "colorbar": {
             "outlinewidth": 0,
             "ticks": ""
            },
            "type": "mesh3d"
           }
          ],
          "parcoords": [
           {
            "line": {
             "colorbar": {
              "outlinewidth": 0,
              "ticks": ""
             }
            },
            "type": "parcoords"
           }
          ],
          "pie": [
           {
            "automargin": true,
            "type": "pie"
           }
          ],
          "scatter": [
           {
            "fillpattern": {
             "fillmode": "overlay",
             "size": 10,
             "solidity": 0.2
            },
            "type": "scatter"
           }
          ],
          "scatter3d": [
           {
            "line": {
             "colorbar": {
              "outlinewidth": 0,
              "ticks": ""
             }
            },
            "marker": {
             "colorbar": {
              "outlinewidth": 0,
              "ticks": ""
             }
            },
            "type": "scatter3d"
           }
          ],
          "scattercarpet": [
           {
            "marker": {
             "colorbar": {
              "outlinewidth": 0,
              "ticks": ""
             }
            },
            "type": "scattercarpet"
           }
          ],
          "scattergeo": [
           {
            "marker": {
             "colorbar": {
              "outlinewidth": 0,
              "ticks": ""
             }
            },
            "type": "scattergeo"
           }
          ],
          "scattergl": [
           {
            "marker": {
             "colorbar": {
              "outlinewidth": 0,
              "ticks": ""
             }
            },
            "type": "scattergl"
           }
          ],
          "scattermap": [
           {
            "marker": {
             "colorbar": {
              "outlinewidth": 0,
              "ticks": ""
             }
            },
            "type": "scattermap"
           }
          ],
          "scattermapbox": [
           {
            "marker": {
             "colorbar": {
              "outlinewidth": 0,
              "ticks": ""
             }
            },
            "type": "scattermapbox"
           }
          ],
          "scatterpolar": [
           {
            "marker": {
             "colorbar": {
              "outlinewidth": 0,
              "ticks": ""
             }
            },
            "type": "scatterpolar"
           }
          ],
          "scatterpolargl": [
           {
            "marker": {
             "colorbar": {
              "outlinewidth": 0,
              "ticks": ""
             }
            },
            "type": "scatterpolargl"
           }
          ],
          "scatterternary": [
           {
            "marker": {
             "colorbar": {
              "outlinewidth": 0,
              "ticks": ""
             }
            },
            "type": "scatterternary"
           }
          ],
          "surface": [
           {
            "colorbar": {
             "outlinewidth": 0,
             "ticks": ""
            },
            "colorscale": [
             [
              0,
              "#0d0887"
             ],
             [
              0.1111111111111111,
              "#46039f"
             ],
             [
              0.2222222222222222,
              "#7201a8"
             ],
             [
              0.3333333333333333,
              "#9c179e"
             ],
             [
              0.4444444444444444,
              "#bd3786"
             ],
             [
              0.5555555555555556,
              "#d8576b"
             ],
             [
              0.6666666666666666,
              "#ed7953"
             ],
             [
              0.7777777777777778,
              "#fb9f3a"
             ],
             [
              0.8888888888888888,
              "#fdca26"
             ],
             [
              1,
              "#f0f921"
             ]
            ],
            "type": "surface"
           }
          ],
          "table": [
           {
            "cells": {
             "fill": {
              "color": "#EBF0F8"
             },
             "line": {
              "color": "white"
             }
            },
            "header": {
             "fill": {
              "color": "#C8D4E3"
             },
             "line": {
              "color": "white"
             }
            },
            "type": "table"
           }
          ]
         },
         "layout": {
          "annotationdefaults": {
           "arrowcolor": "#2a3f5f",
           "arrowhead": 0,
           "arrowwidth": 1
          },
          "autotypenumbers": "strict",
          "coloraxis": {
           "colorbar": {
            "outlinewidth": 0,
            "ticks": ""
           }
          },
          "colorscale": {
           "diverging": [
            [
             0,
             "#8e0152"
            ],
            [
             0.1,
             "#c51b7d"
            ],
            [
             0.2,
             "#de77ae"
            ],
            [
             0.3,
             "#f1b6da"
            ],
            [
             0.4,
             "#fde0ef"
            ],
            [
             0.5,
             "#f7f7f7"
            ],
            [
             0.6,
             "#e6f5d0"
            ],
            [
             0.7,
             "#b8e186"
            ],
            [
             0.8,
             "#7fbc41"
            ],
            [
             0.9,
             "#4d9221"
            ],
            [
             1,
             "#276419"
            ]
           ],
           "sequential": [
            [
             0,
             "#0d0887"
            ],
            [
             0.1111111111111111,
             "#46039f"
            ],
            [
             0.2222222222222222,
             "#7201a8"
            ],
            [
             0.3333333333333333,
             "#9c179e"
            ],
            [
             0.4444444444444444,
             "#bd3786"
            ],
            [
             0.5555555555555556,
             "#d8576b"
            ],
            [
             0.6666666666666666,
             "#ed7953"
            ],
            [
             0.7777777777777778,
             "#fb9f3a"
            ],
            [
             0.8888888888888888,
             "#fdca26"
            ],
            [
             1,
             "#f0f921"
            ]
           ],
           "sequentialminus": [
            [
             0,
             "#0d0887"
            ],
            [
             0.1111111111111111,
             "#46039f"
            ],
            [
             0.2222222222222222,
             "#7201a8"
            ],
            [
             0.3333333333333333,
             "#9c179e"
            ],
            [
             0.4444444444444444,
             "#bd3786"
            ],
            [
             0.5555555555555556,
             "#d8576b"
            ],
            [
             0.6666666666666666,
             "#ed7953"
            ],
            [
             0.7777777777777778,
             "#fb9f3a"
            ],
            [
             0.8888888888888888,
             "#fdca26"
            ],
            [
             1,
             "#f0f921"
            ]
           ]
          },
          "colorway": [
           "#636efa",
           "#EF553B",
           "#00cc96",
           "#ab63fa",
           "#FFA15A",
           "#19d3f3",
           "#FF6692",
           "#B6E880",
           "#FF97FF",
           "#FECB52"
          ],
          "font": {
           "color": "#2a3f5f"
          },
          "geo": {
           "bgcolor": "white",
           "lakecolor": "white",
           "landcolor": "#E5ECF6",
           "showlakes": true,
           "showland": true,
           "subunitcolor": "white"
          },
          "hoverlabel": {
           "align": "left"
          },
          "hovermode": "closest",
          "mapbox": {
           "style": "light"
          },
          "paper_bgcolor": "white",
          "plot_bgcolor": "#E5ECF6",
          "polar": {
           "angularaxis": {
            "gridcolor": "white",
            "linecolor": "white",
            "ticks": ""
           },
           "bgcolor": "#E5ECF6",
           "radialaxis": {
            "gridcolor": "white",
            "linecolor": "white",
            "ticks": ""
           }
          },
          "scene": {
           "xaxis": {
            "backgroundcolor": "#E5ECF6",
            "gridcolor": "white",
            "gridwidth": 2,
            "linecolor": "white",
            "showbackground": true,
            "ticks": "",
            "zerolinecolor": "white"
           },
           "yaxis": {
            "backgroundcolor": "#E5ECF6",
            "gridcolor": "white",
            "gridwidth": 2,
            "linecolor": "white",
            "showbackground": true,
            "ticks": "",
            "zerolinecolor": "white"
           },
           "zaxis": {
            "backgroundcolor": "#E5ECF6",
            "gridcolor": "white",
            "gridwidth": 2,
            "linecolor": "white",
            "showbackground": true,
            "ticks": "",
            "zerolinecolor": "white"
           }
          },
          "shapedefaults": {
           "line": {
            "color": "#2a3f5f"
           }
          },
          "ternary": {
           "aaxis": {
            "gridcolor": "white",
            "linecolor": "white",
            "ticks": ""
           },
           "baxis": {
            "gridcolor": "white",
            "linecolor": "white",
            "ticks": ""
           },
           "bgcolor": "#E5ECF6",
           "caxis": {
            "gridcolor": "white",
            "linecolor": "white",
            "ticks": ""
           }
          },
          "title": {
           "x": 0.05
          },
          "xaxis": {
           "automargin": true,
           "gridcolor": "white",
           "linecolor": "white",
           "ticks": "",
           "title": {
            "standoff": 15
           },
           "zerolinecolor": "white",
           "zerolinewidth": 2
          },
          "yaxis": {
           "automargin": true,
           "gridcolor": "white",
           "linecolor": "white",
           "ticks": "",
           "title": {
            "standoff": 15
           },
           "zerolinecolor": "white",
           "zerolinewidth": 2
          }
         }
        },
        "title": {
         "text": "5-Stage Energy System: Generation → Storage → Distribution → End Use"
        },
        "updatemenus": [
         {
          "buttons": [
           {
            "args": [
             null,
             {
              "frame": {
               "duration": 1200,
               "redraw": true
              },
              "fromcurrent": true,
              "transition": {
               "duration": 1200,
               "easing": "cubic-in-out"
              }
             }
            ],
            "label": "Play",
            "method": "animate"
           },
           {
            "args": [
             [
              null
             ],
             {
              "frame": {
               "duration": 0,
               "redraw": true
              },
              "mode": "immediate"
             }
            ],
            "label": "Pause",
            "method": "animate"
           }
          ],
          "direction": "left",
          "pad": {
           "r": 10,
           "t": 87
          },
          "showactive": false,
          "type": "buttons",
          "x": 0.1,
          "xanchor": "right",
          "y": 0,
          "yanchor": "top"
         }
        ]
       }
      }
     },
     "metadata": {},
     "output_type": "display_data"
    },
    {
     "name": "stdout",
     "output_type": "stream",
     "text": [
      "✅ Created 270 flow records across 5 stages\n"
     ]
    }
   ],
   "source": [
    "# Create comprehensive multi-stage energy system data\n",
    "np.random.seed(42)\n",
    "dates = pd.date_range('2024-01', periods=6, freq='ME')\n",
    "\n",
    "# Define a 5-stage energy system\n",
    "sources = ['Solar', 'Wind', 'Hydro', 'Coal', 'Nuclear']  # Stage 1: Generation\n",
    "generation_types = ['Peak', 'Base Load', 'Variable']      # Stage 2: Generation Type\n",
    "storage = ['Battery', 'Pumped Hydro', 'Direct Grid']      # Stage 3: Storage/Distribution\n",
    "distribution = ['Urban Grid', 'Rural Grid', 'Industrial'] # Stage 4: Distribution\n",
    "consumers = ['Residential', 'Commercial', 'Industrial', 'Transport']  # Stage 5: End Use\n",
    "\n",
    "data = []\n",
    "for date in dates:\n",
    "    month = date.month\n",
    "    # Seasonal factors\n",
    "    solar_factor = 1 + 0.4 * np.sin(2 * np.pi * month / 12)\n",
    "    wind_factor = 1 + 0.3 * np.cos(2 * np.pi * month / 12)\n",
    "    \n",
    "    # Stage 1 → Stage 2: Sources to Generation Types\n",
    "    for source in sources:\n",
    "        for gen_type in generation_types:\n",
    "            if source == 'Solar':\n",
    "                base = 80 * solar_factor if gen_type == 'Variable' else 20\n",
    "            elif source == 'Wind':\n",
    "                base = 70 * wind_factor if gen_type == 'Variable' else 15\n",
    "            elif source in ['Coal', 'Nuclear']:\n",
    "                base = 90 if gen_type == 'Base Load' else 30\n",
    "            else:  # Hydro\n",
    "                base = 60 if gen_type == 'Peak' else 40\n",
    "            \n",
    "            value = base * np.random.uniform(0.8, 1.2)\n",
    "            if value > 10:  # Only add significant flows\n",
    "                data.append({\n",
    "                    'date': date, 'source': source, 'target': gen_type,\n",
    "                    'value': value, 'stage': '1-2'\n",
    "                })\n",
    "    \n",
    "    # Stage 2 → Stage 3: Generation Types to Storage\n",
    "    for gen_type in generation_types:\n",
    "        for store in storage:\n",
    "            if gen_type == 'Variable' and store == 'Battery':\n",
    "                base = 60\n",
    "            elif gen_type == 'Base Load' and store == 'Direct Grid':\n",
    "                base = 100\n",
    "            elif gen_type == 'Peak' and store == 'Pumped Hydro':\n",
    "                base = 50\n",
    "            else:\n",
    "                base = 30\n",
    "            \n",
    "            value = base * np.random.uniform(0.7, 1.3)\n",
    "            data.append({\n",
    "                'date': date, 'source': gen_type, 'target': store,\n",
    "                'value': value, 'stage': '2-3'\n",
    "            })\n",
    "    \n",
    "    # Stage 3 → Stage 4: Storage to Distribution\n",
    "    for store in storage:\n",
    "        for dist in distribution:\n",
    "            base = np.random.uniform(40, 90)\n",
    "            data.append({\n",
    "                'date': date, 'source': store, 'target': dist,\n",
    "                'value': base, 'stage': '3-4'\n",
    "            })\n",
    "    \n",
    "    # Stage 4 → Stage 5: Distribution to Consumers\n",
    "    for dist in distribution:\n",
    "        for consumer in consumers:\n",
    "            if dist == 'Industrial' and consumer == 'Industrial':\n",
    "                base = 80\n",
    "            elif dist == 'Urban Grid' and consumer in ['Residential', 'Commercial']:\n",
    "                base = 70\n",
    "            elif dist == 'Rural Grid' and consumer == 'Residential':\n",
    "                base = 50\n",
    "            else:\n",
    "                base = 30\n",
    "            \n",
    "            value = base * np.random.uniform(0.8, 1.2)\n",
    "            if value > 20:  # Only significant flows\n",
    "                data.append({\n",
    "                    'date': date, 'source': dist, 'target': consumer,\n",
    "                    'value': value, 'stage': '4-5'\n",
    "                })\n",
    "\n",
    "df = pd.DataFrame(data)\n",
    "\n",
    "# Create animated diagram with smooth transitions\n",
    "diagram = SankeyDiagram(df, time_column='date')\n",
    "diagram.render('source', 'target', 'value', \n",
    "               title=\"5-Stage Energy System: Generation → Storage → Distribution → End Use\",\n",
    "               show_timeline=True,\n",
    "               animation_duration=1200,  # Slower, smoother transitions (in ms)\n",
    "               transition_easing='cubic-in-out').show()  # Smooth easing\n",
    "\n",
    "print(f\"✅ Created {len(df)} flow records across 5 stages\")"
   ]
  },
  {
   "cell_type": "markdown",
   "id": "9944da43",
   "metadata": {},
   "source": [
    "### Animation Speed Options\n",
    "\n",
    "You can control the transition speed and smoothness:\n",
    "- `animation_duration`: Speed in milliseconds (300=fast, 800=normal, 1500=slow)\n",
    "- `transition_easing`: Smoothness style ('linear', 'cubic-in-out', 'elastic', etc.)"
   ]
  },
  {
   "cell_type": "code",
   "execution_count": 4,
   "id": "78950586",
   "metadata": {},
   "outputs": [
    {
     "data": {
      "application/vnd.plotly.v1+json": {
       "config": {
        "plotlyServerURL": "https://plot.ly"
       },
       "data": [
        {
         "link": {
          "color": [
           "rgba(100, 150, 200, 0.4)",
           "rgba(100, 150, 200, 0.4)",
           "rgba(100, 150, 200, 0.4)",
           "rgba(100, 150, 200, 0.4)",
           "rgba(100, 150, 200, 0.4)",
           "rgba(100, 150, 200, 0.4)",
           "rgba(100, 150, 200, 0.4)",
           "rgba(100, 150, 200, 0.4)",
           "rgba(100, 150, 200, 0.4)",
           "rgba(100, 150, 200, 0.4)",
           "rgba(100, 150, 200, 0.4)",
           "rgba(100, 150, 200, 0.4)",
           "rgba(100, 150, 200, 0.4)",
           "rgba(100, 150, 200, 0.4)",
           "rgba(100, 150, 200, 0.4)",
           "rgba(100, 150, 200, 0.4)",
           "rgba(100, 150, 200, 0.4)",
           "rgba(100, 150, 200, 0.4)",
           "rgba(100, 150, 200, 0.4)",
           "rgba(100, 150, 200, 0.4)",
           "rgba(100, 150, 200, 0.4)",
           "rgba(100, 150, 200, 0.4)",
           "rgba(100, 150, 200, 0.4)",
           "rgba(100, 150, 200, 0.4)",
           "rgba(100, 150, 200, 0.4)",
           "rgba(100, 150, 200, 0.4)",
           "rgba(100, 150, 200, 0.4)",
           "rgba(100, 150, 200, 0.4)",
           "rgba(100, 150, 200, 0.4)",
           "rgba(100, 150, 200, 0.4)",
           "rgba(100, 150, 200, 0.4)",
           "rgba(100, 150, 200, 0.4)",
           "rgba(100, 150, 200, 0.4)",
           "rgba(100, 150, 200, 0.4)",
           "rgba(100, 150, 200, 0.4)",
           "rgba(100, 150, 200, 0.4)",
           "rgba(100, 150, 200, 0.4)",
           "rgba(100, 150, 200, 0.4)",
           "rgba(100, 150, 200, 0.4)",
           "rgba(100, 150, 200, 0.4)",
           "rgba(100, 150, 200, 0.4)",
           "rgba(100, 150, 200, 0.4)",
           "rgba(100, 150, 200, 0.4)",
           "rgba(100, 150, 200, 0.4)",
           "rgba(100, 150, 200, 0.4)"
          ],
          "source": [
           6,
           6,
           6,
           0,
           0,
           0,
           2,
           2,
           2,
           8,
           8,
           8,
           5,
           5,
           5,
           7,
           7,
           7,
           4,
           4,
           4,
           15,
           15,
           15,
           14,
           14,
           14,
           10,
           10,
           10,
           16,
           16,
           16,
           1,
           1,
           1,
           1,
           12,
           12,
           12,
           12,
           13,
           13,
           13,
           13
          ],
          "target": [
           7,
           4,
           15,
           7,
           4,
           15,
           7,
           4,
           15,
           7,
           4,
           15,
           7,
           4,
           15,
           14,
           10,
           16,
           14,
           10,
           16,
           14,
           10,
           16,
           1,
           12,
           13,
           1,
           12,
           13,
           1,
           12,
           13,
           9,
           3,
           13,
           11,
           9,
           3,
           13,
           11,
           9,
           3,
           13,
           11
          ],
          "value": [
           18.9963209507789,
           23.60571445127933,
           104.90856736555794,
           15.59195090518222,
           12.93611184265462,
           76.05187317967574,
           49.39400669203679,
           45.85881833239896,
           41.61784018789134,
           32.49687093355255,
           72.7410417946489,
           35.63891822594393,
           33.98931168960506,
           79.64420798441795,
           26.18189960648521,
           24.30128117736181,
           44.12726728878613,
           30.445615769380282,
           28.775010335558086,
           26.242124523564755,
           106.71117368334278,
           47.0217789834735,
           26.258603673633928,
           27.59451317928645,
           62.8034992108518,
           79.25879806965068,
           49.98368910791799,
           65.71172192068059,
           69.62072844310212,
           42.32252063599989,
           70.37724259507192,
           48.526206184364575,
           43.25257964926398,
           82.56879504309332,
           83.03769692608765,
           33.70076817739753,
           27.65536523008045,
           41.95344228012768,
           32.21079631814588,
           29.281829924875215,
           25.464458818137345,
           29.942122921335244,
           24.41266225338262,
           93.09825286652102,
           27.105359779200203
          ]
         },
         "node": {
          "color": "rgba(100, 150, 200, 0.8)",
          "label": [
           "Wind",
           "Urban Grid",
           "Hydro",
           "Commercial",
           "Base Load",
           "Nuclear",
           "Solar",
           "Peak",
           "Coal",
           "Residential",
           "Pumped Hydro",
           "Transport",
           "Rural Grid",
           "Industrial",
           "Battery",
           "Variable",
           "Direct Grid"
          ],
          "line": {
           "color": "black",
           "width": 0.5
          },
          "pad": 25,
          "thickness": 20
         },
         "type": "sankey"
        }
       ],
       "frames": [
        {
         "data": [
          {
           "link": {
            "color": [
             "rgba(100, 150, 200, 0.4)",
             "rgba(100, 150, 200, 0.4)",
             "rgba(100, 150, 200, 0.4)",
             "rgba(100, 150, 200, 0.4)",
             "rgba(100, 150, 200, 0.4)",
             "rgba(100, 150, 200, 0.4)",
             "rgba(100, 150, 200, 0.4)",
             "rgba(100, 150, 200, 0.4)",
             "rgba(100, 150, 200, 0.4)",
             "rgba(100, 150, 200, 0.4)",
             "rgba(100, 150, 200, 0.4)",
             "rgba(100, 150, 200, 0.4)",
             "rgba(100, 150, 200, 0.4)",
             "rgba(100, 150, 200, 0.4)",
             "rgba(100, 150, 200, 0.4)",
             "rgba(100, 150, 200, 0.4)",
             "rgba(100, 150, 200, 0.4)",
             "rgba(100, 150, 200, 0.4)",
             "rgba(100, 150, 200, 0.4)",
             "rgba(100, 150, 200, 0.4)",
             "rgba(100, 150, 200, 0.4)",
             "rgba(100, 150, 200, 0.4)",
             "rgba(100, 150, 200, 0.4)",
             "rgba(100, 150, 200, 0.4)",
             "rgba(100, 150, 200, 0.4)",
             "rgba(100, 150, 200, 0.4)",
             "rgba(100, 150, 200, 0.4)",
             "rgba(100, 150, 200, 0.4)",
             "rgba(100, 150, 200, 0.4)",
             "rgba(100, 150, 200, 0.4)",
             "rgba(100, 150, 200, 0.4)",
             "rgba(100, 150, 200, 0.4)",
             "rgba(100, 150, 200, 0.4)",
             "rgba(100, 150, 200, 0.4)",
             "rgba(100, 150, 200, 0.4)",
             "rgba(100, 150, 200, 0.4)",
             "rgba(100, 150, 200, 0.4)",
             "rgba(100, 150, 200, 0.4)",
             "rgba(100, 150, 200, 0.4)",
             "rgba(100, 150, 200, 0.4)",
             "rgba(100, 150, 200, 0.4)",
             "rgba(100, 150, 200, 0.4)",
             "rgba(100, 150, 200, 0.4)",
             "rgba(100, 150, 200, 0.4)",
             "rgba(100, 150, 200, 0.4)"
            ],
            "source": [
             6,
             6,
             6,
             0,
             0,
             0,
             2,
             2,
             2,
             8,
             8,
             8,
             5,
             5,
             5,
             7,
             7,
             7,
             4,
             4,
             4,
             15,
             15,
             15,
             14,
             14,
             14,
             10,
             10,
             10,
             16,
             16,
             16,
             1,
             1,
             1,
             1,
             12,
             12,
             12,
             12,
             13,
             13,
             13,
             13
            ],
            "target": [
             7,
             4,
             15,
             7,
             4,
             15,
             7,
             4,
             15,
             7,
             4,
             15,
             7,
             4,
             15,
             14,
             10,
             16,
             14,
             10,
             16,
             14,
             10,
             16,
             1,
             12,
             13,
             1,
             12,
             13,
             1,
             12,
             13,
             9,
             3,
             13,
             11,
             9,
             3,
             13,
             11,
             9,
             3,
             13,
             11
            ],
            "value": [
             18.9963209507789,
             23.60571445127933,
             104.90856736555794,
             15.59195090518222,
             12.93611184265462,
             76.05187317967574,
             49.39400669203679,
             45.85881833239896,
             41.61784018789134,
             32.49687093355255,
             72.7410417946489,
             35.63891822594393,
             33.98931168960506,
             79.64420798441795,
             26.18189960648521,
             24.30128117736181,
             44.12726728878613,
             30.445615769380282,
             28.775010335558086,
             26.242124523564755,
             106.71117368334278,
             47.0217789834735,
             26.258603673633928,
             27.59451317928645,
             62.8034992108518,
             79.25879806965068,
             49.98368910791799,
             65.71172192068059,
             69.62072844310212,
             42.32252063599989,
             70.37724259507192,
             48.526206184364575,
             43.25257964926398,
             82.56879504309332,
             83.03769692608765,
             33.70076817739753,
             27.65536523008045,
             41.95344228012768,
             32.21079631814588,
             29.281829924875215,
             25.464458818137345,
             29.942122921335244,
             24.41266225338262,
             93.09825286652102,
             27.105359779200203
            ]
           },
           "node": {
            "color": "rgba(100, 150, 200, 0.8)",
            "label": [
             "Wind",
             "Urban Grid",
             "Hydro",
             "Commercial",
             "Base Load",
             "Nuclear",
             "Solar",
             "Peak",
             "Coal",
             "Residential",
             "Pumped Hydro",
             "Transport",
             "Rural Grid",
             "Industrial",
             "Battery",
             "Variable",
             "Direct Grid"
            ],
            "line": {
             "color": "black",
             "width": 0.5
            },
            "pad": 25,
            "thickness": 20
           },
           "type": "sankey"
          }
         ],
         "name": "2024-01-31 00:00:00"
        },
        {
         "data": [
          {
           "link": {
            "color": [
             "rgba(100, 150, 200, 0.4)",
             "rgba(100, 150, 200, 0.4)",
             "rgba(100, 150, 200, 0.4)",
             "rgba(100, 150, 200, 0.4)",
             "rgba(100, 150, 200, 0.4)",
             "rgba(100, 150, 200, 0.4)",
             "rgba(100, 150, 200, 0.4)",
             "rgba(100, 150, 200, 0.4)",
             "rgba(100, 150, 200, 0.4)",
             "rgba(100, 150, 200, 0.4)",
             "rgba(100, 150, 200, 0.4)",
             "rgba(100, 150, 200, 0.4)",
             "rgba(100, 150, 200, 0.4)",
             "rgba(100, 150, 200, 0.4)",
             "rgba(100, 150, 200, 0.4)",
             "rgba(100, 150, 200, 0.4)",
             "rgba(100, 150, 200, 0.4)",
             "rgba(100, 150, 200, 0.4)",
             "rgba(100, 150, 200, 0.4)",
             "rgba(100, 150, 200, 0.4)",
             "rgba(100, 150, 200, 0.4)",
             "rgba(100, 150, 200, 0.4)",
             "rgba(100, 150, 200, 0.4)",
             "rgba(100, 150, 200, 0.4)",
             "rgba(100, 150, 200, 0.4)",
             "rgba(100, 150, 200, 0.4)",
             "rgba(100, 150, 200, 0.4)",
             "rgba(100, 150, 200, 0.4)",
             "rgba(100, 150, 200, 0.4)",
             "rgba(100, 150, 200, 0.4)",
             "rgba(100, 150, 200, 0.4)",
             "rgba(100, 150, 200, 0.4)",
             "rgba(100, 150, 200, 0.4)",
             "rgba(100, 150, 200, 0.4)",
             "rgba(100, 150, 200, 0.4)",
             "rgba(100, 150, 200, 0.4)",
             "rgba(100, 150, 200, 0.4)",
             "rgba(100, 150, 200, 0.4)",
             "rgba(100, 150, 200, 0.4)",
             "rgba(100, 150, 200, 0.4)",
             "rgba(100, 150, 200, 0.4)",
             "rgba(100, 150, 200, 0.4)",
             "rgba(100, 150, 200, 0.4)",
             "rgba(100, 150, 200, 0.4)",
             "rgba(100, 150, 200, 0.4)"
            ],
            "source": [
             6,
             6,
             6,
             0,
             0,
             0,
             2,
             2,
             2,
             8,
             8,
             8,
             5,
             5,
             5,
             7,
             7,
             7,
             4,
             4,
             4,
             15,
             15,
             15,
             14,
             14,
             14,
             10,
             10,
             10,
             16,
             16,
             16,
             1,
             1,
             1,
             1,
             12,
             12,
             12,
             12,
             13,
             13,
             13,
             13
            ],
            "target": [
             7,
             4,
             15,
             7,
             4,
             15,
             7,
             4,
             15,
             7,
             4,
             15,
             7,
             4,
             15,
             14,
             10,
             16,
             14,
             10,
             16,
             14,
             10,
             16,
             1,
             12,
             13,
             1,
             12,
             13,
             1,
             12,
             13,
             9,
             3,
             13,
             11,
             9,
             3,
             13,
             11,
             9,
             3,
             13,
             11
            ],
            "value": [
             21.300178274831858,
             18.49368860871529,
             108.57744612543094,
             15.280261676059677,
             13.109126733153163,
             95.6206250140188,
             66.60318776066674,
             47.03198306502703,
             46.31723760684238,
             31.174799745733022,
             105.18747246083221,
             25.061910024623035,
             26.351794349029742,
             73.62818240077938,
             27.90396396915917,
             27.996191214410675,
             43.14047095321688,
             35.917275164734725,
             27.421559880484605,
             26.056821174372857,
             102.56176498949489,
             47.07327209909145,
             35.439545653572715,
             22.341911586235874,
             89.34434683002587,
             78.61223846483287,
             49.93578407670862,
             40.27610585618012,
             80.77307142274171,
             75.34286719238085,
             76.45035840204937,
             78.56351733429729,
             43.70223258670452,
             66.03704039923963,
             59.24433366670363,
             34.35724111050712,
             31.479577521930693,
             46.617960497052984,
             24.762700203432285,
             27.731787860587946,
             27.902199864320963,
             32.75527414005677,
             31.650689656262557,
             92.39080776244245,
             29.66657910194339
            ]
           },
           "node": {
            "color": "rgba(100, 150, 200, 0.8)",
            "label": [
             "Wind",
             "Urban Grid",
             "Hydro",
             "Commercial",
             "Base Load",
             "Nuclear",
             "Solar",
             "Peak",
             "Coal",
             "Residential",
             "Pumped Hydro",
             "Transport",
             "Rural Grid",
             "Industrial",
             "Battery",
             "Variable",
             "Direct Grid"
            ],
            "line": {
             "color": "black",
             "width": 0.5
            },
            "pad": 25,
            "thickness": 20
           },
           "type": "sankey"
          }
         ],
         "name": "2024-02-29 00:00:00"
        },
        {
         "data": [
          {
           "link": {
            "color": [
             "rgba(100, 150, 200, 0.4)",
             "rgba(100, 150, 200, 0.4)",
             "rgba(100, 150, 200, 0.4)",
             "rgba(100, 150, 200, 0.4)",
             "rgba(100, 150, 200, 0.4)",
             "rgba(100, 150, 200, 0.4)",
             "rgba(100, 150, 200, 0.4)",
             "rgba(100, 150, 200, 0.4)",
             "rgba(100, 150, 200, 0.4)",
             "rgba(100, 150, 200, 0.4)",
             "rgba(100, 150, 200, 0.4)",
             "rgba(100, 150, 200, 0.4)",
             "rgba(100, 150, 200, 0.4)",
             "rgba(100, 150, 200, 0.4)",
             "rgba(100, 150, 200, 0.4)",
             "rgba(100, 150, 200, 0.4)",
             "rgba(100, 150, 200, 0.4)",
             "rgba(100, 150, 200, 0.4)",
             "rgba(100, 150, 200, 0.4)",
             "rgba(100, 150, 200, 0.4)",
             "rgba(100, 150, 200, 0.4)",
             "rgba(100, 150, 200, 0.4)",
             "rgba(100, 150, 200, 0.4)",
             "rgba(100, 150, 200, 0.4)",
             "rgba(100, 150, 200, 0.4)",
             "rgba(100, 150, 200, 0.4)",
             "rgba(100, 150, 200, 0.4)",
             "rgba(100, 150, 200, 0.4)",
             "rgba(100, 150, 200, 0.4)",
             "rgba(100, 150, 200, 0.4)",
             "rgba(100, 150, 200, 0.4)",
             "rgba(100, 150, 200, 0.4)",
             "rgba(100, 150, 200, 0.4)",
             "rgba(100, 150, 200, 0.4)",
             "rgba(100, 150, 200, 0.4)",
             "rgba(100, 150, 200, 0.4)",
             "rgba(100, 150, 200, 0.4)",
             "rgba(100, 150, 200, 0.4)",
             "rgba(100, 150, 200, 0.4)",
             "rgba(100, 150, 200, 0.4)",
             "rgba(100, 150, 200, 0.4)",
             "rgba(100, 150, 200, 0.4)",
             "rgba(100, 150, 200, 0.4)",
             "rgba(100, 150, 200, 0.4)",
             "rgba(100, 150, 200, 0.4)"
            ],
            "source": [
             6,
             6,
             6,
             0,
             0,
             0,
             2,
             2,
             2,
             8,
             8,
             8,
             5,
             5,
             5,
             7,
             7,
             7,
             4,
             4,
             4,
             15,
             15,
             15,
             14,
             14,
             14,
             10,
             10,
             10,
             16,
             16,
             16,
             1,
             1,
             1,
             1,
             12,
             12,
             12,
             12,
             13,
             13,
             13,
             13
            ],
            "target": [
             7,
             4,
             15,
             7,
             4,
             15,
             7,
             4,
             15,
             7,
             4,
             15,
             7,
             4,
             15,
             14,
             10,
             16,
             14,
             10,
             16,
             14,
             10,
             16,
             1,
             12,
             13,
             1,
             12,
             13,
             1,
             12,
             13,
             9,
             3,
             13,
             11,
             9,
             3,
             13,
             11,
             9,
             3,
             13,
             11
            ],
            "value": [
             16.956753967506415,
             21.70595829778396,
             123.68317017803699,
             15.367663185416978,
             16.625803079727365,
             69.82627669820295,
             60.54558790516786,
             38.84065629373679,
             32.40670602790552,
             25.294697123919654,
             73.13145068472244,
             31.636924935165364,
             27.77227177291592,
             90.3085448819293,
             34.89079768711312,
             25.487260124679747,
             47.31148769106889,
             34.599920493774874,
             25.118366978849203,
             22.385638376918273,
             87.38508717482608,
             47.803966341144154,
             37.73455774216632,
             35.5461668321595,
             71.67018782552117,
             83.57302950938589,
             80.18360384495573,
             49.32850294430179,
             84.62794992449889,
             66.96711209578254,
             80.37200775820313,
             84.80456499617466,
             55.90017374859319,
             59.08145388677495,
             62.38218455117437,
             29.125293463515074,
             33.81617719106992,
             57.21461166512687,
             24.083425566374288,
             30.128967630930788,
             29.008932037785346,
             26.665293725648766,
             25.438384408004193,
             74.8036854849161,
             35.31491644695023
            ]
           },
           "node": {
            "color": "rgba(100, 150, 200, 0.8)",
            "label": [
             "Wind",
             "Urban Grid",
             "Hydro",
             "Commercial",
             "Base Load",
             "Nuclear",
             "Solar",
             "Peak",
             "Coal",
             "Residential",
             "Pumped Hydro",
             "Transport",
             "Rural Grid",
             "Industrial",
             "Battery",
             "Variable",
             "Direct Grid"
            ],
            "line": {
             "color": "black",
             "width": 0.5
            },
            "pad": 25,
            "thickness": 20
           },
           "type": "sankey"
          }
         ],
         "name": "2024-03-31 00:00:00"
        },
        {
         "data": [
          {
           "link": {
            "color": [
             "rgba(100, 150, 200, 0.4)",
             "rgba(100, 150, 200, 0.4)",
             "rgba(100, 150, 200, 0.4)",
             "rgba(100, 150, 200, 0.4)",
             "rgba(100, 150, 200, 0.4)",
             "rgba(100, 150, 200, 0.4)",
             "rgba(100, 150, 200, 0.4)",
             "rgba(100, 150, 200, 0.4)",
             "rgba(100, 150, 200, 0.4)",
             "rgba(100, 150, 200, 0.4)",
             "rgba(100, 150, 200, 0.4)",
             "rgba(100, 150, 200, 0.4)",
             "rgba(100, 150, 200, 0.4)",
             "rgba(100, 150, 200, 0.4)",
             "rgba(100, 150, 200, 0.4)",
             "rgba(100, 150, 200, 0.4)",
             "rgba(100, 150, 200, 0.4)",
             "rgba(100, 150, 200, 0.4)",
             "rgba(100, 150, 200, 0.4)",
             "rgba(100, 150, 200, 0.4)",
             "rgba(100, 150, 200, 0.4)",
             "rgba(100, 150, 200, 0.4)",
             "rgba(100, 150, 200, 0.4)",
             "rgba(100, 150, 200, 0.4)",
             "rgba(100, 150, 200, 0.4)",
             "rgba(100, 150, 200, 0.4)",
             "rgba(100, 150, 200, 0.4)",
             "rgba(100, 150, 200, 0.4)",
             "rgba(100, 150, 200, 0.4)",
             "rgba(100, 150, 200, 0.4)",
             "rgba(100, 150, 200, 0.4)",
             "rgba(100, 150, 200, 0.4)",
             "rgba(100, 150, 200, 0.4)",
             "rgba(100, 150, 200, 0.4)",
             "rgba(100, 150, 200, 0.4)",
             "rgba(100, 150, 200, 0.4)",
             "rgba(100, 150, 200, 0.4)",
             "rgba(100, 150, 200, 0.4)",
             "rgba(100, 150, 200, 0.4)",
             "rgba(100, 150, 200, 0.4)",
             "rgba(100, 150, 200, 0.4)",
             "rgba(100, 150, 200, 0.4)",
             "rgba(100, 150, 200, 0.4)",
             "rgba(100, 150, 200, 0.4)",
             "rgba(100, 150, 200, 0.4)"
            ],
            "source": [
             6,
             6,
             6,
             0,
             0,
             0,
             2,
             2,
             2,
             8,
             8,
             8,
             5,
             5,
             5,
             7,
             7,
             7,
             4,
             4,
             4,
             15,
             15,
             15,
             14,
             14,
             14,
             10,
             10,
             10,
             16,
             16,
             16,
             1,
             1,
             1,
             1,
             12,
             12,
             12,
             12,
             13,
             13,
             13,
             13
            ],
            "target": [
             7,
             4,
             15,
             7,
             4,
             15,
             7,
             4,
             15,
             7,
             4,
             15,
             7,
             4,
             15,
             14,
             10,
             16,
             14,
             10,
             16,
             14,
             10,
             16,
             1,
             12,
             13,
             1,
             12,
             13,
             1,
             12,
             13,
             9,
             3,
             13,
             11,
             9,
             3,
             13,
             11,
             9,
             3,
             13,
             11
            ],
            "value": [
             18.585623456166044,
             20.150324973946926,
             116.45991017666734,
             14.181777614275765,
             17.830692496325764,
             70.50624561962225,
             54.042775099808736,
             39.95597609427817,
             36.81405295706831,
             27.418085932529614,
             73.32793010476318,
             31.314772007758762,
             30.032148278746337,
             73.85323504499962,
             27.343757570839337,
             37.34878594739976,
             42.18685672000917,
             23.608107697642016,
             29.810149684996134,
             38.741708173990816,
             84.52331629069002,
             66.19687970661164,
             34.709153075916916,
             25.277475791863196,
             76.41081743059297,
             58.389156635962664,
             71.61529152967897,
             71.67648553804473,
             66.78873420373793,
             44.51448850272041,
             81.7651247794619,
             56.039003248586795,
             49.32592551999271,
             57.14170396353339,
             72.54500240927077,
             32.130772342107385,
             24.199053947134274,
             50.241861165985625,
             26.717949302375256,
             31.742073484913394,
             26.0923971480599,
             32.29125285722959,
             28.64082415560645,
             93.9753596395755,
             25.65025132975192
            ]
           },
           "node": {
            "color": "rgba(100, 150, 200, 0.8)",
            "label": [
             "Wind",
             "Urban Grid",
             "Hydro",
             "Commercial",
             "Base Load",
             "Nuclear",
             "Solar",
             "Peak",
             "Coal",
             "Residential",
             "Pumped Hydro",
             "Transport",
             "Rural Grid",
             "Industrial",
             "Battery",
             "Variable",
             "Direct Grid"
            ],
            "line": {
             "color": "black",
             "width": 0.5
            },
            "pad": 25,
            "thickness": 20
           },
           "type": "sankey"
          }
         ],
         "name": "2024-04-30 00:00:00"
        },
        {
         "data": [
          {
           "link": {
            "color": [
             "rgba(100, 150, 200, 0.4)",
             "rgba(100, 150, 200, 0.4)",
             "rgba(100, 150, 200, 0.4)",
             "rgba(100, 150, 200, 0.4)",
             "rgba(100, 150, 200, 0.4)",
             "rgba(100, 150, 200, 0.4)",
             "rgba(100, 150, 200, 0.4)",
             "rgba(100, 150, 200, 0.4)",
             "rgba(100, 150, 200, 0.4)",
             "rgba(100, 150, 200, 0.4)",
             "rgba(100, 150, 200, 0.4)",
             "rgba(100, 150, 200, 0.4)",
             "rgba(100, 150, 200, 0.4)",
             "rgba(100, 150, 200, 0.4)",
             "rgba(100, 150, 200, 0.4)",
             "rgba(100, 150, 200, 0.4)",
             "rgba(100, 150, 200, 0.4)",
             "rgba(100, 150, 200, 0.4)",
             "rgba(100, 150, 200, 0.4)",
             "rgba(100, 150, 200, 0.4)",
             "rgba(100, 150, 200, 0.4)",
             "rgba(100, 150, 200, 0.4)",
             "rgba(100, 150, 200, 0.4)",
             "rgba(100, 150, 200, 0.4)",
             "rgba(100, 150, 200, 0.4)",
             "rgba(100, 150, 200, 0.4)",
             "rgba(100, 150, 200, 0.4)",
             "rgba(100, 150, 200, 0.4)",
             "rgba(100, 150, 200, 0.4)",
             "rgba(100, 150, 200, 0.4)",
             "rgba(100, 150, 200, 0.4)",
             "rgba(100, 150, 200, 0.4)",
             "rgba(100, 150, 200, 0.4)",
             "rgba(100, 150, 200, 0.4)",
             "rgba(100, 150, 200, 0.4)",
             "rgba(100, 150, 200, 0.4)",
             "rgba(100, 150, 200, 0.4)",
             "rgba(100, 150, 200, 0.4)",
             "rgba(100, 150, 200, 0.4)",
             "rgba(100, 150, 200, 0.4)",
             "rgba(100, 150, 200, 0.4)",
             "rgba(100, 150, 200, 0.4)",
             "rgba(100, 150, 200, 0.4)",
             "rgba(100, 150, 200, 0.4)",
             "rgba(100, 150, 200, 0.4)"
            ],
            "source": [
             6,
             6,
             6,
             0,
             0,
             0,
             2,
             2,
             2,
             8,
             8,
             8,
             5,
             5,
             5,
             7,
             7,
             7,
             4,
             4,
             4,
             15,
             15,
             15,
             14,
             14,
             14,
             10,
             10,
             10,
             16,
             16,
             16,
             1,
             1,
             1,
             1,
             12,
             12,
             12,
             12,
             13,
             13,
             13,
             13
            ],
            "target": [
             7,
             4,
             15,
             7,
             4,
             15,
             7,
             4,
             15,
             7,
             4,
             15,
             7,
             4,
             15,
             14,
             10,
             16,
             14,
             10,
             16,
             14,
             10,
             16,
             1,
             12,
             13,
             1,
             12,
             13,
             1,
             12,
             13,
             9,
             3,
             13,
             11,
             9,
             3,
             13,
             11,
             9,
             3,
             13,
             11
            ],
            "value": [
             18.72853080840207,
             16.907788169924714,
             112.30823494189681,
             17.264036120285887,
             13.547649766290935,
             55.129197725730926,
             67.61333280482918,
             40.8832129855914,
             40.4744092536961,
             26.902227490805423,
             75.35169964101237,
             34.76658909543992,
             34.80501668595996,
             94.79165246183766,
             28.068357492584408,
             27.285772343027894,
             56.77867036610718,
             37.14798467914639,
             36.96755563677211,
             35.037759825437234,
             108.52189876925726,
             45.02903873982176,
             23.909316853703046,
             37.17397539348743,
             70.3214529829795,
             40.45985258083148,
             45.073577143301605,
             73.1750884554028,
             40.253079192310935,
             48.04040257087493,
             67.4366894683293,
             74.59475988463467,
             72.59806297513003,
             62.27954066489568,
             75.94101819773101,
             26.8469890499616,
             27.904796377911214,
             54.92982810236048,
             31.795594788566575,
             34.19068092593013,
             31.89135470760412,
             30.81970324002566,
             25.124097213937112,
             75.76690569790188,
             27.182428412180705
            ]
           },
           "node": {
            "color": "rgba(100, 150, 200, 0.8)",
            "label": [
             "Wind",
             "Urban Grid",
             "Hydro",
             "Commercial",
             "Base Load",
             "Nuclear",
             "Solar",
             "Peak",
             "Coal",
             "Residential",
             "Pumped Hydro",
             "Transport",
             "Rural Grid",
             "Industrial",
             "Battery",
             "Variable",
             "Direct Grid"
            ],
            "line": {
             "color": "black",
             "width": 0.5
            },
            "pad": 25,
            "thickness": 20
           },
           "type": "sankey"
          }
         ],
         "name": "2024-05-31 00:00:00"
        },
        {
         "data": [
          {
           "link": {
            "color": [
             "rgba(100, 150, 200, 0.4)",
             "rgba(100, 150, 200, 0.4)",
             "rgba(100, 150, 200, 0.4)",
             "rgba(100, 150, 200, 0.4)",
             "rgba(100, 150, 200, 0.4)",
             "rgba(100, 150, 200, 0.4)",
             "rgba(100, 150, 200, 0.4)",
             "rgba(100, 150, 200, 0.4)",
             "rgba(100, 150, 200, 0.4)",
             "rgba(100, 150, 200, 0.4)",
             "rgba(100, 150, 200, 0.4)",
             "rgba(100, 150, 200, 0.4)",
             "rgba(100, 150, 200, 0.4)",
             "rgba(100, 150, 200, 0.4)",
             "rgba(100, 150, 200, 0.4)",
             "rgba(100, 150, 200, 0.4)",
             "rgba(100, 150, 200, 0.4)",
             "rgba(100, 150, 200, 0.4)",
             "rgba(100, 150, 200, 0.4)",
             "rgba(100, 150, 200, 0.4)",
             "rgba(100, 150, 200, 0.4)",
             "rgba(100, 150, 200, 0.4)",
             "rgba(100, 150, 200, 0.4)",
             "rgba(100, 150, 200, 0.4)",
             "rgba(100, 150, 200, 0.4)",
             "rgba(100, 150, 200, 0.4)",
             "rgba(100, 150, 200, 0.4)",
             "rgba(100, 150, 200, 0.4)",
             "rgba(100, 150, 200, 0.4)",
             "rgba(100, 150, 200, 0.4)",
             "rgba(100, 150, 200, 0.4)",
             "rgba(100, 150, 200, 0.4)",
             "rgba(100, 150, 200, 0.4)",
             "rgba(100, 150, 200, 0.4)",
             "rgba(100, 150, 200, 0.4)",
             "rgba(100, 150, 200, 0.4)",
             "rgba(100, 150, 200, 0.4)",
             "rgba(100, 150, 200, 0.4)",
             "rgba(100, 150, 200, 0.4)",
             "rgba(100, 150, 200, 0.4)",
             "rgba(100, 150, 200, 0.4)",
             "rgba(100, 150, 200, 0.4)",
             "rgba(100, 150, 200, 0.4)",
             "rgba(100, 150, 200, 0.4)",
             "rgba(100, 150, 200, 0.4)"
            ],
            "source": [
             6,
             6,
             6,
             0,
             0,
             0,
             2,
             2,
             2,
             8,
             8,
             8,
             5,
             5,
             5,
             7,
             7,
             7,
             4,
             4,
             4,
             15,
             15,
             15,
             14,
             14,
             14,
             10,
             10,
             10,
             16,
             16,
             16,
             1,
             1,
             1,
             1,
             12,
             12,
             12,
             12,
             13,
             13,
             13,
             13
            ],
            "target": [
             7,
             4,
             15,
             7,
             4,
             15,
             7,
             4,
             15,
             7,
             4,
             15,
             7,
             4,
             15,
             14,
             10,
             16,
             14,
             10,
             16,
             14,
             10,
             16,
             1,
             12,
             13,
             1,
             12,
             13,
             1,
             12,
             13,
             9,
             3,
             13,
             11,
             9,
             3,
             13,
             11,
             9,
             3,
             13,
             11
            ],
            "value": [
             17.95191714703267,
             23.784084438019562,
             76.57912718933633,
             17.352279331062682,
             15.786831755983577,
             54.778301549416305,
             60.063290234524615,
             41.23046215402175,
             39.880283101101824,
             26.342915853576535,
             98.0082761494142,
             27.36926834929027,
             24.291791597177447,
             95.23700265265803,
             26.125328152884588,
             37.92825451835246,
             63.61785731007763,
             37.46755902396807,
             27.662856604597998,
             21.27821909751961,
             125.69911375526353,
             57.414629339423314,
             38.399786742786056,
             38.34515958760655,
             82.650472773368,
             54.72244460347928,
             59.25488643009626,
             82.55683357584284,
             55.84610025781389,
             48.474637334304624,
             67.84006312291751,
             86.80773870803904,
             74.80148983374865,
             71.96171276250222,
             58.72094182558153,
             31.380086720390036,
             35.88064620125115,
             42.80168030473048,
             30.21995582836484,
             34.52847686313547,
             32.88922341305045,
             32.364188891943215,
             32.42980900784531,
             75.50371683903217,
             27.52310213117392
            ]
           },
           "node": {
            "color": "rgba(100, 150, 200, 0.8)",
            "label": [
             "Wind",
             "Urban Grid",
             "Hydro",
             "Commercial",
             "Base Load",
             "Nuclear",
             "Solar",
             "Peak",
             "Coal",
             "Residential",
             "Pumped Hydro",
             "Transport",
             "Rural Grid",
             "Industrial",
             "Battery",
             "Variable",
             "Direct Grid"
            ],
            "line": {
             "color": "black",
             "width": 0.5
            },
            "pad": 25,
            "thickness": 20
           },
           "type": "sankey"
          }
         ],
         "name": "2024-06-30 00:00:00"
        }
       ],
       "layout": {
        "font": {
         "size": 12
        },
        "height": 700,
        "margin": {
         "b": 120,
         "l": 50,
         "r": 50,
         "t": 100
        },
        "paper_bgcolor": "rgba(0,0,0,0)",
        "plot_bgcolor": "rgba(0,0,0,0)",
        "sliders": [
         {
          "active": 0,
          "currentvalue": {
           "prefix": "date: ",
           "visible": true,
           "xanchor": "right"
          },
          "len": 0.9,
          "pad": {
           "b": 10,
           "t": 50
          },
          "steps": [
           {
            "args": [
             [
              "2024-01-31 00:00:00"
             ],
             {
              "frame": {
               "duration": 300,
               "redraw": true
              },
              "mode": "immediate",
              "transition": {
               "duration": 300,
               "easing": "linear"
              }
             }
            ],
            "label": "2024-01-31 00:00:00",
            "method": "animate"
           },
           {
            "args": [
             [
              "2024-02-29 00:00:00"
             ],
             {
              "frame": {
               "duration": 300,
               "redraw": true
              },
              "mode": "immediate",
              "transition": {
               "duration": 300,
               "easing": "linear"
              }
             }
            ],
            "label": "2024-02-29 00:00:00",
            "method": "animate"
           },
           {
            "args": [
             [
              "2024-03-31 00:00:00"
             ],
             {
              "frame": {
               "duration": 300,
               "redraw": true
              },
              "mode": "immediate",
              "transition": {
               "duration": 300,
               "easing": "linear"
              }
             }
            ],
            "label": "2024-03-31 00:00:00",
            "method": "animate"
           },
           {
            "args": [
             [
              "2024-04-30 00:00:00"
             ],
             {
              "frame": {
               "duration": 300,
               "redraw": true
              },
              "mode": "immediate",
              "transition": {
               "duration": 300,
               "easing": "linear"
              }
             }
            ],
            "label": "2024-04-30 00:00:00",
            "method": "animate"
           },
           {
            "args": [
             [
              "2024-05-31 00:00:00"
             ],
             {
              "frame": {
               "duration": 300,
               "redraw": true
              },
              "mode": "immediate",
              "transition": {
               "duration": 300,
               "easing": "linear"
              }
             }
            ],
            "label": "2024-05-31 00:00:00",
            "method": "animate"
           },
           {
            "args": [
             [
              "2024-06-30 00:00:00"
             ],
             {
              "frame": {
               "duration": 300,
               "redraw": true
              },
              "mode": "immediate",
              "transition": {
               "duration": 300,
               "easing": "linear"
              }
             }
            ],
            "label": "2024-06-30 00:00:00",
            "method": "animate"
           }
          ],
          "x": 0.1,
          "xanchor": "left",
          "y": 0,
          "yanchor": "top"
         }
        ],
        "template": {
         "data": {
          "bar": [
           {
            "error_x": {
             "color": "#2a3f5f"
            },
            "error_y": {
             "color": "#2a3f5f"
            },
            "marker": {
             "line": {
              "color": "#E5ECF6",
              "width": 0.5
             },
             "pattern": {
              "fillmode": "overlay",
              "size": 10,
              "solidity": 0.2
             }
            },
            "type": "bar"
           }
          ],
          "barpolar": [
           {
            "marker": {
             "line": {
              "color": "#E5ECF6",
              "width": 0.5
             },
             "pattern": {
              "fillmode": "overlay",
              "size": 10,
              "solidity": 0.2
             }
            },
            "type": "barpolar"
           }
          ],
          "carpet": [
           {
            "aaxis": {
             "endlinecolor": "#2a3f5f",
             "gridcolor": "white",
             "linecolor": "white",
             "minorgridcolor": "white",
             "startlinecolor": "#2a3f5f"
            },
            "baxis": {
             "endlinecolor": "#2a3f5f",
             "gridcolor": "white",
             "linecolor": "white",
             "minorgridcolor": "white",
             "startlinecolor": "#2a3f5f"
            },
            "type": "carpet"
           }
          ],
          "choropleth": [
           {
            "colorbar": {
             "outlinewidth": 0,
             "ticks": ""
            },
            "type": "choropleth"
           }
          ],
          "contour": [
           {
            "colorbar": {
             "outlinewidth": 0,
             "ticks": ""
            },
            "colorscale": [
             [
              0,
              "#0d0887"
             ],
             [
              0.1111111111111111,
              "#46039f"
             ],
             [
              0.2222222222222222,
              "#7201a8"
             ],
             [
              0.3333333333333333,
              "#9c179e"
             ],
             [
              0.4444444444444444,
              "#bd3786"
             ],
             [
              0.5555555555555556,
              "#d8576b"
             ],
             [
              0.6666666666666666,
              "#ed7953"
             ],
             [
              0.7777777777777778,
              "#fb9f3a"
             ],
             [
              0.8888888888888888,
              "#fdca26"
             ],
             [
              1,
              "#f0f921"
             ]
            ],
            "type": "contour"
           }
          ],
          "contourcarpet": [
           {
            "colorbar": {
             "outlinewidth": 0,
             "ticks": ""
            },
            "type": "contourcarpet"
           }
          ],
          "heatmap": [
           {
            "colorbar": {
             "outlinewidth": 0,
             "ticks": ""
            },
            "colorscale": [
             [
              0,
              "#0d0887"
             ],
             [
              0.1111111111111111,
              "#46039f"
             ],
             [
              0.2222222222222222,
              "#7201a8"
             ],
             [
              0.3333333333333333,
              "#9c179e"
             ],
             [
              0.4444444444444444,
              "#bd3786"
             ],
             [
              0.5555555555555556,
              "#d8576b"
             ],
             [
              0.6666666666666666,
              "#ed7953"
             ],
             [
              0.7777777777777778,
              "#fb9f3a"
             ],
             [
              0.8888888888888888,
              "#fdca26"
             ],
             [
              1,
              "#f0f921"
             ]
            ],
            "type": "heatmap"
           }
          ],
          "histogram": [
           {
            "marker": {
             "pattern": {
              "fillmode": "overlay",
              "size": 10,
              "solidity": 0.2
             }
            },
            "type": "histogram"
           }
          ],
          "histogram2d": [
           {
            "colorbar": {
             "outlinewidth": 0,
             "ticks": ""
            },
            "colorscale": [
             [
              0,
              "#0d0887"
             ],
             [
              0.1111111111111111,
              "#46039f"
             ],
             [
              0.2222222222222222,
              "#7201a8"
             ],
             [
              0.3333333333333333,
              "#9c179e"
             ],
             [
              0.4444444444444444,
              "#bd3786"
             ],
             [
              0.5555555555555556,
              "#d8576b"
             ],
             [
              0.6666666666666666,
              "#ed7953"
             ],
             [
              0.7777777777777778,
              "#fb9f3a"
             ],
             [
              0.8888888888888888,
              "#fdca26"
             ],
             [
              1,
              "#f0f921"
             ]
            ],
            "type": "histogram2d"
           }
          ],
          "histogram2dcontour": [
           {
            "colorbar": {
             "outlinewidth": 0,
             "ticks": ""
            },
            "colorscale": [
             [
              0,
              "#0d0887"
             ],
             [
              0.1111111111111111,
              "#46039f"
             ],
             [
              0.2222222222222222,
              "#7201a8"
             ],
             [
              0.3333333333333333,
              "#9c179e"
             ],
             [
              0.4444444444444444,
              "#bd3786"
             ],
             [
              0.5555555555555556,
              "#d8576b"
             ],
             [
              0.6666666666666666,
              "#ed7953"
             ],
             [
              0.7777777777777778,
              "#fb9f3a"
             ],
             [
              0.8888888888888888,
              "#fdca26"
             ],
             [
              1,
              "#f0f921"
             ]
            ],
            "type": "histogram2dcontour"
           }
          ],
          "mesh3d": [
           {
            "colorbar": {
             "outlinewidth": 0,
             "ticks": ""
            },
            "type": "mesh3d"
           }
          ],
          "parcoords": [
           {
            "line": {
             "colorbar": {
              "outlinewidth": 0,
              "ticks": ""
             }
            },
            "type": "parcoords"
           }
          ],
          "pie": [
           {
            "automargin": true,
            "type": "pie"
           }
          ],
          "scatter": [
           {
            "fillpattern": {
             "fillmode": "overlay",
             "size": 10,
             "solidity": 0.2
            },
            "type": "scatter"
           }
          ],
          "scatter3d": [
           {
            "line": {
             "colorbar": {
              "outlinewidth": 0,
              "ticks": ""
             }
            },
            "marker": {
             "colorbar": {
              "outlinewidth": 0,
              "ticks": ""
             }
            },
            "type": "scatter3d"
           }
          ],
          "scattercarpet": [
           {
            "marker": {
             "colorbar": {
              "outlinewidth": 0,
              "ticks": ""
             }
            },
            "type": "scattercarpet"
           }
          ],
          "scattergeo": [
           {
            "marker": {
             "colorbar": {
              "outlinewidth": 0,
              "ticks": ""
             }
            },
            "type": "scattergeo"
           }
          ],
          "scattergl": [
           {
            "marker": {
             "colorbar": {
              "outlinewidth": 0,
              "ticks": ""
             }
            },
            "type": "scattergl"
           }
          ],
          "scattermap": [
           {
            "marker": {
             "colorbar": {
              "outlinewidth": 0,
              "ticks": ""
             }
            },
            "type": "scattermap"
           }
          ],
          "scattermapbox": [
           {
            "marker": {
             "colorbar": {
              "outlinewidth": 0,
              "ticks": ""
             }
            },
            "type": "scattermapbox"
           }
          ],
          "scatterpolar": [
           {
            "marker": {
             "colorbar": {
              "outlinewidth": 0,
              "ticks": ""
             }
            },
            "type": "scatterpolar"
           }
          ],
          "scatterpolargl": [
           {
            "marker": {
             "colorbar": {
              "outlinewidth": 0,
              "ticks": ""
             }
            },
            "type": "scatterpolargl"
           }
          ],
          "scatterternary": [
           {
            "marker": {
             "colorbar": {
              "outlinewidth": 0,
              "ticks": ""
             }
            },
            "type": "scatterternary"
           }
          ],
          "surface": [
           {
            "colorbar": {
             "outlinewidth": 0,
             "ticks": ""
            },
            "colorscale": [
             [
              0,
              "#0d0887"
             ],
             [
              0.1111111111111111,
              "#46039f"
             ],
             [
              0.2222222222222222,
              "#7201a8"
             ],
             [
              0.3333333333333333,
              "#9c179e"
             ],
             [
              0.4444444444444444,
              "#bd3786"
             ],
             [
              0.5555555555555556,
              "#d8576b"
             ],
             [
              0.6666666666666666,
              "#ed7953"
             ],
             [
              0.7777777777777778,
              "#fb9f3a"
             ],
             [
              0.8888888888888888,
              "#fdca26"
             ],
             [
              1,
              "#f0f921"
             ]
            ],
            "type": "surface"
           }
          ],
          "table": [
           {
            "cells": {
             "fill": {
              "color": "#EBF0F8"
             },
             "line": {
              "color": "white"
             }
            },
            "header": {
             "fill": {
              "color": "#C8D4E3"
             },
             "line": {
              "color": "white"
             }
            },
            "type": "table"
           }
          ]
         },
         "layout": {
          "annotationdefaults": {
           "arrowcolor": "#2a3f5f",
           "arrowhead": 0,
           "arrowwidth": 1
          },
          "autotypenumbers": "strict",
          "coloraxis": {
           "colorbar": {
            "outlinewidth": 0,
            "ticks": ""
           }
          },
          "colorscale": {
           "diverging": [
            [
             0,
             "#8e0152"
            ],
            [
             0.1,
             "#c51b7d"
            ],
            [
             0.2,
             "#de77ae"
            ],
            [
             0.3,
             "#f1b6da"
            ],
            [
             0.4,
             "#fde0ef"
            ],
            [
             0.5,
             "#f7f7f7"
            ],
            [
             0.6,
             "#e6f5d0"
            ],
            [
             0.7,
             "#b8e186"
            ],
            [
             0.8,
             "#7fbc41"
            ],
            [
             0.9,
             "#4d9221"
            ],
            [
             1,
             "#276419"
            ]
           ],
           "sequential": [
            [
             0,
             "#0d0887"
            ],
            [
             0.1111111111111111,
             "#46039f"
            ],
            [
             0.2222222222222222,
             "#7201a8"
            ],
            [
             0.3333333333333333,
             "#9c179e"
            ],
            [
             0.4444444444444444,
             "#bd3786"
            ],
            [
             0.5555555555555556,
             "#d8576b"
            ],
            [
             0.6666666666666666,
             "#ed7953"
            ],
            [
             0.7777777777777778,
             "#fb9f3a"
            ],
            [
             0.8888888888888888,
             "#fdca26"
            ],
            [
             1,
             "#f0f921"
            ]
           ],
           "sequentialminus": [
            [
             0,
             "#0d0887"
            ],
            [
             0.1111111111111111,
             "#46039f"
            ],
            [
             0.2222222222222222,
             "#7201a8"
            ],
            [
             0.3333333333333333,
             "#9c179e"
            ],
            [
             0.4444444444444444,
             "#bd3786"
            ],
            [
             0.5555555555555556,
             "#d8576b"
            ],
            [
             0.6666666666666666,
             "#ed7953"
            ],
            [
             0.7777777777777778,
             "#fb9f3a"
            ],
            [
             0.8888888888888888,
             "#fdca26"
            ],
            [
             1,
             "#f0f921"
            ]
           ]
          },
          "colorway": [
           "#636efa",
           "#EF553B",
           "#00cc96",
           "#ab63fa",
           "#FFA15A",
           "#19d3f3",
           "#FF6692",
           "#B6E880",
           "#FF97FF",
           "#FECB52"
          ],
          "font": {
           "color": "#2a3f5f"
          },
          "geo": {
           "bgcolor": "white",
           "lakecolor": "white",
           "landcolor": "#E5ECF6",
           "showlakes": true,
           "showland": true,
           "subunitcolor": "white"
          },
          "hoverlabel": {
           "align": "left"
          },
          "hovermode": "closest",
          "mapbox": {
           "style": "light"
          },
          "paper_bgcolor": "white",
          "plot_bgcolor": "#E5ECF6",
          "polar": {
           "angularaxis": {
            "gridcolor": "white",
            "linecolor": "white",
            "ticks": ""
           },
           "bgcolor": "#E5ECF6",
           "radialaxis": {
            "gridcolor": "white",
            "linecolor": "white",
            "ticks": ""
           }
          },
          "scene": {
           "xaxis": {
            "backgroundcolor": "#E5ECF6",
            "gridcolor": "white",
            "gridwidth": 2,
            "linecolor": "white",
            "showbackground": true,
            "ticks": "",
            "zerolinecolor": "white"
           },
           "yaxis": {
            "backgroundcolor": "#E5ECF6",
            "gridcolor": "white",
            "gridwidth": 2,
            "linecolor": "white",
            "showbackground": true,
            "ticks": "",
            "zerolinecolor": "white"
           },
           "zaxis": {
            "backgroundcolor": "#E5ECF6",
            "gridcolor": "white",
            "gridwidth": 2,
            "linecolor": "white",
            "showbackground": true,
            "ticks": "",
            "zerolinecolor": "white"
           }
          },
          "shapedefaults": {
           "line": {
            "color": "#2a3f5f"
           }
          },
          "ternary": {
           "aaxis": {
            "gridcolor": "white",
            "linecolor": "white",
            "ticks": ""
           },
           "baxis": {
            "gridcolor": "white",
            "linecolor": "white",
            "ticks": ""
           },
           "bgcolor": "#E5ECF6",
           "caxis": {
            "gridcolor": "white",
            "linecolor": "white",
            "ticks": ""
           }
          },
          "title": {
           "x": 0.05
          },
          "xaxis": {
           "automargin": true,
           "gridcolor": "white",
           "linecolor": "white",
           "ticks": "",
           "title": {
            "standoff": 15
           },
           "zerolinecolor": "white",
           "zerolinewidth": 2
          },
          "yaxis": {
           "automargin": true,
           "gridcolor": "white",
           "linecolor": "white",
           "ticks": "",
           "title": {
            "standoff": 15
           },
           "zerolinecolor": "white",
           "zerolinewidth": 2
          }
         }
        },
        "title": {
         "text": "⚡ Fast Animation (300ms)"
        },
        "updatemenus": [
         {
          "buttons": [
           {
            "args": [
             null,
             {
              "frame": {
               "duration": 300,
               "redraw": true
              },
              "fromcurrent": true,
              "transition": {
               "duration": 300,
               "easing": "linear"
              }
             }
            ],
            "label": "Play",
            "method": "animate"
           },
           {
            "args": [
             [
              null
             ],
             {
              "frame": {
               "duration": 0,
               "redraw": true
              },
              "mode": "immediate"
             }
            ],
            "label": "Pause",
            "method": "animate"
           }
          ],
          "direction": "left",
          "pad": {
           "r": 10,
           "t": 87
          },
          "showactive": false,
          "type": "buttons",
          "x": 0.1,
          "xanchor": "right",
          "y": 0,
          "yanchor": "top"
         }
        ]
       }
      }
     },
     "metadata": {},
     "output_type": "display_data"
    },
    {
     "data": {
      "application/vnd.plotly.v1+json": {
       "config": {
        "plotlyServerURL": "https://plot.ly"
       },
       "data": [
        {
         "link": {
          "color": [
           "rgba(100, 150, 200, 0.4)",
           "rgba(100, 150, 200, 0.4)",
           "rgba(100, 150, 200, 0.4)",
           "rgba(100, 150, 200, 0.4)",
           "rgba(100, 150, 200, 0.4)",
           "rgba(100, 150, 200, 0.4)",
           "rgba(100, 150, 200, 0.4)",
           "rgba(100, 150, 200, 0.4)",
           "rgba(100, 150, 200, 0.4)",
           "rgba(100, 150, 200, 0.4)",
           "rgba(100, 150, 200, 0.4)",
           "rgba(100, 150, 200, 0.4)",
           "rgba(100, 150, 200, 0.4)",
           "rgba(100, 150, 200, 0.4)",
           "rgba(100, 150, 200, 0.4)",
           "rgba(100, 150, 200, 0.4)",
           "rgba(100, 150, 200, 0.4)",
           "rgba(100, 150, 200, 0.4)",
           "rgba(100, 150, 200, 0.4)",
           "rgba(100, 150, 200, 0.4)",
           "rgba(100, 150, 200, 0.4)",
           "rgba(100, 150, 200, 0.4)",
           "rgba(100, 150, 200, 0.4)",
           "rgba(100, 150, 200, 0.4)",
           "rgba(100, 150, 200, 0.4)",
           "rgba(100, 150, 200, 0.4)",
           "rgba(100, 150, 200, 0.4)",
           "rgba(100, 150, 200, 0.4)",
           "rgba(100, 150, 200, 0.4)",
           "rgba(100, 150, 200, 0.4)",
           "rgba(100, 150, 200, 0.4)",
           "rgba(100, 150, 200, 0.4)",
           "rgba(100, 150, 200, 0.4)",
           "rgba(100, 150, 200, 0.4)",
           "rgba(100, 150, 200, 0.4)",
           "rgba(100, 150, 200, 0.4)",
           "rgba(100, 150, 200, 0.4)",
           "rgba(100, 150, 200, 0.4)",
           "rgba(100, 150, 200, 0.4)",
           "rgba(100, 150, 200, 0.4)",
           "rgba(100, 150, 200, 0.4)",
           "rgba(100, 150, 200, 0.4)",
           "rgba(100, 150, 200, 0.4)",
           "rgba(100, 150, 200, 0.4)",
           "rgba(100, 150, 200, 0.4)"
          ],
          "source": [
           6,
           6,
           6,
           0,
           0,
           0,
           2,
           2,
           2,
           8,
           8,
           8,
           5,
           5,
           5,
           7,
           7,
           7,
           4,
           4,
           4,
           15,
           15,
           15,
           14,
           14,
           14,
           10,
           10,
           10,
           16,
           16,
           16,
           1,
           1,
           1,
           1,
           12,
           12,
           12,
           12,
           13,
           13,
           13,
           13
          ],
          "target": [
           7,
           4,
           15,
           7,
           4,
           15,
           7,
           4,
           15,
           7,
           4,
           15,
           7,
           4,
           15,
           14,
           10,
           16,
           14,
           10,
           16,
           14,
           10,
           16,
           1,
           12,
           13,
           1,
           12,
           13,
           1,
           12,
           13,
           9,
           3,
           13,
           11,
           9,
           3,
           13,
           11,
           9,
           3,
           13,
           11
          ],
          "value": [
           18.9963209507789,
           23.60571445127933,
           104.90856736555794,
           15.59195090518222,
           12.93611184265462,
           76.05187317967574,
           49.39400669203679,
           45.85881833239896,
           41.61784018789134,
           32.49687093355255,
           72.7410417946489,
           35.63891822594393,
           33.98931168960506,
           79.64420798441795,
           26.18189960648521,
           24.30128117736181,
           44.12726728878613,
           30.445615769380282,
           28.775010335558086,
           26.242124523564755,
           106.71117368334278,
           47.0217789834735,
           26.258603673633928,
           27.59451317928645,
           62.8034992108518,
           79.25879806965068,
           49.98368910791799,
           65.71172192068059,
           69.62072844310212,
           42.32252063599989,
           70.37724259507192,
           48.526206184364575,
           43.25257964926398,
           82.56879504309332,
           83.03769692608765,
           33.70076817739753,
           27.65536523008045,
           41.95344228012768,
           32.21079631814588,
           29.281829924875215,
           25.464458818137345,
           29.942122921335244,
           24.41266225338262,
           93.09825286652102,
           27.105359779200203
          ]
         },
         "node": {
          "color": "rgba(100, 150, 200, 0.8)",
          "label": [
           "Wind",
           "Urban Grid",
           "Hydro",
           "Commercial",
           "Base Load",
           "Nuclear",
           "Solar",
           "Peak",
           "Coal",
           "Residential",
           "Pumped Hydro",
           "Transport",
           "Rural Grid",
           "Industrial",
           "Battery",
           "Variable",
           "Direct Grid"
          ],
          "line": {
           "color": "black",
           "width": 0.5
          },
          "pad": 25,
          "thickness": 20
         },
         "type": "sankey"
        }
       ],
       "frames": [
        {
         "data": [
          {
           "link": {
            "color": [
             "rgba(100, 150, 200, 0.4)",
             "rgba(100, 150, 200, 0.4)",
             "rgba(100, 150, 200, 0.4)",
             "rgba(100, 150, 200, 0.4)",
             "rgba(100, 150, 200, 0.4)",
             "rgba(100, 150, 200, 0.4)",
             "rgba(100, 150, 200, 0.4)",
             "rgba(100, 150, 200, 0.4)",
             "rgba(100, 150, 200, 0.4)",
             "rgba(100, 150, 200, 0.4)",
             "rgba(100, 150, 200, 0.4)",
             "rgba(100, 150, 200, 0.4)",
             "rgba(100, 150, 200, 0.4)",
             "rgba(100, 150, 200, 0.4)",
             "rgba(100, 150, 200, 0.4)",
             "rgba(100, 150, 200, 0.4)",
             "rgba(100, 150, 200, 0.4)",
             "rgba(100, 150, 200, 0.4)",
             "rgba(100, 150, 200, 0.4)",
             "rgba(100, 150, 200, 0.4)",
             "rgba(100, 150, 200, 0.4)",
             "rgba(100, 150, 200, 0.4)",
             "rgba(100, 150, 200, 0.4)",
             "rgba(100, 150, 200, 0.4)",
             "rgba(100, 150, 200, 0.4)",
             "rgba(100, 150, 200, 0.4)",
             "rgba(100, 150, 200, 0.4)",
             "rgba(100, 150, 200, 0.4)",
             "rgba(100, 150, 200, 0.4)",
             "rgba(100, 150, 200, 0.4)",
             "rgba(100, 150, 200, 0.4)",
             "rgba(100, 150, 200, 0.4)",
             "rgba(100, 150, 200, 0.4)",
             "rgba(100, 150, 200, 0.4)",
             "rgba(100, 150, 200, 0.4)",
             "rgba(100, 150, 200, 0.4)",
             "rgba(100, 150, 200, 0.4)",
             "rgba(100, 150, 200, 0.4)",
             "rgba(100, 150, 200, 0.4)",
             "rgba(100, 150, 200, 0.4)",
             "rgba(100, 150, 200, 0.4)",
             "rgba(100, 150, 200, 0.4)",
             "rgba(100, 150, 200, 0.4)",
             "rgba(100, 150, 200, 0.4)",
             "rgba(100, 150, 200, 0.4)"
            ],
            "source": [
             6,
             6,
             6,
             0,
             0,
             0,
             2,
             2,
             2,
             8,
             8,
             8,
             5,
             5,
             5,
             7,
             7,
             7,
             4,
             4,
             4,
             15,
             15,
             15,
             14,
             14,
             14,
             10,
             10,
             10,
             16,
             16,
             16,
             1,
             1,
             1,
             1,
             12,
             12,
             12,
             12,
             13,
             13,
             13,
             13
            ],
            "target": [
             7,
             4,
             15,
             7,
             4,
             15,
             7,
             4,
             15,
             7,
             4,
             15,
             7,
             4,
             15,
             14,
             10,
             16,
             14,
             10,
             16,
             14,
             10,
             16,
             1,
             12,
             13,
             1,
             12,
             13,
             1,
             12,
             13,
             9,
             3,
             13,
             11,
             9,
             3,
             13,
             11,
             9,
             3,
             13,
             11
            ],
            "value": [
             18.9963209507789,
             23.60571445127933,
             104.90856736555794,
             15.59195090518222,
             12.93611184265462,
             76.05187317967574,
             49.39400669203679,
             45.85881833239896,
             41.61784018789134,
             32.49687093355255,
             72.7410417946489,
             35.63891822594393,
             33.98931168960506,
             79.64420798441795,
             26.18189960648521,
             24.30128117736181,
             44.12726728878613,
             30.445615769380282,
             28.775010335558086,
             26.242124523564755,
             106.71117368334278,
             47.0217789834735,
             26.258603673633928,
             27.59451317928645,
             62.8034992108518,
             79.25879806965068,
             49.98368910791799,
             65.71172192068059,
             69.62072844310212,
             42.32252063599989,
             70.37724259507192,
             48.526206184364575,
             43.25257964926398,
             82.56879504309332,
             83.03769692608765,
             33.70076817739753,
             27.65536523008045,
             41.95344228012768,
             32.21079631814588,
             29.281829924875215,
             25.464458818137345,
             29.942122921335244,
             24.41266225338262,
             93.09825286652102,
             27.105359779200203
            ]
           },
           "node": {
            "color": "rgba(100, 150, 200, 0.8)",
            "label": [
             "Wind",
             "Urban Grid",
             "Hydro",
             "Commercial",
             "Base Load",
             "Nuclear",
             "Solar",
             "Peak",
             "Coal",
             "Residential",
             "Pumped Hydro",
             "Transport",
             "Rural Grid",
             "Industrial",
             "Battery",
             "Variable",
             "Direct Grid"
            ],
            "line": {
             "color": "black",
             "width": 0.5
            },
            "pad": 25,
            "thickness": 20
           },
           "type": "sankey"
          }
         ],
         "name": "2024-01-31 00:00:00"
        },
        {
         "data": [
          {
           "link": {
            "color": [
             "rgba(100, 150, 200, 0.4)",
             "rgba(100, 150, 200, 0.4)",
             "rgba(100, 150, 200, 0.4)",
             "rgba(100, 150, 200, 0.4)",
             "rgba(100, 150, 200, 0.4)",
             "rgba(100, 150, 200, 0.4)",
             "rgba(100, 150, 200, 0.4)",
             "rgba(100, 150, 200, 0.4)",
             "rgba(100, 150, 200, 0.4)",
             "rgba(100, 150, 200, 0.4)",
             "rgba(100, 150, 200, 0.4)",
             "rgba(100, 150, 200, 0.4)",
             "rgba(100, 150, 200, 0.4)",
             "rgba(100, 150, 200, 0.4)",
             "rgba(100, 150, 200, 0.4)",
             "rgba(100, 150, 200, 0.4)",
             "rgba(100, 150, 200, 0.4)",
             "rgba(100, 150, 200, 0.4)",
             "rgba(100, 150, 200, 0.4)",
             "rgba(100, 150, 200, 0.4)",
             "rgba(100, 150, 200, 0.4)",
             "rgba(100, 150, 200, 0.4)",
             "rgba(100, 150, 200, 0.4)",
             "rgba(100, 150, 200, 0.4)",
             "rgba(100, 150, 200, 0.4)",
             "rgba(100, 150, 200, 0.4)",
             "rgba(100, 150, 200, 0.4)",
             "rgba(100, 150, 200, 0.4)",
             "rgba(100, 150, 200, 0.4)",
             "rgba(100, 150, 200, 0.4)",
             "rgba(100, 150, 200, 0.4)",
             "rgba(100, 150, 200, 0.4)",
             "rgba(100, 150, 200, 0.4)",
             "rgba(100, 150, 200, 0.4)",
             "rgba(100, 150, 200, 0.4)",
             "rgba(100, 150, 200, 0.4)",
             "rgba(100, 150, 200, 0.4)",
             "rgba(100, 150, 200, 0.4)",
             "rgba(100, 150, 200, 0.4)",
             "rgba(100, 150, 200, 0.4)",
             "rgba(100, 150, 200, 0.4)",
             "rgba(100, 150, 200, 0.4)",
             "rgba(100, 150, 200, 0.4)",
             "rgba(100, 150, 200, 0.4)",
             "rgba(100, 150, 200, 0.4)"
            ],
            "source": [
             6,
             6,
             6,
             0,
             0,
             0,
             2,
             2,
             2,
             8,
             8,
             8,
             5,
             5,
             5,
             7,
             7,
             7,
             4,
             4,
             4,
             15,
             15,
             15,
             14,
             14,
             14,
             10,
             10,
             10,
             16,
             16,
             16,
             1,
             1,
             1,
             1,
             12,
             12,
             12,
             12,
             13,
             13,
             13,
             13
            ],
            "target": [
             7,
             4,
             15,
             7,
             4,
             15,
             7,
             4,
             15,
             7,
             4,
             15,
             7,
             4,
             15,
             14,
             10,
             16,
             14,
             10,
             16,
             14,
             10,
             16,
             1,
             12,
             13,
             1,
             12,
             13,
             1,
             12,
             13,
             9,
             3,
             13,
             11,
             9,
             3,
             13,
             11,
             9,
             3,
             13,
             11
            ],
            "value": [
             21.300178274831858,
             18.49368860871529,
             108.57744612543094,
             15.280261676059677,
             13.109126733153163,
             95.6206250140188,
             66.60318776066674,
             47.03198306502703,
             46.31723760684238,
             31.174799745733022,
             105.18747246083221,
             25.061910024623035,
             26.351794349029742,
             73.62818240077938,
             27.90396396915917,
             27.996191214410675,
             43.14047095321688,
             35.917275164734725,
             27.421559880484605,
             26.056821174372857,
             102.56176498949489,
             47.07327209909145,
             35.439545653572715,
             22.341911586235874,
             89.34434683002587,
             78.61223846483287,
             49.93578407670862,
             40.27610585618012,
             80.77307142274171,
             75.34286719238085,
             76.45035840204937,
             78.56351733429729,
             43.70223258670452,
             66.03704039923963,
             59.24433366670363,
             34.35724111050712,
             31.479577521930693,
             46.617960497052984,
             24.762700203432285,
             27.731787860587946,
             27.902199864320963,
             32.75527414005677,
             31.650689656262557,
             92.39080776244245,
             29.66657910194339
            ]
           },
           "node": {
            "color": "rgba(100, 150, 200, 0.8)",
            "label": [
             "Wind",
             "Urban Grid",
             "Hydro",
             "Commercial",
             "Base Load",
             "Nuclear",
             "Solar",
             "Peak",
             "Coal",
             "Residential",
             "Pumped Hydro",
             "Transport",
             "Rural Grid",
             "Industrial",
             "Battery",
             "Variable",
             "Direct Grid"
            ],
            "line": {
             "color": "black",
             "width": 0.5
            },
            "pad": 25,
            "thickness": 20
           },
           "type": "sankey"
          }
         ],
         "name": "2024-02-29 00:00:00"
        },
        {
         "data": [
          {
           "link": {
            "color": [
             "rgba(100, 150, 200, 0.4)",
             "rgba(100, 150, 200, 0.4)",
             "rgba(100, 150, 200, 0.4)",
             "rgba(100, 150, 200, 0.4)",
             "rgba(100, 150, 200, 0.4)",
             "rgba(100, 150, 200, 0.4)",
             "rgba(100, 150, 200, 0.4)",
             "rgba(100, 150, 200, 0.4)",
             "rgba(100, 150, 200, 0.4)",
             "rgba(100, 150, 200, 0.4)",
             "rgba(100, 150, 200, 0.4)",
             "rgba(100, 150, 200, 0.4)",
             "rgba(100, 150, 200, 0.4)",
             "rgba(100, 150, 200, 0.4)",
             "rgba(100, 150, 200, 0.4)",
             "rgba(100, 150, 200, 0.4)",
             "rgba(100, 150, 200, 0.4)",
             "rgba(100, 150, 200, 0.4)",
             "rgba(100, 150, 200, 0.4)",
             "rgba(100, 150, 200, 0.4)",
             "rgba(100, 150, 200, 0.4)",
             "rgba(100, 150, 200, 0.4)",
             "rgba(100, 150, 200, 0.4)",
             "rgba(100, 150, 200, 0.4)",
             "rgba(100, 150, 200, 0.4)",
             "rgba(100, 150, 200, 0.4)",
             "rgba(100, 150, 200, 0.4)",
             "rgba(100, 150, 200, 0.4)",
             "rgba(100, 150, 200, 0.4)",
             "rgba(100, 150, 200, 0.4)",
             "rgba(100, 150, 200, 0.4)",
             "rgba(100, 150, 200, 0.4)",
             "rgba(100, 150, 200, 0.4)",
             "rgba(100, 150, 200, 0.4)",
             "rgba(100, 150, 200, 0.4)",
             "rgba(100, 150, 200, 0.4)",
             "rgba(100, 150, 200, 0.4)",
             "rgba(100, 150, 200, 0.4)",
             "rgba(100, 150, 200, 0.4)",
             "rgba(100, 150, 200, 0.4)",
             "rgba(100, 150, 200, 0.4)",
             "rgba(100, 150, 200, 0.4)",
             "rgba(100, 150, 200, 0.4)",
             "rgba(100, 150, 200, 0.4)",
             "rgba(100, 150, 200, 0.4)"
            ],
            "source": [
             6,
             6,
             6,
             0,
             0,
             0,
             2,
             2,
             2,
             8,
             8,
             8,
             5,
             5,
             5,
             7,
             7,
             7,
             4,
             4,
             4,
             15,
             15,
             15,
             14,
             14,
             14,
             10,
             10,
             10,
             16,
             16,
             16,
             1,
             1,
             1,
             1,
             12,
             12,
             12,
             12,
             13,
             13,
             13,
             13
            ],
            "target": [
             7,
             4,
             15,
             7,
             4,
             15,
             7,
             4,
             15,
             7,
             4,
             15,
             7,
             4,
             15,
             14,
             10,
             16,
             14,
             10,
             16,
             14,
             10,
             16,
             1,
             12,
             13,
             1,
             12,
             13,
             1,
             12,
             13,
             9,
             3,
             13,
             11,
             9,
             3,
             13,
             11,
             9,
             3,
             13,
             11
            ],
            "value": [
             16.956753967506415,
             21.70595829778396,
             123.68317017803699,
             15.367663185416978,
             16.625803079727365,
             69.82627669820295,
             60.54558790516786,
             38.84065629373679,
             32.40670602790552,
             25.294697123919654,
             73.13145068472244,
             31.636924935165364,
             27.77227177291592,
             90.3085448819293,
             34.89079768711312,
             25.487260124679747,
             47.31148769106889,
             34.599920493774874,
             25.118366978849203,
             22.385638376918273,
             87.38508717482608,
             47.803966341144154,
             37.73455774216632,
             35.5461668321595,
             71.67018782552117,
             83.57302950938589,
             80.18360384495573,
             49.32850294430179,
             84.62794992449889,
             66.96711209578254,
             80.37200775820313,
             84.80456499617466,
             55.90017374859319,
             59.08145388677495,
             62.38218455117437,
             29.125293463515074,
             33.81617719106992,
             57.21461166512687,
             24.083425566374288,
             30.128967630930788,
             29.008932037785346,
             26.665293725648766,
             25.438384408004193,
             74.8036854849161,
             35.31491644695023
            ]
           },
           "node": {
            "color": "rgba(100, 150, 200, 0.8)",
            "label": [
             "Wind",
             "Urban Grid",
             "Hydro",
             "Commercial",
             "Base Load",
             "Nuclear",
             "Solar",
             "Peak",
             "Coal",
             "Residential",
             "Pumped Hydro",
             "Transport",
             "Rural Grid",
             "Industrial",
             "Battery",
             "Variable",
             "Direct Grid"
            ],
            "line": {
             "color": "black",
             "width": 0.5
            },
            "pad": 25,
            "thickness": 20
           },
           "type": "sankey"
          }
         ],
         "name": "2024-03-31 00:00:00"
        },
        {
         "data": [
          {
           "link": {
            "color": [
             "rgba(100, 150, 200, 0.4)",
             "rgba(100, 150, 200, 0.4)",
             "rgba(100, 150, 200, 0.4)",
             "rgba(100, 150, 200, 0.4)",
             "rgba(100, 150, 200, 0.4)",
             "rgba(100, 150, 200, 0.4)",
             "rgba(100, 150, 200, 0.4)",
             "rgba(100, 150, 200, 0.4)",
             "rgba(100, 150, 200, 0.4)",
             "rgba(100, 150, 200, 0.4)",
             "rgba(100, 150, 200, 0.4)",
             "rgba(100, 150, 200, 0.4)",
             "rgba(100, 150, 200, 0.4)",
             "rgba(100, 150, 200, 0.4)",
             "rgba(100, 150, 200, 0.4)",
             "rgba(100, 150, 200, 0.4)",
             "rgba(100, 150, 200, 0.4)",
             "rgba(100, 150, 200, 0.4)",
             "rgba(100, 150, 200, 0.4)",
             "rgba(100, 150, 200, 0.4)",
             "rgba(100, 150, 200, 0.4)",
             "rgba(100, 150, 200, 0.4)",
             "rgba(100, 150, 200, 0.4)",
             "rgba(100, 150, 200, 0.4)",
             "rgba(100, 150, 200, 0.4)",
             "rgba(100, 150, 200, 0.4)",
             "rgba(100, 150, 200, 0.4)",
             "rgba(100, 150, 200, 0.4)",
             "rgba(100, 150, 200, 0.4)",
             "rgba(100, 150, 200, 0.4)",
             "rgba(100, 150, 200, 0.4)",
             "rgba(100, 150, 200, 0.4)",
             "rgba(100, 150, 200, 0.4)",
             "rgba(100, 150, 200, 0.4)",
             "rgba(100, 150, 200, 0.4)",
             "rgba(100, 150, 200, 0.4)",
             "rgba(100, 150, 200, 0.4)",
             "rgba(100, 150, 200, 0.4)",
             "rgba(100, 150, 200, 0.4)",
             "rgba(100, 150, 200, 0.4)",
             "rgba(100, 150, 200, 0.4)",
             "rgba(100, 150, 200, 0.4)",
             "rgba(100, 150, 200, 0.4)",
             "rgba(100, 150, 200, 0.4)",
             "rgba(100, 150, 200, 0.4)"
            ],
            "source": [
             6,
             6,
             6,
             0,
             0,
             0,
             2,
             2,
             2,
             8,
             8,
             8,
             5,
             5,
             5,
             7,
             7,
             7,
             4,
             4,
             4,
             15,
             15,
             15,
             14,
             14,
             14,
             10,
             10,
             10,
             16,
             16,
             16,
             1,
             1,
             1,
             1,
             12,
             12,
             12,
             12,
             13,
             13,
             13,
             13
            ],
            "target": [
             7,
             4,
             15,
             7,
             4,
             15,
             7,
             4,
             15,
             7,
             4,
             15,
             7,
             4,
             15,
             14,
             10,
             16,
             14,
             10,
             16,
             14,
             10,
             16,
             1,
             12,
             13,
             1,
             12,
             13,
             1,
             12,
             13,
             9,
             3,
             13,
             11,
             9,
             3,
             13,
             11,
             9,
             3,
             13,
             11
            ],
            "value": [
             18.585623456166044,
             20.150324973946926,
             116.45991017666734,
             14.181777614275765,
             17.830692496325764,
             70.50624561962225,
             54.042775099808736,
             39.95597609427817,
             36.81405295706831,
             27.418085932529614,
             73.32793010476318,
             31.314772007758762,
             30.032148278746337,
             73.85323504499962,
             27.343757570839337,
             37.34878594739976,
             42.18685672000917,
             23.608107697642016,
             29.810149684996134,
             38.741708173990816,
             84.52331629069002,
             66.19687970661164,
             34.709153075916916,
             25.277475791863196,
             76.41081743059297,
             58.389156635962664,
             71.61529152967897,
             71.67648553804473,
             66.78873420373793,
             44.51448850272041,
             81.7651247794619,
             56.039003248586795,
             49.32592551999271,
             57.14170396353339,
             72.54500240927077,
             32.130772342107385,
             24.199053947134274,
             50.241861165985625,
             26.717949302375256,
             31.742073484913394,
             26.0923971480599,
             32.29125285722959,
             28.64082415560645,
             93.9753596395755,
             25.65025132975192
            ]
           },
           "node": {
            "color": "rgba(100, 150, 200, 0.8)",
            "label": [
             "Wind",
             "Urban Grid",
             "Hydro",
             "Commercial",
             "Base Load",
             "Nuclear",
             "Solar",
             "Peak",
             "Coal",
             "Residential",
             "Pumped Hydro",
             "Transport",
             "Rural Grid",
             "Industrial",
             "Battery",
             "Variable",
             "Direct Grid"
            ],
            "line": {
             "color": "black",
             "width": 0.5
            },
            "pad": 25,
            "thickness": 20
           },
           "type": "sankey"
          }
         ],
         "name": "2024-04-30 00:00:00"
        },
        {
         "data": [
          {
           "link": {
            "color": [
             "rgba(100, 150, 200, 0.4)",
             "rgba(100, 150, 200, 0.4)",
             "rgba(100, 150, 200, 0.4)",
             "rgba(100, 150, 200, 0.4)",
             "rgba(100, 150, 200, 0.4)",
             "rgba(100, 150, 200, 0.4)",
             "rgba(100, 150, 200, 0.4)",
             "rgba(100, 150, 200, 0.4)",
             "rgba(100, 150, 200, 0.4)",
             "rgba(100, 150, 200, 0.4)",
             "rgba(100, 150, 200, 0.4)",
             "rgba(100, 150, 200, 0.4)",
             "rgba(100, 150, 200, 0.4)",
             "rgba(100, 150, 200, 0.4)",
             "rgba(100, 150, 200, 0.4)",
             "rgba(100, 150, 200, 0.4)",
             "rgba(100, 150, 200, 0.4)",
             "rgba(100, 150, 200, 0.4)",
             "rgba(100, 150, 200, 0.4)",
             "rgba(100, 150, 200, 0.4)",
             "rgba(100, 150, 200, 0.4)",
             "rgba(100, 150, 200, 0.4)",
             "rgba(100, 150, 200, 0.4)",
             "rgba(100, 150, 200, 0.4)",
             "rgba(100, 150, 200, 0.4)",
             "rgba(100, 150, 200, 0.4)",
             "rgba(100, 150, 200, 0.4)",
             "rgba(100, 150, 200, 0.4)",
             "rgba(100, 150, 200, 0.4)",
             "rgba(100, 150, 200, 0.4)",
             "rgba(100, 150, 200, 0.4)",
             "rgba(100, 150, 200, 0.4)",
             "rgba(100, 150, 200, 0.4)",
             "rgba(100, 150, 200, 0.4)",
             "rgba(100, 150, 200, 0.4)",
             "rgba(100, 150, 200, 0.4)",
             "rgba(100, 150, 200, 0.4)",
             "rgba(100, 150, 200, 0.4)",
             "rgba(100, 150, 200, 0.4)",
             "rgba(100, 150, 200, 0.4)",
             "rgba(100, 150, 200, 0.4)",
             "rgba(100, 150, 200, 0.4)",
             "rgba(100, 150, 200, 0.4)",
             "rgba(100, 150, 200, 0.4)",
             "rgba(100, 150, 200, 0.4)"
            ],
            "source": [
             6,
             6,
             6,
             0,
             0,
             0,
             2,
             2,
             2,
             8,
             8,
             8,
             5,
             5,
             5,
             7,
             7,
             7,
             4,
             4,
             4,
             15,
             15,
             15,
             14,
             14,
             14,
             10,
             10,
             10,
             16,
             16,
             16,
             1,
             1,
             1,
             1,
             12,
             12,
             12,
             12,
             13,
             13,
             13,
             13
            ],
            "target": [
             7,
             4,
             15,
             7,
             4,
             15,
             7,
             4,
             15,
             7,
             4,
             15,
             7,
             4,
             15,
             14,
             10,
             16,
             14,
             10,
             16,
             14,
             10,
             16,
             1,
             12,
             13,
             1,
             12,
             13,
             1,
             12,
             13,
             9,
             3,
             13,
             11,
             9,
             3,
             13,
             11,
             9,
             3,
             13,
             11
            ],
            "value": [
             18.72853080840207,
             16.907788169924714,
             112.30823494189681,
             17.264036120285887,
             13.547649766290935,
             55.129197725730926,
             67.61333280482918,
             40.8832129855914,
             40.4744092536961,
             26.902227490805423,
             75.35169964101237,
             34.76658909543992,
             34.80501668595996,
             94.79165246183766,
             28.068357492584408,
             27.285772343027894,
             56.77867036610718,
             37.14798467914639,
             36.96755563677211,
             35.037759825437234,
             108.52189876925726,
             45.02903873982176,
             23.909316853703046,
             37.17397539348743,
             70.3214529829795,
             40.45985258083148,
             45.073577143301605,
             73.1750884554028,
             40.253079192310935,
             48.04040257087493,
             67.4366894683293,
             74.59475988463467,
             72.59806297513003,
             62.27954066489568,
             75.94101819773101,
             26.8469890499616,
             27.904796377911214,
             54.92982810236048,
             31.795594788566575,
             34.19068092593013,
             31.89135470760412,
             30.81970324002566,
             25.124097213937112,
             75.76690569790188,
             27.182428412180705
            ]
           },
           "node": {
            "color": "rgba(100, 150, 200, 0.8)",
            "label": [
             "Wind",
             "Urban Grid",
             "Hydro",
             "Commercial",
             "Base Load",
             "Nuclear",
             "Solar",
             "Peak",
             "Coal",
             "Residential",
             "Pumped Hydro",
             "Transport",
             "Rural Grid",
             "Industrial",
             "Battery",
             "Variable",
             "Direct Grid"
            ],
            "line": {
             "color": "black",
             "width": 0.5
            },
            "pad": 25,
            "thickness": 20
           },
           "type": "sankey"
          }
         ],
         "name": "2024-05-31 00:00:00"
        },
        {
         "data": [
          {
           "link": {
            "color": [
             "rgba(100, 150, 200, 0.4)",
             "rgba(100, 150, 200, 0.4)",
             "rgba(100, 150, 200, 0.4)",
             "rgba(100, 150, 200, 0.4)",
             "rgba(100, 150, 200, 0.4)",
             "rgba(100, 150, 200, 0.4)",
             "rgba(100, 150, 200, 0.4)",
             "rgba(100, 150, 200, 0.4)",
             "rgba(100, 150, 200, 0.4)",
             "rgba(100, 150, 200, 0.4)",
             "rgba(100, 150, 200, 0.4)",
             "rgba(100, 150, 200, 0.4)",
             "rgba(100, 150, 200, 0.4)",
             "rgba(100, 150, 200, 0.4)",
             "rgba(100, 150, 200, 0.4)",
             "rgba(100, 150, 200, 0.4)",
             "rgba(100, 150, 200, 0.4)",
             "rgba(100, 150, 200, 0.4)",
             "rgba(100, 150, 200, 0.4)",
             "rgba(100, 150, 200, 0.4)",
             "rgba(100, 150, 200, 0.4)",
             "rgba(100, 150, 200, 0.4)",
             "rgba(100, 150, 200, 0.4)",
             "rgba(100, 150, 200, 0.4)",
             "rgba(100, 150, 200, 0.4)",
             "rgba(100, 150, 200, 0.4)",
             "rgba(100, 150, 200, 0.4)",
             "rgba(100, 150, 200, 0.4)",
             "rgba(100, 150, 200, 0.4)",
             "rgba(100, 150, 200, 0.4)",
             "rgba(100, 150, 200, 0.4)",
             "rgba(100, 150, 200, 0.4)",
             "rgba(100, 150, 200, 0.4)",
             "rgba(100, 150, 200, 0.4)",
             "rgba(100, 150, 200, 0.4)",
             "rgba(100, 150, 200, 0.4)",
             "rgba(100, 150, 200, 0.4)",
             "rgba(100, 150, 200, 0.4)",
             "rgba(100, 150, 200, 0.4)",
             "rgba(100, 150, 200, 0.4)",
             "rgba(100, 150, 200, 0.4)",
             "rgba(100, 150, 200, 0.4)",
             "rgba(100, 150, 200, 0.4)",
             "rgba(100, 150, 200, 0.4)",
             "rgba(100, 150, 200, 0.4)"
            ],
            "source": [
             6,
             6,
             6,
             0,
             0,
             0,
             2,
             2,
             2,
             8,
             8,
             8,
             5,
             5,
             5,
             7,
             7,
             7,
             4,
             4,
             4,
             15,
             15,
             15,
             14,
             14,
             14,
             10,
             10,
             10,
             16,
             16,
             16,
             1,
             1,
             1,
             1,
             12,
             12,
             12,
             12,
             13,
             13,
             13,
             13
            ],
            "target": [
             7,
             4,
             15,
             7,
             4,
             15,
             7,
             4,
             15,
             7,
             4,
             15,
             7,
             4,
             15,
             14,
             10,
             16,
             14,
             10,
             16,
             14,
             10,
             16,
             1,
             12,
             13,
             1,
             12,
             13,
             1,
             12,
             13,
             9,
             3,
             13,
             11,
             9,
             3,
             13,
             11,
             9,
             3,
             13,
             11
            ],
            "value": [
             17.95191714703267,
             23.784084438019562,
             76.57912718933633,
             17.352279331062682,
             15.786831755983577,
             54.778301549416305,
             60.063290234524615,
             41.23046215402175,
             39.880283101101824,
             26.342915853576535,
             98.0082761494142,
             27.36926834929027,
             24.291791597177447,
             95.23700265265803,
             26.125328152884588,
             37.92825451835246,
             63.61785731007763,
             37.46755902396807,
             27.662856604597998,
             21.27821909751961,
             125.69911375526353,
             57.414629339423314,
             38.399786742786056,
             38.34515958760655,
             82.650472773368,
             54.72244460347928,
             59.25488643009626,
             82.55683357584284,
             55.84610025781389,
             48.474637334304624,
             67.84006312291751,
             86.80773870803904,
             74.80148983374865,
             71.96171276250222,
             58.72094182558153,
             31.380086720390036,
             35.88064620125115,
             42.80168030473048,
             30.21995582836484,
             34.52847686313547,
             32.88922341305045,
             32.364188891943215,
             32.42980900784531,
             75.50371683903217,
             27.52310213117392
            ]
           },
           "node": {
            "color": "rgba(100, 150, 200, 0.8)",
            "label": [
             "Wind",
             "Urban Grid",
             "Hydro",
             "Commercial",
             "Base Load",
             "Nuclear",
             "Solar",
             "Peak",
             "Coal",
             "Residential",
             "Pumped Hydro",
             "Transport",
             "Rural Grid",
             "Industrial",
             "Battery",
             "Variable",
             "Direct Grid"
            ],
            "line": {
             "color": "black",
             "width": 0.5
            },
            "pad": 25,
            "thickness": 20
           },
           "type": "sankey"
          }
         ],
         "name": "2024-06-30 00:00:00"
        }
       ],
       "layout": {
        "font": {
         "size": 12
        },
        "height": 700,
        "margin": {
         "b": 120,
         "l": 50,
         "r": 50,
         "t": 100
        },
        "paper_bgcolor": "rgba(0,0,0,0)",
        "plot_bgcolor": "rgba(0,0,0,0)",
        "sliders": [
         {
          "active": 0,
          "currentvalue": {
           "prefix": "date: ",
           "visible": true,
           "xanchor": "right"
          },
          "len": 0.9,
          "pad": {
           "b": 10,
           "t": 50
          },
          "steps": [
           {
            "args": [
             [
              "2024-01-31 00:00:00"
             ],
             {
              "frame": {
               "duration": 1500,
               "redraw": true
              },
              "mode": "immediate",
              "transition": {
               "duration": 1500,
               "easing": "cubic-in-out"
              }
             }
            ],
            "label": "2024-01-31 00:00:00",
            "method": "animate"
           },
           {
            "args": [
             [
              "2024-02-29 00:00:00"
             ],
             {
              "frame": {
               "duration": 1500,
               "redraw": true
              },
              "mode": "immediate",
              "transition": {
               "duration": 1500,
               "easing": "cubic-in-out"
              }
             }
            ],
            "label": "2024-02-29 00:00:00",
            "method": "animate"
           },
           {
            "args": [
             [
              "2024-03-31 00:00:00"
             ],
             {
              "frame": {
               "duration": 1500,
               "redraw": true
              },
              "mode": "immediate",
              "transition": {
               "duration": 1500,
               "easing": "cubic-in-out"
              }
             }
            ],
            "label": "2024-03-31 00:00:00",
            "method": "animate"
           },
           {
            "args": [
             [
              "2024-04-30 00:00:00"
             ],
             {
              "frame": {
               "duration": 1500,
               "redraw": true
              },
              "mode": "immediate",
              "transition": {
               "duration": 1500,
               "easing": "cubic-in-out"
              }
             }
            ],
            "label": "2024-04-30 00:00:00",
            "method": "animate"
           },
           {
            "args": [
             [
              "2024-05-31 00:00:00"
             ],
             {
              "frame": {
               "duration": 1500,
               "redraw": true
              },
              "mode": "immediate",
              "transition": {
               "duration": 1500,
               "easing": "cubic-in-out"
              }
             }
            ],
            "label": "2024-05-31 00:00:00",
            "method": "animate"
           },
           {
            "args": [
             [
              "2024-06-30 00:00:00"
             ],
             {
              "frame": {
               "duration": 1500,
               "redraw": true
              },
              "mode": "immediate",
              "transition": {
               "duration": 1500,
               "easing": "cubic-in-out"
              }
             }
            ],
            "label": "2024-06-30 00:00:00",
            "method": "animate"
           }
          ],
          "x": 0.1,
          "xanchor": "left",
          "y": 0,
          "yanchor": "top"
         }
        ],
        "template": {
         "data": {
          "bar": [
           {
            "error_x": {
             "color": "#2a3f5f"
            },
            "error_y": {
             "color": "#2a3f5f"
            },
            "marker": {
             "line": {
              "color": "#E5ECF6",
              "width": 0.5
             },
             "pattern": {
              "fillmode": "overlay",
              "size": 10,
              "solidity": 0.2
             }
            },
            "type": "bar"
           }
          ],
          "barpolar": [
           {
            "marker": {
             "line": {
              "color": "#E5ECF6",
              "width": 0.5
             },
             "pattern": {
              "fillmode": "overlay",
              "size": 10,
              "solidity": 0.2
             }
            },
            "type": "barpolar"
           }
          ],
          "carpet": [
           {
            "aaxis": {
             "endlinecolor": "#2a3f5f",
             "gridcolor": "white",
             "linecolor": "white",
             "minorgridcolor": "white",
             "startlinecolor": "#2a3f5f"
            },
            "baxis": {
             "endlinecolor": "#2a3f5f",
             "gridcolor": "white",
             "linecolor": "white",
             "minorgridcolor": "white",
             "startlinecolor": "#2a3f5f"
            },
            "type": "carpet"
           }
          ],
          "choropleth": [
           {
            "colorbar": {
             "outlinewidth": 0,
             "ticks": ""
            },
            "type": "choropleth"
           }
          ],
          "contour": [
           {
            "colorbar": {
             "outlinewidth": 0,
             "ticks": ""
            },
            "colorscale": [
             [
              0,
              "#0d0887"
             ],
             [
              0.1111111111111111,
              "#46039f"
             ],
             [
              0.2222222222222222,
              "#7201a8"
             ],
             [
              0.3333333333333333,
              "#9c179e"
             ],
             [
              0.4444444444444444,
              "#bd3786"
             ],
             [
              0.5555555555555556,
              "#d8576b"
             ],
             [
              0.6666666666666666,
              "#ed7953"
             ],
             [
              0.7777777777777778,
              "#fb9f3a"
             ],
             [
              0.8888888888888888,
              "#fdca26"
             ],
             [
              1,
              "#f0f921"
             ]
            ],
            "type": "contour"
           }
          ],
          "contourcarpet": [
           {
            "colorbar": {
             "outlinewidth": 0,
             "ticks": ""
            },
            "type": "contourcarpet"
           }
          ],
          "heatmap": [
           {
            "colorbar": {
             "outlinewidth": 0,
             "ticks": ""
            },
            "colorscale": [
             [
              0,
              "#0d0887"
             ],
             [
              0.1111111111111111,
              "#46039f"
             ],
             [
              0.2222222222222222,
              "#7201a8"
             ],
             [
              0.3333333333333333,
              "#9c179e"
             ],
             [
              0.4444444444444444,
              "#bd3786"
             ],
             [
              0.5555555555555556,
              "#d8576b"
             ],
             [
              0.6666666666666666,
              "#ed7953"
             ],
             [
              0.7777777777777778,
              "#fb9f3a"
             ],
             [
              0.8888888888888888,
              "#fdca26"
             ],
             [
              1,
              "#f0f921"
             ]
            ],
            "type": "heatmap"
           }
          ],
          "histogram": [
           {
            "marker": {
             "pattern": {
              "fillmode": "overlay",
              "size": 10,
              "solidity": 0.2
             }
            },
            "type": "histogram"
           }
          ],
          "histogram2d": [
           {
            "colorbar": {
             "outlinewidth": 0,
             "ticks": ""
            },
            "colorscale": [
             [
              0,
              "#0d0887"
             ],
             [
              0.1111111111111111,
              "#46039f"
             ],
             [
              0.2222222222222222,
              "#7201a8"
             ],
             [
              0.3333333333333333,
              "#9c179e"
             ],
             [
              0.4444444444444444,
              "#bd3786"
             ],
             [
              0.5555555555555556,
              "#d8576b"
             ],
             [
              0.6666666666666666,
              "#ed7953"
             ],
             [
              0.7777777777777778,
              "#fb9f3a"
             ],
             [
              0.8888888888888888,
              "#fdca26"
             ],
             [
              1,
              "#f0f921"
             ]
            ],
            "type": "histogram2d"
           }
          ],
          "histogram2dcontour": [
           {
            "colorbar": {
             "outlinewidth": 0,
             "ticks": ""
            },
            "colorscale": [
             [
              0,
              "#0d0887"
             ],
             [
              0.1111111111111111,
              "#46039f"
             ],
             [
              0.2222222222222222,
              "#7201a8"
             ],
             [
              0.3333333333333333,
              "#9c179e"
             ],
             [
              0.4444444444444444,
              "#bd3786"
             ],
             [
              0.5555555555555556,
              "#d8576b"
             ],
             [
              0.6666666666666666,
              "#ed7953"
             ],
             [
              0.7777777777777778,
              "#fb9f3a"
             ],
             [
              0.8888888888888888,
              "#fdca26"
             ],
             [
              1,
              "#f0f921"
             ]
            ],
            "type": "histogram2dcontour"
           }
          ],
          "mesh3d": [
           {
            "colorbar": {
             "outlinewidth": 0,
             "ticks": ""
            },
            "type": "mesh3d"
           }
          ],
          "parcoords": [
           {
            "line": {
             "colorbar": {
              "outlinewidth": 0,
              "ticks": ""
             }
            },
            "type": "parcoords"
           }
          ],
          "pie": [
           {
            "automargin": true,
            "type": "pie"
           }
          ],
          "scatter": [
           {
            "fillpattern": {
             "fillmode": "overlay",
             "size": 10,
             "solidity": 0.2
            },
            "type": "scatter"
           }
          ],
          "scatter3d": [
           {
            "line": {
             "colorbar": {
              "outlinewidth": 0,
              "ticks": ""
             }
            },
            "marker": {
             "colorbar": {
              "outlinewidth": 0,
              "ticks": ""
             }
            },
            "type": "scatter3d"
           }
          ],
          "scattercarpet": [
           {
            "marker": {
             "colorbar": {
              "outlinewidth": 0,
              "ticks": ""
             }
            },
            "type": "scattercarpet"
           }
          ],
          "scattergeo": [
           {
            "marker": {
             "colorbar": {
              "outlinewidth": 0,
              "ticks": ""
             }
            },
            "type": "scattergeo"
           }
          ],
          "scattergl": [
           {
            "marker": {
             "colorbar": {
              "outlinewidth": 0,
              "ticks": ""
             }
            },
            "type": "scattergl"
           }
          ],
          "scattermap": [
           {
            "marker": {
             "colorbar": {
              "outlinewidth": 0,
              "ticks": ""
             }
            },
            "type": "scattermap"
           }
          ],
          "scattermapbox": [
           {
            "marker": {
             "colorbar": {
              "outlinewidth": 0,
              "ticks": ""
             }
            },
            "type": "scattermapbox"
           }
          ],
          "scatterpolar": [
           {
            "marker": {
             "colorbar": {
              "outlinewidth": 0,
              "ticks": ""
             }
            },
            "type": "scatterpolar"
           }
          ],
          "scatterpolargl": [
           {
            "marker": {
             "colorbar": {
              "outlinewidth": 0,
              "ticks": ""
             }
            },
            "type": "scatterpolargl"
           }
          ],
          "scatterternary": [
           {
            "marker": {
             "colorbar": {
              "outlinewidth": 0,
              "ticks": ""
             }
            },
            "type": "scatterternary"
           }
          ],
          "surface": [
           {
            "colorbar": {
             "outlinewidth": 0,
             "ticks": ""
            },
            "colorscale": [
             [
              0,
              "#0d0887"
             ],
             [
              0.1111111111111111,
              "#46039f"
             ],
             [
              0.2222222222222222,
              "#7201a8"
             ],
             [
              0.3333333333333333,
              "#9c179e"
             ],
             [
              0.4444444444444444,
              "#bd3786"
             ],
             [
              0.5555555555555556,
              "#d8576b"
             ],
             [
              0.6666666666666666,
              "#ed7953"
             ],
             [
              0.7777777777777778,
              "#fb9f3a"
             ],
             [
              0.8888888888888888,
              "#fdca26"
             ],
             [
              1,
              "#f0f921"
             ]
            ],
            "type": "surface"
           }
          ],
          "table": [
           {
            "cells": {
             "fill": {
              "color": "#EBF0F8"
             },
             "line": {
              "color": "white"
             }
            },
            "header": {
             "fill": {
              "color": "#C8D4E3"
             },
             "line": {
              "color": "white"
             }
            },
            "type": "table"
           }
          ]
         },
         "layout": {
          "annotationdefaults": {
           "arrowcolor": "#2a3f5f",
           "arrowhead": 0,
           "arrowwidth": 1
          },
          "autotypenumbers": "strict",
          "coloraxis": {
           "colorbar": {
            "outlinewidth": 0,
            "ticks": ""
           }
          },
          "colorscale": {
           "diverging": [
            [
             0,
             "#8e0152"
            ],
            [
             0.1,
             "#c51b7d"
            ],
            [
             0.2,
             "#de77ae"
            ],
            [
             0.3,
             "#f1b6da"
            ],
            [
             0.4,
             "#fde0ef"
            ],
            [
             0.5,
             "#f7f7f7"
            ],
            [
             0.6,
             "#e6f5d0"
            ],
            [
             0.7,
             "#b8e186"
            ],
            [
             0.8,
             "#7fbc41"
            ],
            [
             0.9,
             "#4d9221"
            ],
            [
             1,
             "#276419"
            ]
           ],
           "sequential": [
            [
             0,
             "#0d0887"
            ],
            [
             0.1111111111111111,
             "#46039f"
            ],
            [
             0.2222222222222222,
             "#7201a8"
            ],
            [
             0.3333333333333333,
             "#9c179e"
            ],
            [
             0.4444444444444444,
             "#bd3786"
            ],
            [
             0.5555555555555556,
             "#d8576b"
            ],
            [
             0.6666666666666666,
             "#ed7953"
            ],
            [
             0.7777777777777778,
             "#fb9f3a"
            ],
            [
             0.8888888888888888,
             "#fdca26"
            ],
            [
             1,
             "#f0f921"
            ]
           ],
           "sequentialminus": [
            [
             0,
             "#0d0887"
            ],
            [
             0.1111111111111111,
             "#46039f"
            ],
            [
             0.2222222222222222,
             "#7201a8"
            ],
            [
             0.3333333333333333,
             "#9c179e"
            ],
            [
             0.4444444444444444,
             "#bd3786"
            ],
            [
             0.5555555555555556,
             "#d8576b"
            ],
            [
             0.6666666666666666,
             "#ed7953"
            ],
            [
             0.7777777777777778,
             "#fb9f3a"
            ],
            [
             0.8888888888888888,
             "#fdca26"
            ],
            [
             1,
             "#f0f921"
            ]
           ]
          },
          "colorway": [
           "#636efa",
           "#EF553B",
           "#00cc96",
           "#ab63fa",
           "#FFA15A",
           "#19d3f3",
           "#FF6692",
           "#B6E880",
           "#FF97FF",
           "#FECB52"
          ],
          "font": {
           "color": "#2a3f5f"
          },
          "geo": {
           "bgcolor": "white",
           "lakecolor": "white",
           "landcolor": "#E5ECF6",
           "showlakes": true,
           "showland": true,
           "subunitcolor": "white"
          },
          "hoverlabel": {
           "align": "left"
          },
          "hovermode": "closest",
          "mapbox": {
           "style": "light"
          },
          "paper_bgcolor": "white",
          "plot_bgcolor": "#E5ECF6",
          "polar": {
           "angularaxis": {
            "gridcolor": "white",
            "linecolor": "white",
            "ticks": ""
           },
           "bgcolor": "#E5ECF6",
           "radialaxis": {
            "gridcolor": "white",
            "linecolor": "white",
            "ticks": ""
           }
          },
          "scene": {
           "xaxis": {
            "backgroundcolor": "#E5ECF6",
            "gridcolor": "white",
            "gridwidth": 2,
            "linecolor": "white",
            "showbackground": true,
            "ticks": "",
            "zerolinecolor": "white"
           },
           "yaxis": {
            "backgroundcolor": "#E5ECF6",
            "gridcolor": "white",
            "gridwidth": 2,
            "linecolor": "white",
            "showbackground": true,
            "ticks": "",
            "zerolinecolor": "white"
           },
           "zaxis": {
            "backgroundcolor": "#E5ECF6",
            "gridcolor": "white",
            "gridwidth": 2,
            "linecolor": "white",
            "showbackground": true,
            "ticks": "",
            "zerolinecolor": "white"
           }
          },
          "shapedefaults": {
           "line": {
            "color": "#2a3f5f"
           }
          },
          "ternary": {
           "aaxis": {
            "gridcolor": "white",
            "linecolor": "white",
            "ticks": ""
           },
           "baxis": {
            "gridcolor": "white",
            "linecolor": "white",
            "ticks": ""
           },
           "bgcolor": "#E5ECF6",
           "caxis": {
            "gridcolor": "white",
            "linecolor": "white",
            "ticks": ""
           }
          },
          "title": {
           "x": 0.05
          },
          "xaxis": {
           "automargin": true,
           "gridcolor": "white",
           "linecolor": "white",
           "ticks": "",
           "title": {
            "standoff": 15
           },
           "zerolinecolor": "white",
           "zerolinewidth": 2
          },
          "yaxis": {
           "automargin": true,
           "gridcolor": "white",
           "linecolor": "white",
           "ticks": "",
           "title": {
            "standoff": 15
           },
           "zerolinecolor": "white",
           "zerolinewidth": 2
          }
         }
        },
        "title": {
         "text": "🐢 Smooth & Slow Animation (1500ms)"
        },
        "updatemenus": [
         {
          "buttons": [
           {
            "args": [
             null,
             {
              "frame": {
               "duration": 1500,
               "redraw": true
              },
              "fromcurrent": true,
              "transition": {
               "duration": 1500,
               "easing": "cubic-in-out"
              }
             }
            ],
            "label": "Play",
            "method": "animate"
           },
           {
            "args": [
             [
              null
             ],
             {
              "frame": {
               "duration": 0,
               "redraw": true
              },
              "mode": "immediate"
             }
            ],
            "label": "Pause",
            "method": "animate"
           }
          ],
          "direction": "left",
          "pad": {
           "r": 10,
           "t": 87
          },
          "showactive": false,
          "type": "buttons",
          "x": 0.1,
          "xanchor": "right",
          "y": 0,
          "yanchor": "top"
         }
        ]
       }
      }
     },
     "metadata": {},
     "output_type": "display_data"
    }
   ],
   "source": [
    "# Example: Fast animation\n",
    "diagram_fast = SankeyDiagram(df, time_column='date')\n",
    "fig_fast = diagram_fast.render('source', 'target', 'value', \n",
    "                                title=\"⚡ Fast Animation (300ms)\",\n",
    "                                show_timeline=True,\n",
    "                                animation_duration=300,  # Fast!\n",
    "                                transition_easing='linear')\n",
    "fig_fast.show()\n",
    "\n",
    "# Example: Very smooth, slow animation\n",
    "diagram_slow = SankeyDiagram(df, time_column='date')\n",
    "fig_slow = diagram_slow.render('source', 'target', 'value', \n",
    "                                title=\"🐢 Smooth & Slow Animation (1500ms)\",\n",
    "                                show_timeline=True,\n",
    "                                animation_duration=1500,  # Slow and smooth\n",
    "                                transition_easing='cubic-in-out')\n",
    "fig_slow.show()"
   ]
  },
  {
   "cell_type": "markdown",
   "id": "8e15eb3d",
   "metadata": {},
   "source": [
    "## Example 3: With Filters and Histogram Coloring"
   ]
  },
  {
   "cell_type": "code",
   "execution_count": 5,
   "id": "bddc09db",
   "metadata": {},
   "outputs": [
    {
     "data": {
      "application/vnd.plotly.v1+json": {
       "config": {
        "plotlyServerURL": "https://plot.ly"
       },
       "data": [
        {
         "link": {
          "color": [
           "rgba(235, 100, 19, 0.5)",
           "rgba(254, 100, 0, 0.5)",
           "rgba(0, 100, 255, 0.5)",
           "rgba(4, 100, 250, 0.5)",
           "rgba(111, 100, 143, 0.5)"
          ],
          "source": [
           3,
           2,
           0,
           0,
           5
          ],
          "target": [
           6,
           7,
           4,
           1,
           5
          ],
          "value": [
           104.90856736555794,
           106.71117368334278,
           82.56879504309332,
           83.03769692608765,
           93.09825286652102
          ]
         },
         "node": {
          "color": "rgba(100, 150, 200, 0.8)",
          "label": [
           "Urban Grid",
           "Commercial",
           "Base Load",
           "Solar",
           "Residential",
           "Industrial",
           "Variable",
           "Direct Grid"
          ],
          "line": {
           "color": "black",
           "width": 0.5
          },
          "pad": 25,
          "thickness": 20
         },
         "type": "sankey"
        }
       ],
       "frames": [
        {
         "data": [
          {
           "link": {
            "color": [
             "rgba(235, 100, 19, 0.5)",
             "rgba(254, 100, 0, 0.5)",
             "rgba(0, 100, 255, 0.5)",
             "rgba(4, 100, 250, 0.5)",
             "rgba(111, 100, 143, 0.5)"
            ],
            "source": [
             3,
             2,
             0,
             0,
             5
            ],
            "target": [
             6,
             7,
             4,
             1,
             5
            ],
            "value": [
             104.90856736555794,
             106.71117368334278,
             82.56879504309332,
             83.03769692608765,
             93.09825286652102
            ]
           },
           "node": {
            "color": "rgba(100, 150, 200, 0.8)",
            "label": [
             "Urban Grid",
             "Commercial",
             "Base Load",
             "Solar",
             "Residential",
             "Industrial",
             "Variable",
             "Direct Grid"
            ],
            "line": {
             "color": "black",
             "width": 0.5
            },
            "pad": 25,
            "thickness": 20
           },
           "type": "sankey"
          }
         ],
         "name": "2024-01-31 00:00:00"
        },
        {
         "data": [
          {
           "link": {
            "color": [
             "rgba(254, 100, 0, 0.5)",
             "rgba(136, 100, 118, 0.5)",
             "rgba(223, 100, 31, 0.5)",
             "rgba(199, 100, 55, 0.5)",
             "rgba(78, 100, 176, 0.5)",
             "rgba(0, 100, 255, 0.5)",
             "rgba(106, 100, 148, 0.5)"
            ],
            "source": [
             3,
             0,
             4,
             2,
             8,
             5,
             7
            ],
            "target": [
             9,
             9,
             2,
             10,
             1,
             6,
             7
            ],
            "value": [
             108.57744612543094,
             95.6206250140188,
             105.18747246083221,
             102.56176498949489,
             89.34434683002587,
             80.77307142274171,
             92.39080776244245
            ]
           },
           "node": {
            "color": "rgba(100, 150, 200, 0.8)",
            "label": [
             "Wind",
             "Urban Grid",
             "Base Load",
             "Solar",
             "Coal",
             "Pumped Hydro",
             "Rural Grid",
             "Industrial",
             "Battery",
             "Variable",
             "Direct Grid"
            ],
            "line": {
             "color": "black",
             "width": 0.5
            },
            "pad": 25,
            "thickness": 20
           },
           "type": "sankey"
          }
         ],
         "name": "2024-02-29 00:00:00"
        },
        {
         "data": [
          {
           "link": {
            "color": [
             "rgba(254, 100, 0, 0.5)",
             "rgba(59, 100, 195, 0.5)",
             "rgba(42, 100, 212, 0.5)",
             "rgba(19, 100, 235, 0.5)",
             "rgba(0, 100, 255, 0.5)",
             "rgba(26, 100, 228, 0.5)",
             "rgba(1, 100, 253, 0.5)",
             "rgba(27, 100, 227, 0.5)"
            ],
            "source": [
             3,
             2,
             1,
             7,
             7,
             4,
             9,
             9
            ],
            "target": [
             8,
             1,
             9,
             5,
             6,
             5,
             0,
             5
            ],
            "value": [
             123.68317017803699,
             90.3085448819293,
             87.38508717482608,
             83.57302950938589,
             80.18360384495573,
             84.62794992449889,
             80.37200775820313,
             84.80456499617466
            ]
           },
           "node": {
            "color": "rgba(100, 150, 200, 0.8)",
            "label": [
             "Urban Grid",
             "Base Load",
             "Nuclear",
             "Solar",
             "Pumped Hydro",
             "Rural Grid",
             "Industrial",
             "Battery",
             "Variable",
             "Direct Grid"
            ],
            "line": {
             "color": "black",
             "width": 0.5
            },
            "pad": 25,
            "thickness": 20
           },
           "type": "sankey"
          }
         ],
         "name": "2024-03-31 00:00:00"
        },
        {
         "data": [
          {
           "link": {
            "color": [
             "rgba(254, 100, 0, 0.5)",
             "rgba(20, 100, 234, 0.5)",
             "rgba(0, 100, 255, 0.5)",
             "rgba(89, 100, 165, 0.5)"
            ],
            "source": [
             2,
             1,
             5,
             3
            ],
            "target": [
             4,
             5,
             0,
             3
            ],
            "value": [
             116.45991017666734,
             84.52331629069002,
             81.7651247794619,
             93.9753596395755
            ]
           },
           "node": {
            "color": "rgba(100, 150, 200, 0.8)",
            "label": [
             "Urban Grid",
             "Base Load",
             "Solar",
             "Industrial",
             "Variable",
             "Direct Grid"
            ],
            "line": {
             "color": "black",
             "width": 0.5
            },
            "pad": 25,
            "thickness": 20
           },
           "type": "sankey"
          }
         ],
         "name": "2024-04-30 00:00:00"
        },
        {
         "data": [
          {
           "link": {
            "color": [
             "rgba(254, 100, 0, 0.5)",
             "rgba(0, 100, 255, 0.5)",
             "rgba(199, 100, 55, 0.5)"
            ],
            "source": [
             2,
             1,
             0
            ],
            "target": [
             3,
             0,
             4
            ],
            "value": [
             112.30823494189681,
             94.79165246183766,
             108.52189876925726
            ]
           },
           "node": {
            "color": "rgba(100, 150, 200, 0.8)",
            "label": [
             "Base Load",
             "Nuclear",
             "Solar",
             "Variable",
             "Direct Grid"
            ],
            "line": {
             "color": "black",
             "width": 0.5
            },
            "pad": 25,
            "thickness": 20
           },
           "type": "sankey"
          }
         ],
         "name": "2024-05-31 00:00:00"
        },
        {
         "data": [
          {
           "link": {
            "color": [
             "rgba(91, 100, 163, 0.5)",
             "rgba(74, 100, 180, 0.5)",
             "rgba(254, 100, 0, 0.5)",
             "rgba(0, 100, 254, 0.5)",
             "rgba(0, 100, 255, 0.5)",
             "rgba(25, 100, 229, 0.5)"
            ],
            "source": [
             3,
             2,
             1,
             6,
             4,
             7
            ],
            "target": [
             1,
             1,
             7,
             0,
             0,
             5
            ],
            "value": [
             98.0082761494142,
             95.23700265265803,
             125.69911375526353,
             82.650472773368,
             82.55683357584284,
             86.80773870803904
            ]
           },
           "node": {
            "color": "rgba(100, 150, 200, 0.8)",
            "label": [
             "Urban Grid",
             "Base Load",
             "Nuclear",
             "Coal",
             "Pumped Hydro",
             "Rural Grid",
             "Battery",
             "Direct Grid"
            ],
            "line": {
             "color": "black",
             "width": 0.5
            },
            "pad": 25,
            "thickness": 20
           },
           "type": "sankey"
          }
         ],
         "name": "2024-06-30 00:00:00"
        }
       ],
       "layout": {
        "font": {
         "size": 12
        },
        "height": 700,
        "margin": {
         "b": 120,
         "l": 50,
         "r": 50,
         "t": 100
        },
        "paper_bgcolor": "rgba(0,0,0,0)",
        "plot_bgcolor": "rgba(0,0,0,0)",
        "sliders": [
         {
          "active": 0,
          "currentvalue": {
           "prefix": "date: ",
           "visible": true,
           "xanchor": "right"
          },
          "len": 0.9,
          "pad": {
           "b": 10,
           "t": 50
          },
          "steps": [
           {
            "args": [
             [
              "2024-01-31 00:00:00"
             ],
             {
              "frame": {
               "duration": 1000,
               "redraw": true
              },
              "mode": "immediate",
              "transition": {
               "duration": 1000,
               "easing": "cubic-in-out"
              }
             }
            ],
            "label": "2024-01-31 00:00:00",
            "method": "animate"
           },
           {
            "args": [
             [
              "2024-02-29 00:00:00"
             ],
             {
              "frame": {
               "duration": 1000,
               "redraw": true
              },
              "mode": "immediate",
              "transition": {
               "duration": 1000,
               "easing": "cubic-in-out"
              }
             }
            ],
            "label": "2024-02-29 00:00:00",
            "method": "animate"
           },
           {
            "args": [
             [
              "2024-03-31 00:00:00"
             ],
             {
              "frame": {
               "duration": 1000,
               "redraw": true
              },
              "mode": "immediate",
              "transition": {
               "duration": 1000,
               "easing": "cubic-in-out"
              }
             }
            ],
            "label": "2024-03-31 00:00:00",
            "method": "animate"
           },
           {
            "args": [
             [
              "2024-04-30 00:00:00"
             ],
             {
              "frame": {
               "duration": 1000,
               "redraw": true
              },
              "mode": "immediate",
              "transition": {
               "duration": 1000,
               "easing": "cubic-in-out"
              }
             }
            ],
            "label": "2024-04-30 00:00:00",
            "method": "animate"
           },
           {
            "args": [
             [
              "2024-05-31 00:00:00"
             ],
             {
              "frame": {
               "duration": 1000,
               "redraw": true
              },
              "mode": "immediate",
              "transition": {
               "duration": 1000,
               "easing": "cubic-in-out"
              }
             }
            ],
            "label": "2024-05-31 00:00:00",
            "method": "animate"
           },
           {
            "args": [
             [
              "2024-06-30 00:00:00"
             ],
             {
              "frame": {
               "duration": 1000,
               "redraw": true
              },
              "mode": "immediate",
              "transition": {
               "duration": 1000,
               "easing": "cubic-in-out"
              }
             }
            ],
            "label": "2024-06-30 00:00:00",
            "method": "animate"
           }
          ],
          "x": 0.1,
          "xanchor": "left",
          "y": 0,
          "yanchor": "top"
         }
        ],
        "template": {
         "data": {
          "bar": [
           {
            "error_x": {
             "color": "#2a3f5f"
            },
            "error_y": {
             "color": "#2a3f5f"
            },
            "marker": {
             "line": {
              "color": "#E5ECF6",
              "width": 0.5
             },
             "pattern": {
              "fillmode": "overlay",
              "size": 10,
              "solidity": 0.2
             }
            },
            "type": "bar"
           }
          ],
          "barpolar": [
           {
            "marker": {
             "line": {
              "color": "#E5ECF6",
              "width": 0.5
             },
             "pattern": {
              "fillmode": "overlay",
              "size": 10,
              "solidity": 0.2
             }
            },
            "type": "barpolar"
           }
          ],
          "carpet": [
           {
            "aaxis": {
             "endlinecolor": "#2a3f5f",
             "gridcolor": "white",
             "linecolor": "white",
             "minorgridcolor": "white",
             "startlinecolor": "#2a3f5f"
            },
            "baxis": {
             "endlinecolor": "#2a3f5f",
             "gridcolor": "white",
             "linecolor": "white",
             "minorgridcolor": "white",
             "startlinecolor": "#2a3f5f"
            },
            "type": "carpet"
           }
          ],
          "choropleth": [
           {
            "colorbar": {
             "outlinewidth": 0,
             "ticks": ""
            },
            "type": "choropleth"
           }
          ],
          "contour": [
           {
            "colorbar": {
             "outlinewidth": 0,
             "ticks": ""
            },
            "colorscale": [
             [
              0,
              "#0d0887"
             ],
             [
              0.1111111111111111,
              "#46039f"
             ],
             [
              0.2222222222222222,
              "#7201a8"
             ],
             [
              0.3333333333333333,
              "#9c179e"
             ],
             [
              0.4444444444444444,
              "#bd3786"
             ],
             [
              0.5555555555555556,
              "#d8576b"
             ],
             [
              0.6666666666666666,
              "#ed7953"
             ],
             [
              0.7777777777777778,
              "#fb9f3a"
             ],
             [
              0.8888888888888888,
              "#fdca26"
             ],
             [
              1,
              "#f0f921"
             ]
            ],
            "type": "contour"
           }
          ],
          "contourcarpet": [
           {
            "colorbar": {
             "outlinewidth": 0,
             "ticks": ""
            },
            "type": "contourcarpet"
           }
          ],
          "heatmap": [
           {
            "colorbar": {
             "outlinewidth": 0,
             "ticks": ""
            },
            "colorscale": [
             [
              0,
              "#0d0887"
             ],
             [
              0.1111111111111111,
              "#46039f"
             ],
             [
              0.2222222222222222,
              "#7201a8"
             ],
             [
              0.3333333333333333,
              "#9c179e"
             ],
             [
              0.4444444444444444,
              "#bd3786"
             ],
             [
              0.5555555555555556,
              "#d8576b"
             ],
             [
              0.6666666666666666,
              "#ed7953"
             ],
             [
              0.7777777777777778,
              "#fb9f3a"
             ],
             [
              0.8888888888888888,
              "#fdca26"
             ],
             [
              1,
              "#f0f921"
             ]
            ],
            "type": "heatmap"
           }
          ],
          "histogram": [
           {
            "marker": {
             "pattern": {
              "fillmode": "overlay",
              "size": 10,
              "solidity": 0.2
             }
            },
            "type": "histogram"
           }
          ],
          "histogram2d": [
           {
            "colorbar": {
             "outlinewidth": 0,
             "ticks": ""
            },
            "colorscale": [
             [
              0,
              "#0d0887"
             ],
             [
              0.1111111111111111,
              "#46039f"
             ],
             [
              0.2222222222222222,
              "#7201a8"
             ],
             [
              0.3333333333333333,
              "#9c179e"
             ],
             [
              0.4444444444444444,
              "#bd3786"
             ],
             [
              0.5555555555555556,
              "#d8576b"
             ],
             [
              0.6666666666666666,
              "#ed7953"
             ],
             [
              0.7777777777777778,
              "#fb9f3a"
             ],
             [
              0.8888888888888888,
              "#fdca26"
             ],
             [
              1,
              "#f0f921"
             ]
            ],
            "type": "histogram2d"
           }
          ],
          "histogram2dcontour": [
           {
            "colorbar": {
             "outlinewidth": 0,
             "ticks": ""
            },
            "colorscale": [
             [
              0,
              "#0d0887"
             ],
             [
              0.1111111111111111,
              "#46039f"
             ],
             [
              0.2222222222222222,
              "#7201a8"
             ],
             [
              0.3333333333333333,
              "#9c179e"
             ],
             [
              0.4444444444444444,
              "#bd3786"
             ],
             [
              0.5555555555555556,
              "#d8576b"
             ],
             [
              0.6666666666666666,
              "#ed7953"
             ],
             [
              0.7777777777777778,
              "#fb9f3a"
             ],
             [
              0.8888888888888888,
              "#fdca26"
             ],
             [
              1,
              "#f0f921"
             ]
            ],
            "type": "histogram2dcontour"
           }
          ],
          "mesh3d": [
           {
            "colorbar": {
             "outlinewidth": 0,
             "ticks": ""
            },
            "type": "mesh3d"
           }
          ],
          "parcoords": [
           {
            "line": {
             "colorbar": {
              "outlinewidth": 0,
              "ticks": ""
             }
            },
            "type": "parcoords"
           }
          ],
          "pie": [
           {
            "automargin": true,
            "type": "pie"
           }
          ],
          "scatter": [
           {
            "fillpattern": {
             "fillmode": "overlay",
             "size": 10,
             "solidity": 0.2
            },
            "type": "scatter"
           }
          ],
          "scatter3d": [
           {
            "line": {
             "colorbar": {
              "outlinewidth": 0,
              "ticks": ""
             }
            },
            "marker": {
             "colorbar": {
              "outlinewidth": 0,
              "ticks": ""
             }
            },
            "type": "scatter3d"
           }
          ],
          "scattercarpet": [
           {
            "marker": {
             "colorbar": {
              "outlinewidth": 0,
              "ticks": ""
             }
            },
            "type": "scattercarpet"
           }
          ],
          "scattergeo": [
           {
            "marker": {
             "colorbar": {
              "outlinewidth": 0,
              "ticks": ""
             }
            },
            "type": "scattergeo"
           }
          ],
          "scattergl": [
           {
            "marker": {
             "colorbar": {
              "outlinewidth": 0,
              "ticks": ""
             }
            },
            "type": "scattergl"
           }
          ],
          "scattermap": [
           {
            "marker": {
             "colorbar": {
              "outlinewidth": 0,
              "ticks": ""
             }
            },
            "type": "scattermap"
           }
          ],
          "scattermapbox": [
           {
            "marker": {
             "colorbar": {
              "outlinewidth": 0,
              "ticks": ""
             }
            },
            "type": "scattermapbox"
           }
          ],
          "scatterpolar": [
           {
            "marker": {
             "colorbar": {
              "outlinewidth": 0,
              "ticks": ""
             }
            },
            "type": "scatterpolar"
           }
          ],
          "scatterpolargl": [
           {
            "marker": {
             "colorbar": {
              "outlinewidth": 0,
              "ticks": ""
             }
            },
            "type": "scatterpolargl"
           }
          ],
          "scatterternary": [
           {
            "marker": {
             "colorbar": {
              "outlinewidth": 0,
              "ticks": ""
             }
            },
            "type": "scatterternary"
           }
          ],
          "surface": [
           {
            "colorbar": {
             "outlinewidth": 0,
             "ticks": ""
            },
            "colorscale": [
             [
              0,
              "#0d0887"
             ],
             [
              0.1111111111111111,
              "#46039f"
             ],
             [
              0.2222222222222222,
              "#7201a8"
             ],
             [
              0.3333333333333333,
              "#9c179e"
             ],
             [
              0.4444444444444444,
              "#bd3786"
             ],
             [
              0.5555555555555556,
              "#d8576b"
             ],
             [
              0.6666666666666666,
              "#ed7953"
             ],
             [
              0.7777777777777778,
              "#fb9f3a"
             ],
             [
              0.8888888888888888,
              "#fdca26"
             ],
             [
              1,
              "#f0f921"
             ]
            ],
            "type": "surface"
           }
          ],
          "table": [
           {
            "cells": {
             "fill": {
              "color": "#EBF0F8"
             },
             "line": {
              "color": "white"
             }
            },
            "header": {
             "fill": {
              "color": "#C8D4E3"
             },
             "line": {
              "color": "white"
             }
            },
            "type": "table"
           }
          ]
         },
         "layout": {
          "annotationdefaults": {
           "arrowcolor": "#2a3f5f",
           "arrowhead": 0,
           "arrowwidth": 1
          },
          "autotypenumbers": "strict",
          "coloraxis": {
           "colorbar": {
            "outlinewidth": 0,
            "ticks": ""
           }
          },
          "colorscale": {
           "diverging": [
            [
             0,
             "#8e0152"
            ],
            [
             0.1,
             "#c51b7d"
            ],
            [
             0.2,
             "#de77ae"
            ],
            [
             0.3,
             "#f1b6da"
            ],
            [
             0.4,
             "#fde0ef"
            ],
            [
             0.5,
             "#f7f7f7"
            ],
            [
             0.6,
             "#e6f5d0"
            ],
            [
             0.7,
             "#b8e186"
            ],
            [
             0.8,
             "#7fbc41"
            ],
            [
             0.9,
             "#4d9221"
            ],
            [
             1,
             "#276419"
            ]
           ],
           "sequential": [
            [
             0,
             "#0d0887"
            ],
            [
             0.1111111111111111,
             "#46039f"
            ],
            [
             0.2222222222222222,
             "#7201a8"
            ],
            [
             0.3333333333333333,
             "#9c179e"
            ],
            [
             0.4444444444444444,
             "#bd3786"
            ],
            [
             0.5555555555555556,
             "#d8576b"
            ],
            [
             0.6666666666666666,
             "#ed7953"
            ],
            [
             0.7777777777777778,
             "#fb9f3a"
            ],
            [
             0.8888888888888888,
             "#fdca26"
            ],
            [
             1,
             "#f0f921"
            ]
           ],
           "sequentialminus": [
            [
             0,
             "#0d0887"
            ],
            [
             0.1111111111111111,
             "#46039f"
            ],
            [
             0.2222222222222222,
             "#7201a8"
            ],
            [
             0.3333333333333333,
             "#9c179e"
            ],
            [
             0.4444444444444444,
             "#bd3786"
            ],
            [
             0.5555555555555556,
             "#d8576b"
            ],
            [
             0.6666666666666666,
             "#ed7953"
            ],
            [
             0.7777777777777778,
             "#fb9f3a"
            ],
            [
             0.8888888888888888,
             "#fdca26"
            ],
            [
             1,
             "#f0f921"
            ]
           ]
          },
          "colorway": [
           "#636efa",
           "#EF553B",
           "#00cc96",
           "#ab63fa",
           "#FFA15A",
           "#19d3f3",
           "#FF6692",
           "#B6E880",
           "#FF97FF",
           "#FECB52"
          ],
          "font": {
           "color": "#2a3f5f"
          },
          "geo": {
           "bgcolor": "white",
           "lakecolor": "white",
           "landcolor": "#E5ECF6",
           "showlakes": true,
           "showland": true,
           "subunitcolor": "white"
          },
          "hoverlabel": {
           "align": "left"
          },
          "hovermode": "closest",
          "mapbox": {
           "style": "light"
          },
          "paper_bgcolor": "white",
          "plot_bgcolor": "#E5ECF6",
          "polar": {
           "angularaxis": {
            "gridcolor": "white",
            "linecolor": "white",
            "ticks": ""
           },
           "bgcolor": "#E5ECF6",
           "radialaxis": {
            "gridcolor": "white",
            "linecolor": "white",
            "ticks": ""
           }
          },
          "scene": {
           "xaxis": {
            "backgroundcolor": "#E5ECF6",
            "gridcolor": "white",
            "gridwidth": 2,
            "linecolor": "white",
            "showbackground": true,
            "ticks": "",
            "zerolinecolor": "white"
           },
           "yaxis": {
            "backgroundcolor": "#E5ECF6",
            "gridcolor": "white",
            "gridwidth": 2,
            "linecolor": "white",
            "showbackground": true,
            "ticks": "",
            "zerolinecolor": "white"
           },
           "zaxis": {
            "backgroundcolor": "#E5ECF6",
            "gridcolor": "white",
            "gridwidth": 2,
            "linecolor": "white",
            "showbackground": true,
            "ticks": "",
            "zerolinecolor": "white"
           }
          },
          "shapedefaults": {
           "line": {
            "color": "#2a3f5f"
           }
          },
          "ternary": {
           "aaxis": {
            "gridcolor": "white",
            "linecolor": "white",
            "ticks": ""
           },
           "baxis": {
            "gridcolor": "white",
            "linecolor": "white",
            "ticks": ""
           },
           "bgcolor": "#E5ECF6",
           "caxis": {
            "gridcolor": "white",
            "linecolor": "white",
            "ticks": ""
           }
          },
          "title": {
           "x": 0.05
          },
          "xaxis": {
           "automargin": true,
           "gridcolor": "white",
           "linecolor": "white",
           "ticks": "",
           "title": {
            "standoff": 15
           },
           "zerolinecolor": "white",
           "zerolinewidth": 2
          },
          "yaxis": {
           "automargin": true,
           "gridcolor": "white",
           "linecolor": "white",
           "ticks": "",
           "title": {
            "standoff": 15
           },
           "zerolinecolor": "white",
           "zerolinewidth": 2
          }
         }
        },
        "title": {
         "text": "High-Value Flows with Color Gradient"
        },
        "updatemenus": [
         {
          "buttons": [
           {
            "args": [
             null,
             {
              "frame": {
               "duration": 1000,
               "redraw": true
              },
              "fromcurrent": true,
              "transition": {
               "duration": 1000,
               "easing": "cubic-in-out"
              }
             }
            ],
            "label": "Play",
            "method": "animate"
           },
           {
            "args": [
             [
              null
             ],
             {
              "frame": {
               "duration": 0,
               "redraw": true
              },
              "mode": "immediate"
             }
            ],
            "label": "Pause",
            "method": "animate"
           }
          ],
          "direction": "left",
          "pad": {
           "r": 10,
           "t": 87
          },
          "showactive": false,
          "type": "buttons",
          "x": 0.1,
          "xanchor": "right",
          "y": 0,
          "yanchor": "top"
         }
        ]
       }
      }
     },
     "metadata": {},
     "output_type": "display_data"
    }
   ],
   "source": [
    "# Add filters\n",
    "diagram = SankeyDiagram(df, time_column='date')\n",
    "diagram.add_filter('high_value', lambda d: d[d['value'] > 80])\n",
    "\n",
    "# Render with histogram coloring and smooth animation\n",
    "diagram.render('source', 'target', 'value',\n",
    "               title=\"High-Value Flows with Color Gradient\",\n",
    "               show_histogram=True,\n",
    "               show_timeline=True,\n",
    "               animation_duration=1000,  # Smooth 1-second transitions\n",
    "               transition_easing='cubic-in-out').show()"
   ]
  },
  {
   "cell_type": "markdown",
   "id": "8b7f9d0e",
   "metadata": {},
   "source": [
    "## That's it! 🎉\n",
    "\n",
    "You now have interactive Sankey diagrams with:\n",
    "- ⏱️ Timeline animation with adjustable speed\n",
    "- 🌈 Value-based coloring\n",
    "- 🔍 Dynamic filters\n",
    "- 🎮 Interactive controls\n",
    "- ✨ Smooth transitions with customizable easing\n",
    "- 📏 **Horizontal node spacing based on custom metrics** (e.g., wait time, delay)\n",
    "\n",
    "### Animation Speed Tips:\n",
    "- **Fast (300ms)**: Quick transitions, good for presentations\n",
    "- **Normal (800ms)**: Balanced speed and smoothness (default)\n",
    "- **Slow (1200-1500ms)**: Very smooth, easy to follow changes\n",
    "\n",
    "### Node Spacing Tips:\n",
    "- Use `set_node_spacing_metric()` to control **horizontal spacing** between node stages\n",
    "- Perfect for visualizing temporal metrics like wait times, processing delays, or duration\n",
    "- Higher metric values = more horizontal distance to the next stage\n",
    "- Great for showing bottlenecks or time-intensive processes\n",
    "\n",
    "Check out `interactive_demos.ipynb` for more advanced examples!"
   ]
  },
  {
   "cell_type": "markdown",
   "id": "282e391a",
   "metadata": {},
   "source": [
    "## Example 4: Horizontal Node Spacing Based on Metrics\n",
    "\n",
    "Control the **horizontal distance** between node stages based on custom metrics like \"average wait time\" or \"processing delay\". Stages with longer wait times will have more horizontal space!"
   ]
  },
  {
   "cell_type": "code",
   "execution_count": 6,
   "id": "4865cb88",
   "metadata": {},
   "outputs": [
    {
     "data": {
      "application/vnd.plotly.v1+json": {
       "config": {
        "plotlyServerURL": "https://plot.ly"
       },
       "data": [
        {
         "link": {
          "color": [
           "rgba(100, 150, 200, 0.4)",
           "rgba(100, 150, 200, 0.4)",
           "rgba(100, 150, 200, 0.4)",
           "rgba(100, 150, 200, 0.4)",
           "rgba(100, 150, 200, 0.4)",
           "rgba(100, 150, 200, 0.4)"
          ],
          "source": [
           0,
           0,
           1,
           1,
           6,
           6
          ],
          "target": [
           1,
           4,
           6,
           5,
           2,
           3
          ],
          "value": [
           100,
           50,
           80,
           20,
           60,
           40
          ]
         },
         "node": {
          "color": "rgba(100, 150, 200, 0.8)",
          "label": [
           "Intake",
           "Triage",
           "Recovery",
           "Discharge",
           "Registration",
           "Consultation",
           "Treatment"
          ],
          "line": {
           "color": "black",
           "width": 0.5
          },
          "pad": 25,
          "thickness": 20,
          "x": [
           0,
           0.2945736434108527,
           1,
           1,
           0.2945736434108527,
           0.6042204995693368,
           0.6042204995693368
          ]
         },
         "type": "sankey"
        }
       ],
       "layout": {
        "font": {
         "size": 12
        },
        "height": 600,
        "margin": {
         "b": 50,
         "l": 50,
         "r": 50,
         "t": 80
        },
        "paper_bgcolor": "rgba(0,0,0,0)",
        "plot_bgcolor": "rgba(0,0,0,0)",
        "template": {
         "data": {
          "bar": [
           {
            "error_x": {
             "color": "#2a3f5f"
            },
            "error_y": {
             "color": "#2a3f5f"
            },
            "marker": {
             "line": {
              "color": "#E5ECF6",
              "width": 0.5
             },
             "pattern": {
              "fillmode": "overlay",
              "size": 10,
              "solidity": 0.2
             }
            },
            "type": "bar"
           }
          ],
          "barpolar": [
           {
            "marker": {
             "line": {
              "color": "#E5ECF6",
              "width": 0.5
             },
             "pattern": {
              "fillmode": "overlay",
              "size": 10,
              "solidity": 0.2
             }
            },
            "type": "barpolar"
           }
          ],
          "carpet": [
           {
            "aaxis": {
             "endlinecolor": "#2a3f5f",
             "gridcolor": "white",
             "linecolor": "white",
             "minorgridcolor": "white",
             "startlinecolor": "#2a3f5f"
            },
            "baxis": {
             "endlinecolor": "#2a3f5f",
             "gridcolor": "white",
             "linecolor": "white",
             "minorgridcolor": "white",
             "startlinecolor": "#2a3f5f"
            },
            "type": "carpet"
           }
          ],
          "choropleth": [
           {
            "colorbar": {
             "outlinewidth": 0,
             "ticks": ""
            },
            "type": "choropleth"
           }
          ],
          "contour": [
           {
            "colorbar": {
             "outlinewidth": 0,
             "ticks": ""
            },
            "colorscale": [
             [
              0,
              "#0d0887"
             ],
             [
              0.1111111111111111,
              "#46039f"
             ],
             [
              0.2222222222222222,
              "#7201a8"
             ],
             [
              0.3333333333333333,
              "#9c179e"
             ],
             [
              0.4444444444444444,
              "#bd3786"
             ],
             [
              0.5555555555555556,
              "#d8576b"
             ],
             [
              0.6666666666666666,
              "#ed7953"
             ],
             [
              0.7777777777777778,
              "#fb9f3a"
             ],
             [
              0.8888888888888888,
              "#fdca26"
             ],
             [
              1,
              "#f0f921"
             ]
            ],
            "type": "contour"
           }
          ],
          "contourcarpet": [
           {
            "colorbar": {
             "outlinewidth": 0,
             "ticks": ""
            },
            "type": "contourcarpet"
           }
          ],
          "heatmap": [
           {
            "colorbar": {
             "outlinewidth": 0,
             "ticks": ""
            },
            "colorscale": [
             [
              0,
              "#0d0887"
             ],
             [
              0.1111111111111111,
              "#46039f"
             ],
             [
              0.2222222222222222,
              "#7201a8"
             ],
             [
              0.3333333333333333,
              "#9c179e"
             ],
             [
              0.4444444444444444,
              "#bd3786"
             ],
             [
              0.5555555555555556,
              "#d8576b"
             ],
             [
              0.6666666666666666,
              "#ed7953"
             ],
             [
              0.7777777777777778,
              "#fb9f3a"
             ],
             [
              0.8888888888888888,
              "#fdca26"
             ],
             [
              1,
              "#f0f921"
             ]
            ],
            "type": "heatmap"
           }
          ],
          "histogram": [
           {
            "marker": {
             "pattern": {
              "fillmode": "overlay",
              "size": 10,
              "solidity": 0.2
             }
            },
            "type": "histogram"
           }
          ],
          "histogram2d": [
           {
            "colorbar": {
             "outlinewidth": 0,
             "ticks": ""
            },
            "colorscale": [
             [
              0,
              "#0d0887"
             ],
             [
              0.1111111111111111,
              "#46039f"
             ],
             [
              0.2222222222222222,
              "#7201a8"
             ],
             [
              0.3333333333333333,
              "#9c179e"
             ],
             [
              0.4444444444444444,
              "#bd3786"
             ],
             [
              0.5555555555555556,
              "#d8576b"
             ],
             [
              0.6666666666666666,
              "#ed7953"
             ],
             [
              0.7777777777777778,
              "#fb9f3a"
             ],
             [
              0.8888888888888888,
              "#fdca26"
             ],
             [
              1,
              "#f0f921"
             ]
            ],
            "type": "histogram2d"
           }
          ],
          "histogram2dcontour": [
           {
            "colorbar": {
             "outlinewidth": 0,
             "ticks": ""
            },
            "colorscale": [
             [
              0,
              "#0d0887"
             ],
             [
              0.1111111111111111,
              "#46039f"
             ],
             [
              0.2222222222222222,
              "#7201a8"
             ],
             [
              0.3333333333333333,
              "#9c179e"
             ],
             [
              0.4444444444444444,
              "#bd3786"
             ],
             [
              0.5555555555555556,
              "#d8576b"
             ],
             [
              0.6666666666666666,
              "#ed7953"
             ],
             [
              0.7777777777777778,
              "#fb9f3a"
             ],
             [
              0.8888888888888888,
              "#fdca26"
             ],
             [
              1,
              "#f0f921"
             ]
            ],
            "type": "histogram2dcontour"
           }
          ],
          "mesh3d": [
           {
            "colorbar": {
             "outlinewidth": 0,
             "ticks": ""
            },
            "type": "mesh3d"
           }
          ],
          "parcoords": [
           {
            "line": {
             "colorbar": {
              "outlinewidth": 0,
              "ticks": ""
             }
            },
            "type": "parcoords"
           }
          ],
          "pie": [
           {
            "automargin": true,
            "type": "pie"
           }
          ],
          "scatter": [
           {
            "fillpattern": {
             "fillmode": "overlay",
             "size": 10,
             "solidity": 0.2
            },
            "type": "scatter"
           }
          ],
          "scatter3d": [
           {
            "line": {
             "colorbar": {
              "outlinewidth": 0,
              "ticks": ""
             }
            },
            "marker": {
             "colorbar": {
              "outlinewidth": 0,
              "ticks": ""
             }
            },
            "type": "scatter3d"
           }
          ],
          "scattercarpet": [
           {
            "marker": {
             "colorbar": {
              "outlinewidth": 0,
              "ticks": ""
             }
            },
            "type": "scattercarpet"
           }
          ],
          "scattergeo": [
           {
            "marker": {
             "colorbar": {
              "outlinewidth": 0,
              "ticks": ""
             }
            },
            "type": "scattergeo"
           }
          ],
          "scattergl": [
           {
            "marker": {
             "colorbar": {
              "outlinewidth": 0,
              "ticks": ""
             }
            },
            "type": "scattergl"
           }
          ],
          "scattermap": [
           {
            "marker": {
             "colorbar": {
              "outlinewidth": 0,
              "ticks": ""
             }
            },
            "type": "scattermap"
           }
          ],
          "scattermapbox": [
           {
            "marker": {
             "colorbar": {
              "outlinewidth": 0,
              "ticks": ""
             }
            },
            "type": "scattermapbox"
           }
          ],
          "scatterpolar": [
           {
            "marker": {
             "colorbar": {
              "outlinewidth": 0,
              "ticks": ""
             }
            },
            "type": "scatterpolar"
           }
          ],
          "scatterpolargl": [
           {
            "marker": {
             "colorbar": {
              "outlinewidth": 0,
              "ticks": ""
             }
            },
            "type": "scatterpolargl"
           }
          ],
          "scatterternary": [
           {
            "marker": {
             "colorbar": {
              "outlinewidth": 0,
              "ticks": ""
             }
            },
            "type": "scatterternary"
           }
          ],
          "surface": [
           {
            "colorbar": {
             "outlinewidth": 0,
             "ticks": ""
            },
            "colorscale": [
             [
              0,
              "#0d0887"
             ],
             [
              0.1111111111111111,
              "#46039f"
             ],
             [
              0.2222222222222222,
              "#7201a8"
             ],
             [
              0.3333333333333333,
              "#9c179e"
             ],
             [
              0.4444444444444444,
              "#bd3786"
             ],
             [
              0.5555555555555556,
              "#d8576b"
             ],
             [
              0.6666666666666666,
              "#ed7953"
             ],
             [
              0.7777777777777778,
              "#fb9f3a"
             ],
             [
              0.8888888888888888,
              "#fdca26"
             ],
             [
              1,
              "#f0f921"
             ]
            ],
            "type": "surface"
           }
          ],
          "table": [
           {
            "cells": {
             "fill": {
              "color": "#EBF0F8"
             },
             "line": {
              "color": "white"
             }
            },
            "header": {
             "fill": {
              "color": "#C8D4E3"
             },
             "line": {
              "color": "white"
             }
            },
            "type": "table"
           }
          ]
         },
         "layout": {
          "annotationdefaults": {
           "arrowcolor": "#2a3f5f",
           "arrowhead": 0,
           "arrowwidth": 1
          },
          "autotypenumbers": "strict",
          "coloraxis": {
           "colorbar": {
            "outlinewidth": 0,
            "ticks": ""
           }
          },
          "colorscale": {
           "diverging": [
            [
             0,
             "#8e0152"
            ],
            [
             0.1,
             "#c51b7d"
            ],
            [
             0.2,
             "#de77ae"
            ],
            [
             0.3,
             "#f1b6da"
            ],
            [
             0.4,
             "#fde0ef"
            ],
            [
             0.5,
             "#f7f7f7"
            ],
            [
             0.6,
             "#e6f5d0"
            ],
            [
             0.7,
             "#b8e186"
            ],
            [
             0.8,
             "#7fbc41"
            ],
            [
             0.9,
             "#4d9221"
            ],
            [
             1,
             "#276419"
            ]
           ],
           "sequential": [
            [
             0,
             "#0d0887"
            ],
            [
             0.1111111111111111,
             "#46039f"
            ],
            [
             0.2222222222222222,
             "#7201a8"
            ],
            [
             0.3333333333333333,
             "#9c179e"
            ],
            [
             0.4444444444444444,
             "#bd3786"
            ],
            [
             0.5555555555555556,
             "#d8576b"
            ],
            [
             0.6666666666666666,
             "#ed7953"
            ],
            [
             0.7777777777777778,
             "#fb9f3a"
            ],
            [
             0.8888888888888888,
             "#fdca26"
            ],
            [
             1,
             "#f0f921"
            ]
           ],
           "sequentialminus": [
            [
             0,
             "#0d0887"
            ],
            [
             0.1111111111111111,
             "#46039f"
            ],
            [
             0.2222222222222222,
             "#7201a8"
            ],
            [
             0.3333333333333333,
             "#9c179e"
            ],
            [
             0.4444444444444444,
             "#bd3786"
            ],
            [
             0.5555555555555556,
             "#d8576b"
            ],
            [
             0.6666666666666666,
             "#ed7953"
            ],
            [
             0.7777777777777778,
             "#fb9f3a"
            ],
            [
             0.8888888888888888,
             "#fdca26"
            ],
            [
             1,
             "#f0f921"
            ]
           ]
          },
          "colorway": [
           "#636efa",
           "#EF553B",
           "#00cc96",
           "#ab63fa",
           "#FFA15A",
           "#19d3f3",
           "#FF6692",
           "#B6E880",
           "#FF97FF",
           "#FECB52"
          ],
          "font": {
           "color": "#2a3f5f"
          },
          "geo": {
           "bgcolor": "white",
           "lakecolor": "white",
           "landcolor": "#E5ECF6",
           "showlakes": true,
           "showland": true,
           "subunitcolor": "white"
          },
          "hoverlabel": {
           "align": "left"
          },
          "hovermode": "closest",
          "mapbox": {
           "style": "light"
          },
          "paper_bgcolor": "white",
          "plot_bgcolor": "#E5ECF6",
          "polar": {
           "angularaxis": {
            "gridcolor": "white",
            "linecolor": "white",
            "ticks": ""
           },
           "bgcolor": "#E5ECF6",
           "radialaxis": {
            "gridcolor": "white",
            "linecolor": "white",
            "ticks": ""
           }
          },
          "scene": {
           "xaxis": {
            "backgroundcolor": "#E5ECF6",
            "gridcolor": "white",
            "gridwidth": 2,
            "linecolor": "white",
            "showbackground": true,
            "ticks": "",
            "zerolinecolor": "white"
           },
           "yaxis": {
            "backgroundcolor": "#E5ECF6",
            "gridcolor": "white",
            "gridwidth": 2,
            "linecolor": "white",
            "showbackground": true,
            "ticks": "",
            "zerolinecolor": "white"
           },
           "zaxis": {
            "backgroundcolor": "#E5ECF6",
            "gridcolor": "white",
            "gridwidth": 2,
            "linecolor": "white",
            "showbackground": true,
            "ticks": "",
            "zerolinecolor": "white"
           }
          },
          "shapedefaults": {
           "line": {
            "color": "#2a3f5f"
           }
          },
          "ternary": {
           "aaxis": {
            "gridcolor": "white",
            "linecolor": "white",
            "ticks": ""
           },
           "baxis": {
            "gridcolor": "white",
            "linecolor": "white",
            "ticks": ""
           },
           "bgcolor": "#E5ECF6",
           "caxis": {
            "gridcolor": "white",
            "linecolor": "white",
            "ticks": ""
           }
          },
          "title": {
           "x": 0.05
          },
          "xaxis": {
           "automargin": true,
           "gridcolor": "white",
           "linecolor": "white",
           "ticks": "",
           "title": {
            "standoff": 15
           },
           "zerolinecolor": "white",
           "zerolinewidth": 2
          },
          "yaxis": {
           "automargin": true,
           "gridcolor": "white",
           "linecolor": "white",
           "ticks": "",
           "title": {
            "standoff": 15
           },
           "zerolinecolor": "white",
           "zerolinewidth": 2
          }
         }
        },
        "title": {
         "text": "Hospital Process Flow - Horizontal Spacing by Wait Time"
        }
       }
      }
     },
     "metadata": {},
     "output_type": "display_data"
    },
    {
     "name": "stdout",
     "output_type": "stream",
     "text": [
      "\n",
      "📊 Wait Times (affects horizontal spacing between stages):\n",
      "   Triage: 2.5 minutes\n",
      "   Registration: 1.0 minutes\n",
      "   Treatment: 15.3 minutes\n",
      "   Consultation: 8.2 minutes\n",
      "   Recovery: 45.0 minutes\n",
      "   Discharge: 5.5 minutes\n",
      "\n",
      "ℹ️  Stages with longer wait times have more horizontal distance!\n",
      "   (e.g., 'Recovery' with 45 min wait → larger gap before next stage)\n"
     ]
    }
   ],
   "source": [
    "# Create sample data with wait times at each stage\n",
    "np.random.seed(42)\n",
    "process_data = pd.DataFrame({\n",
    "    'source': ['Intake', 'Intake', 'Triage', 'Triage', 'Treatment', 'Treatment'],\n",
    "    'target': ['Triage', 'Registration', 'Treatment', 'Consultation', 'Recovery', 'Discharge'],\n",
    "    'value': [100, 50, 80, 20, 60, 40],\n",
    "    'wait_time': [2.5, 1.0, 15.3, 8.2, 45.0, 5.5]  # Average wait time in minutes\n",
    "})\n",
    "\n",
    "# Define a spacing metric based on wait time\n",
    "# This controls HORIZONTAL distance between stages\n",
    "def wait_time_spacing(df):\n",
    "    \"\"\"Map node names to their average wait times\"\"\"\n",
    "    spacing = {}\n",
    "    \n",
    "    # Get wait times for each node\n",
    "    if 'wait_time' in df.columns:\n",
    "        for _, row in df.iterrows():\n",
    "            target = row['target']\n",
    "            wait = row['wait_time']\n",
    "            if target in spacing:\n",
    "                spacing[target] = (spacing[target] + wait) / 2  # Average if multiple\n",
    "            else:\n",
    "                spacing[target] = wait\n",
    "    \n",
    "    return spacing\n",
    "\n",
    "# Create diagram with horizontal node spacing based on wait time\n",
    "diagram = SankeyDiagram(process_data)\n",
    "diagram.set_node_spacing_metric(wait_time_spacing)\n",
    "\n",
    "# Render with custom spacing\n",
    "diagram.render('source', 'target', 'value',\n",
    "               title=\"Hospital Process Flow - Horizontal Spacing by Wait Time\",\n",
    "               show_timeline=False).show()\n",
    "\n",
    "# Show the wait times\n",
    "print(\"\\n📊 Wait Times (affects horizontal spacing between stages):\")\n",
    "for _, row in process_data.iterrows():\n",
    "    print(f\"   {row['target']}: {row['wait_time']} minutes\")\n",
    "print(\"\\nℹ️  Stages with longer wait times have more horizontal distance!\")\n",
    "print(\"   (e.g., 'Recovery' with 45 min wait → larger gap before next stage)\")"
   ]
  },
  {
   "cell_type": "markdown",
   "id": "e1693f9e",
   "metadata": {},
   "source": [
    "### Visual Impact\n",
    "\n",
    "The horizontal spacing feature makes it easy to spot:\n",
    "- ⏰ **Bottlenecks**: Stages with long wait times are visually stretched out\n",
    "- ⚡ **Fast processes**: Short delays appear compact\n",
    "- 🎯 **Critical paths**: Identify where time is being spent in your process\n",
    "\n",
    "Perfect for process optimization, patient flow analysis, manufacturing throughput, and more!"
   ]
  }
 ],
 "metadata": {
  "kernelspec": {
   "display_name": "Python 3",
   "language": "python",
   "name": "python3"
  },
  "language_info": {
   "codemirror_mode": {
    "name": "ipython",
    "version": 3
   },
   "file_extension": ".py",
   "mimetype": "text/x-python",
   "name": "python",
   "nbconvert_exporter": "python",
   "pygments_lexer": "ipython3",
   "version": "3.12.1"
  }
 },
 "nbformat": 4,
 "nbformat_minor": 5
}
