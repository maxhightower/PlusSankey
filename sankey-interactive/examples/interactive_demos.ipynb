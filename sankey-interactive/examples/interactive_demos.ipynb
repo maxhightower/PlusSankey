{
 "cells": [
  {
   "cell_type": "markdown",
   "id": "40a5e321",
   "metadata": {},
   "source": [
    "# Interactive Sankey Library - Comprehensive Demonstrations\n",
    "\n",
    "This notebook demonstrates all the features of the interactive Sankey diagram library.\n",
    "\n",
    "## Features Demonstrated:\n",
    "1. Basic Sankey Diagram\n",
    "2. Time Series Animation\n",
    "3. Histogram Edge Coloring\n",
    "4. Interactive Filters\n",
    "5. Custom Metrics\n",
    "6. Complete Dashboard (All Features Combined)"
   ]
  },
  {
   "cell_type": "code",
   "execution_count": 1,
   "id": "9bf5411b",
   "metadata": {},
   "outputs": [
    {
     "name": "stdout",
     "output_type": "stream",
     "text": [
      "✅ All imports successful!\n"
     ]
    }
   ],
   "source": [
    "# Setup and imports\n",
    "import sys\n",
    "sys.path.insert(0, '../src')\n",
    "\n",
    "import pandas as pd\n",
    "import numpy as np\n",
    "from sankey_interactive import SankeyDiagram\n",
    "\n",
    "print(\"✅ All imports successful!\")"
   ]
  },
  {
   "cell_type": "code",
   "execution_count": 2,
   "id": "228584f4",
   "metadata": {},
   "outputs": [
    {
     "name": "stdout",
     "output_type": "stream",
     "text": [
      "✅ Created sample data with 288 flow records across 12 time periods\n"
     ]
    },
    {
     "data": {
      "text/html": [
       "<div>\n",
       "<style scoped>\n",
       "    .dataframe tbody tr th:only-of-type {\n",
       "        vertical-align: middle;\n",
       "    }\n",
       "\n",
       "    .dataframe tbody tr th {\n",
       "        vertical-align: top;\n",
       "    }\n",
       "\n",
       "    .dataframe thead th {\n",
       "        text-align: right;\n",
       "    }\n",
       "</style>\n",
       "<table border=\"1\" class=\"dataframe\">\n",
       "  <thead>\n",
       "    <tr style=\"text-align: right;\">\n",
       "      <th></th>\n",
       "      <th>date</th>\n",
       "      <th>source</th>\n",
       "      <th>target</th>\n",
       "      <th>value</th>\n",
       "      <th>type</th>\n",
       "    </tr>\n",
       "  </thead>\n",
       "  <tbody>\n",
       "    <tr>\n",
       "      <th>0</th>\n",
       "      <td>2024-01-31</td>\n",
       "      <td>Solar</td>\n",
       "      <td>Grid</td>\n",
       "      <td>109.228845</td>\n",
       "      <td>generation</td>\n",
       "    </tr>\n",
       "    <tr>\n",
       "      <th>1</th>\n",
       "      <td>2024-01-31</td>\n",
       "      <td>Solar</td>\n",
       "      <td>Storage</td>\n",
       "      <td>135.732858</td>\n",
       "      <td>generation</td>\n",
       "    </tr>\n",
       "    <tr>\n",
       "      <th>2</th>\n",
       "      <td>2024-01-31</td>\n",
       "      <td>Solar</td>\n",
       "      <td>Direct</td>\n",
       "      <td>125.671721</td>\n",
       "      <td>generation</td>\n",
       "    </tr>\n",
       "    <tr>\n",
       "      <th>3</th>\n",
       "      <td>2024-01-31</td>\n",
       "      <td>Wind</td>\n",
       "      <td>Grid</td>\n",
       "      <td>97.560299</td>\n",
       "      <td>generation</td>\n",
       "    </tr>\n",
       "    <tr>\n",
       "      <th>4</th>\n",
       "      <td>2024-01-31</td>\n",
       "      <td>Wind</td>\n",
       "      <td>Storage</td>\n",
       "      <td>80.942465</td>\n",
       "      <td>generation</td>\n",
       "    </tr>\n",
       "    <tr>\n",
       "      <th>5</th>\n",
       "      <td>2024-01-31</td>\n",
       "      <td>Wind</td>\n",
       "      <td>Direct</td>\n",
       "      <td>80.941559</td>\n",
       "      <td>generation</td>\n",
       "    </tr>\n",
       "    <tr>\n",
       "      <th>6</th>\n",
       "      <td>2024-01-31</td>\n",
       "      <td>Coal</td>\n",
       "      <td>Grid</td>\n",
       "      <td>121.978745</td>\n",
       "      <td>generation</td>\n",
       "    </tr>\n",
       "    <tr>\n",
       "      <th>7</th>\n",
       "      <td>2024-01-31</td>\n",
       "      <td>Coal</td>\n",
       "      <td>Storage</td>\n",
       "      <td>127.714862</td>\n",
       "      <td>generation</td>\n",
       "    </tr>\n",
       "    <tr>\n",
       "      <th>8</th>\n",
       "      <td>2024-01-31</td>\n",
       "      <td>Coal</td>\n",
       "      <td>Direct</td>\n",
       "      <td>42.028157</td>\n",
       "      <td>generation</td>\n",
       "    </tr>\n",
       "    <tr>\n",
       "      <th>9</th>\n",
       "      <td>2024-01-31</td>\n",
       "      <td>Nuclear</td>\n",
       "      <td>Grid</td>\n",
       "      <td>55.528775</td>\n",
       "      <td>generation</td>\n",
       "    </tr>\n",
       "  </tbody>\n",
       "</table>\n",
       "</div>"
      ],
      "text/plain": [
       "        date   source   target       value        type\n",
       "0 2024-01-31    Solar     Grid  109.228845  generation\n",
       "1 2024-01-31    Solar  Storage  135.732858  generation\n",
       "2 2024-01-31    Solar   Direct  125.671721  generation\n",
       "3 2024-01-31     Wind     Grid   97.560299  generation\n",
       "4 2024-01-31     Wind  Storage   80.942465  generation\n",
       "5 2024-01-31     Wind   Direct   80.941559  generation\n",
       "6 2024-01-31     Coal     Grid  121.978745  generation\n",
       "7 2024-01-31     Coal  Storage  127.714862  generation\n",
       "8 2024-01-31     Coal   Direct   42.028157  generation\n",
       "9 2024-01-31  Nuclear     Grid   55.528775  generation"
      ]
     },
     "execution_count": 2,
     "metadata": {},
     "output_type": "execute_result"
    }
   ],
   "source": [
    "# Create sample time series data for energy flows\n",
    "np.random.seed(42)\n",
    "\n",
    "dates = pd.date_range('2024-01', periods=12, freq='ME')\n",
    "data = []\n",
    "\n",
    "sources = ['Solar', 'Wind', 'Coal', 'Nuclear', 'Gas']\n",
    "intermediates = ['Grid', 'Storage', 'Direct']\n",
    "targets = ['Residential', 'Commercial', 'Industrial']\n",
    "\n",
    "for date in dates:\n",
    "    # Simulate seasonal variations\n",
    "    month = date.month\n",
    "    solar_factor = 1 + 0.3 * np.sin(2 * np.pi * month / 12)\n",
    "    wind_factor = 1 + 0.2 * np.cos(2 * np.pi * month / 12)\n",
    "    \n",
    "    # Create flows from sources to intermediates\n",
    "    for source in sources:\n",
    "        for intermediate in intermediates:\n",
    "            if source == 'Solar':\n",
    "                base_value = 100 * solar_factor\n",
    "            elif source == 'Wind':\n",
    "                base_value = 80 * wind_factor\n",
    "            else:\n",
    "                base_value = np.random.randint(50, 150)\n",
    "            \n",
    "            value = base_value * np.random.uniform(0.8, 1.2)\n",
    "            \n",
    "            data.append({\n",
    "                'date': date,\n",
    "                'source': source,\n",
    "                'target': intermediate,\n",
    "                'value': value,\n",
    "                'type': 'generation'\n",
    "            })\n",
    "    \n",
    "    # Create flows from intermediates to targets\n",
    "    for intermediate in intermediates:\n",
    "        for target in targets:\n",
    "            value = np.random.uniform(50, 200)\n",
    "            data.append({\n",
    "                'date': date,\n",
    "                'source': intermediate,\n",
    "                'target': target,\n",
    "                'value': value,\n",
    "                'type': 'distribution'\n",
    "            })\n",
    "\n",
    "df = pd.DataFrame(data)\n",
    "print(f\"✅ Created sample data with {len(df)} flow records across {len(dates)} time periods\")\n",
    "df.head(10)"
   ]
  },
  {
   "cell_type": "markdown",
   "id": "85e9b592",
   "metadata": {},
   "source": [
    "## Demo 1: Basic Sankey Diagram\n",
    "\n",
    "Simple flow visualization showing basic node-to-node connections."
   ]
  },
  {
   "cell_type": "code",
   "execution_count": 3,
   "id": "0a29e14b",
   "metadata": {},
   "outputs": [
    {
     "data": {
      "application/vnd.plotly.v1+json": {
       "config": {
        "plotlyServerURL": "https://plot.ly"
       },
       "data": [
        {
         "link": {
          "color": [
           "rgba(100, 150, 200, 0.4)",
           "rgba(100, 150, 200, 0.4)",
           "rgba(100, 150, 200, 0.4)",
           "rgba(100, 150, 200, 0.4)",
           "rgba(100, 150, 200, 0.4)"
          ],
          "source": [
           3,
           3,
           1,
           1,
           4
          ],
          "target": [
           2,
           0,
           2,
           0,
           0
          ],
          "value": [
           10,
           20,
           15,
           5,
           25
          ]
         },
         "node": {
          "color": "rgba(100, 150, 200, 0.8)",
          "label": [
           "E",
           "B",
           "D",
           "A",
           "C"
          ],
          "line": {
           "color": "black",
           "width": 0.5
          },
          "pad": 15,
          "thickness": 20
         },
         "type": "sankey"
        }
       ],
       "layout": {
        "font": {
         "size": 12
        },
        "height": 600,
        "template": {
         "data": {
          "bar": [
           {
            "error_x": {
             "color": "#2a3f5f"
            },
            "error_y": {
             "color": "#2a3f5f"
            },
            "marker": {
             "line": {
              "color": "#E5ECF6",
              "width": 0.5
             },
             "pattern": {
              "fillmode": "overlay",
              "size": 10,
              "solidity": 0.2
             }
            },
            "type": "bar"
           }
          ],
          "barpolar": [
           {
            "marker": {
             "line": {
              "color": "#E5ECF6",
              "width": 0.5
             },
             "pattern": {
              "fillmode": "overlay",
              "size": 10,
              "solidity": 0.2
             }
            },
            "type": "barpolar"
           }
          ],
          "carpet": [
           {
            "aaxis": {
             "endlinecolor": "#2a3f5f",
             "gridcolor": "white",
             "linecolor": "white",
             "minorgridcolor": "white",
             "startlinecolor": "#2a3f5f"
            },
            "baxis": {
             "endlinecolor": "#2a3f5f",
             "gridcolor": "white",
             "linecolor": "white",
             "minorgridcolor": "white",
             "startlinecolor": "#2a3f5f"
            },
            "type": "carpet"
           }
          ],
          "choropleth": [
           {
            "colorbar": {
             "outlinewidth": 0,
             "ticks": ""
            },
            "type": "choropleth"
           }
          ],
          "contour": [
           {
            "colorbar": {
             "outlinewidth": 0,
             "ticks": ""
            },
            "colorscale": [
             [
              0,
              "#0d0887"
             ],
             [
              0.1111111111111111,
              "#46039f"
             ],
             [
              0.2222222222222222,
              "#7201a8"
             ],
             [
              0.3333333333333333,
              "#9c179e"
             ],
             [
              0.4444444444444444,
              "#bd3786"
             ],
             [
              0.5555555555555556,
              "#d8576b"
             ],
             [
              0.6666666666666666,
              "#ed7953"
             ],
             [
              0.7777777777777778,
              "#fb9f3a"
             ],
             [
              0.8888888888888888,
              "#fdca26"
             ],
             [
              1,
              "#f0f921"
             ]
            ],
            "type": "contour"
           }
          ],
          "contourcarpet": [
           {
            "colorbar": {
             "outlinewidth": 0,
             "ticks": ""
            },
            "type": "contourcarpet"
           }
          ],
          "heatmap": [
           {
            "colorbar": {
             "outlinewidth": 0,
             "ticks": ""
            },
            "colorscale": [
             [
              0,
              "#0d0887"
             ],
             [
              0.1111111111111111,
              "#46039f"
             ],
             [
              0.2222222222222222,
              "#7201a8"
             ],
             [
              0.3333333333333333,
              "#9c179e"
             ],
             [
              0.4444444444444444,
              "#bd3786"
             ],
             [
              0.5555555555555556,
              "#d8576b"
             ],
             [
              0.6666666666666666,
              "#ed7953"
             ],
             [
              0.7777777777777778,
              "#fb9f3a"
             ],
             [
              0.8888888888888888,
              "#fdca26"
             ],
             [
              1,
              "#f0f921"
             ]
            ],
            "type": "heatmap"
           }
          ],
          "histogram": [
           {
            "marker": {
             "pattern": {
              "fillmode": "overlay",
              "size": 10,
              "solidity": 0.2
             }
            },
            "type": "histogram"
           }
          ],
          "histogram2d": [
           {
            "colorbar": {
             "outlinewidth": 0,
             "ticks": ""
            },
            "colorscale": [
             [
              0,
              "#0d0887"
             ],
             [
              0.1111111111111111,
              "#46039f"
             ],
             [
              0.2222222222222222,
              "#7201a8"
             ],
             [
              0.3333333333333333,
              "#9c179e"
             ],
             [
              0.4444444444444444,
              "#bd3786"
             ],
             [
              0.5555555555555556,
              "#d8576b"
             ],
             [
              0.6666666666666666,
              "#ed7953"
             ],
             [
              0.7777777777777778,
              "#fb9f3a"
             ],
             [
              0.8888888888888888,
              "#fdca26"
             ],
             [
              1,
              "#f0f921"
             ]
            ],
            "type": "histogram2d"
           }
          ],
          "histogram2dcontour": [
           {
            "colorbar": {
             "outlinewidth": 0,
             "ticks": ""
            },
            "colorscale": [
             [
              0,
              "#0d0887"
             ],
             [
              0.1111111111111111,
              "#46039f"
             ],
             [
              0.2222222222222222,
              "#7201a8"
             ],
             [
              0.3333333333333333,
              "#9c179e"
             ],
             [
              0.4444444444444444,
              "#bd3786"
             ],
             [
              0.5555555555555556,
              "#d8576b"
             ],
             [
              0.6666666666666666,
              "#ed7953"
             ],
             [
              0.7777777777777778,
              "#fb9f3a"
             ],
             [
              0.8888888888888888,
              "#fdca26"
             ],
             [
              1,
              "#f0f921"
             ]
            ],
            "type": "histogram2dcontour"
           }
          ],
          "mesh3d": [
           {
            "colorbar": {
             "outlinewidth": 0,
             "ticks": ""
            },
            "type": "mesh3d"
           }
          ],
          "parcoords": [
           {
            "line": {
             "colorbar": {
              "outlinewidth": 0,
              "ticks": ""
             }
            },
            "type": "parcoords"
           }
          ],
          "pie": [
           {
            "automargin": true,
            "type": "pie"
           }
          ],
          "scatter": [
           {
            "fillpattern": {
             "fillmode": "overlay",
             "size": 10,
             "solidity": 0.2
            },
            "type": "scatter"
           }
          ],
          "scatter3d": [
           {
            "line": {
             "colorbar": {
              "outlinewidth": 0,
              "ticks": ""
             }
            },
            "marker": {
             "colorbar": {
              "outlinewidth": 0,
              "ticks": ""
             }
            },
            "type": "scatter3d"
           }
          ],
          "scattercarpet": [
           {
            "marker": {
             "colorbar": {
              "outlinewidth": 0,
              "ticks": ""
             }
            },
            "type": "scattercarpet"
           }
          ],
          "scattergeo": [
           {
            "marker": {
             "colorbar": {
              "outlinewidth": 0,
              "ticks": ""
             }
            },
            "type": "scattergeo"
           }
          ],
          "scattergl": [
           {
            "marker": {
             "colorbar": {
              "outlinewidth": 0,
              "ticks": ""
             }
            },
            "type": "scattergl"
           }
          ],
          "scattermap": [
           {
            "marker": {
             "colorbar": {
              "outlinewidth": 0,
              "ticks": ""
             }
            },
            "type": "scattermap"
           }
          ],
          "scattermapbox": [
           {
            "marker": {
             "colorbar": {
              "outlinewidth": 0,
              "ticks": ""
             }
            },
            "type": "scattermapbox"
           }
          ],
          "scatterpolar": [
           {
            "marker": {
             "colorbar": {
              "outlinewidth": 0,
              "ticks": ""
             }
            },
            "type": "scatterpolar"
           }
          ],
          "scatterpolargl": [
           {
            "marker": {
             "colorbar": {
              "outlinewidth": 0,
              "ticks": ""
             }
            },
            "type": "scatterpolargl"
           }
          ],
          "scatterternary": [
           {
            "marker": {
             "colorbar": {
              "outlinewidth": 0,
              "ticks": ""
             }
            },
            "type": "scatterternary"
           }
          ],
          "surface": [
           {
            "colorbar": {
             "outlinewidth": 0,
             "ticks": ""
            },
            "colorscale": [
             [
              0,
              "#0d0887"
             ],
             [
              0.1111111111111111,
              "#46039f"
             ],
             [
              0.2222222222222222,
              "#7201a8"
             ],
             [
              0.3333333333333333,
              "#9c179e"
             ],
             [
              0.4444444444444444,
              "#bd3786"
             ],
             [
              0.5555555555555556,
              "#d8576b"
             ],
             [
              0.6666666666666666,
              "#ed7953"
             ],
             [
              0.7777777777777778,
              "#fb9f3a"
             ],
             [
              0.8888888888888888,
              "#fdca26"
             ],
             [
              1,
              "#f0f921"
             ]
            ],
            "type": "surface"
           }
          ],
          "table": [
           {
            "cells": {
             "fill": {
              "color": "#EBF0F8"
             },
             "line": {
              "color": "white"
             }
            },
            "header": {
             "fill": {
              "color": "#C8D4E3"
             },
             "line": {
              "color": "white"
             }
            },
            "type": "table"
           }
          ]
         },
         "layout": {
          "annotationdefaults": {
           "arrowcolor": "#2a3f5f",
           "arrowhead": 0,
           "arrowwidth": 1
          },
          "autotypenumbers": "strict",
          "coloraxis": {
           "colorbar": {
            "outlinewidth": 0,
            "ticks": ""
           }
          },
          "colorscale": {
           "diverging": [
            [
             0,
             "#8e0152"
            ],
            [
             0.1,
             "#c51b7d"
            ],
            [
             0.2,
             "#de77ae"
            ],
            [
             0.3,
             "#f1b6da"
            ],
            [
             0.4,
             "#fde0ef"
            ],
            [
             0.5,
             "#f7f7f7"
            ],
            [
             0.6,
             "#e6f5d0"
            ],
            [
             0.7,
             "#b8e186"
            ],
            [
             0.8,
             "#7fbc41"
            ],
            [
             0.9,
             "#4d9221"
            ],
            [
             1,
             "#276419"
            ]
           ],
           "sequential": [
            [
             0,
             "#0d0887"
            ],
            [
             0.1111111111111111,
             "#46039f"
            ],
            [
             0.2222222222222222,
             "#7201a8"
            ],
            [
             0.3333333333333333,
             "#9c179e"
            ],
            [
             0.4444444444444444,
             "#bd3786"
            ],
            [
             0.5555555555555556,
             "#d8576b"
            ],
            [
             0.6666666666666666,
             "#ed7953"
            ],
            [
             0.7777777777777778,
             "#fb9f3a"
            ],
            [
             0.8888888888888888,
             "#fdca26"
            ],
            [
             1,
             "#f0f921"
            ]
           ],
           "sequentialminus": [
            [
             0,
             "#0d0887"
            ],
            [
             0.1111111111111111,
             "#46039f"
            ],
            [
             0.2222222222222222,
             "#7201a8"
            ],
            [
             0.3333333333333333,
             "#9c179e"
            ],
            [
             0.4444444444444444,
             "#bd3786"
            ],
            [
             0.5555555555555556,
             "#d8576b"
            ],
            [
             0.6666666666666666,
             "#ed7953"
            ],
            [
             0.7777777777777778,
             "#fb9f3a"
            ],
            [
             0.8888888888888888,
             "#fdca26"
            ],
            [
             1,
             "#f0f921"
            ]
           ]
          },
          "colorway": [
           "#636efa",
           "#EF553B",
           "#00cc96",
           "#ab63fa",
           "#FFA15A",
           "#19d3f3",
           "#FF6692",
           "#B6E880",
           "#FF97FF",
           "#FECB52"
          ],
          "font": {
           "color": "#2a3f5f"
          },
          "geo": {
           "bgcolor": "white",
           "lakecolor": "white",
           "landcolor": "#E5ECF6",
           "showlakes": true,
           "showland": true,
           "subunitcolor": "white"
          },
          "hoverlabel": {
           "align": "left"
          },
          "hovermode": "closest",
          "mapbox": {
           "style": "light"
          },
          "paper_bgcolor": "white",
          "plot_bgcolor": "#E5ECF6",
          "polar": {
           "angularaxis": {
            "gridcolor": "white",
            "linecolor": "white",
            "ticks": ""
           },
           "bgcolor": "#E5ECF6",
           "radialaxis": {
            "gridcolor": "white",
            "linecolor": "white",
            "ticks": ""
           }
          },
          "scene": {
           "xaxis": {
            "backgroundcolor": "#E5ECF6",
            "gridcolor": "white",
            "gridwidth": 2,
            "linecolor": "white",
            "showbackground": true,
            "ticks": "",
            "zerolinecolor": "white"
           },
           "yaxis": {
            "backgroundcolor": "#E5ECF6",
            "gridcolor": "white",
            "gridwidth": 2,
            "linecolor": "white",
            "showbackground": true,
            "ticks": "",
            "zerolinecolor": "white"
           },
           "zaxis": {
            "backgroundcolor": "#E5ECF6",
            "gridcolor": "white",
            "gridwidth": 2,
            "linecolor": "white",
            "showbackground": true,
            "ticks": "",
            "zerolinecolor": "white"
           }
          },
          "shapedefaults": {
           "line": {
            "color": "#2a3f5f"
           }
          },
          "ternary": {
           "aaxis": {
            "gridcolor": "white",
            "linecolor": "white",
            "ticks": ""
           },
           "baxis": {
            "gridcolor": "white",
            "linecolor": "white",
            "ticks": ""
           },
           "bgcolor": "#E5ECF6",
           "caxis": {
            "gridcolor": "white",
            "linecolor": "white",
            "ticks": ""
           }
          },
          "title": {
           "x": 0.05
          },
          "xaxis": {
           "automargin": true,
           "gridcolor": "white",
           "linecolor": "white",
           "ticks": "",
           "title": {
            "standoff": 15
           },
           "zerolinecolor": "white",
           "zerolinewidth": 2
          },
          "yaxis": {
           "automargin": true,
           "gridcolor": "white",
           "linecolor": "white",
           "ticks": "",
           "title": {
            "standoff": 15
           },
           "zerolinecolor": "white",
           "zerolinewidth": 2
          }
         }
        },
        "title": {
         "text": "Demo 1: Basic Sankey Diagram"
        }
       }
      }
     },
     "metadata": {},
     "output_type": "display_data"
    }
   ],
   "source": [
    "# Demo 1: Basic Sankey\n",
    "simple_data = pd.DataFrame({\n",
    "    'source': ['A', 'A', 'B', 'B', 'C'],\n",
    "    'target': ['D', 'E', 'D', 'E', 'E'],\n",
    "    'value': [10, 20, 15, 5, 25]\n",
    "})\n",
    "\n",
    "diagram = SankeyDiagram(simple_data)\n",
    "fig = diagram.render('source', 'target', 'value', \n",
    "                     title=\"Demo 1: Basic Sankey Diagram\",\n",
    "                     show_timeline=False)\n",
    "fig.show()"
   ]
  },
  {
   "cell_type": "markdown",
   "id": "b7cb46f3",
   "metadata": {},
   "source": [
    "## Demo 2: Time Series Animation ⏱️\n",
    "\n",
    "Interactive timeline with Play/Pause controls. Click **Play** to see the flows change over time!"
   ]
  },
  {
   "cell_type": "code",
   "execution_count": 4,
   "id": "d14323a9",
   "metadata": {},
   "outputs": [
    {
     "ename": "TypeError",
     "evalue": "SankeyDiagram._create_timeline_figure() takes 7 positional arguments but 9 were given",
     "output_type": "error",
     "traceback": [
      "\u001b[31m---------------------------------------------------------------------------\u001b[39m",
      "\u001b[31mTypeError\u001b[39m                                 Traceback (most recent call last)",
      "\u001b[36mCell\u001b[39m\u001b[36m \u001b[39m\u001b[32mIn[4]\u001b[39m\u001b[32m, line 5\u001b[39m\n\u001b[32m      2\u001b[39m generation_data = df[df[\u001b[33m'\u001b[39m\u001b[33mtype\u001b[39m\u001b[33m'\u001b[39m] == \u001b[33m'\u001b[39m\u001b[33mgeneration\u001b[39m\u001b[33m'\u001b[39m].copy()\n\u001b[32m      4\u001b[39m diagram = SankeyDiagram(generation_data, time_column=\u001b[33m'\u001b[39m\u001b[33mdate\u001b[39m\u001b[33m'\u001b[39m)\n\u001b[32m----> \u001b[39m\u001b[32m5\u001b[39m fig = \u001b[43mdiagram\u001b[49m\u001b[43m.\u001b[49m\u001b[43mrender\u001b[49m\u001b[43m(\u001b[49m\u001b[33;43m'\u001b[39;49m\u001b[33;43msource\u001b[39;49m\u001b[33;43m'\u001b[39;49m\u001b[43m,\u001b[49m\u001b[43m \u001b[49m\u001b[33;43m'\u001b[39;49m\u001b[33;43mtarget\u001b[39;49m\u001b[33;43m'\u001b[39;49m\u001b[43m,\u001b[49m\u001b[43m \u001b[49m\u001b[33;43m'\u001b[39;49m\u001b[33;43mvalue\u001b[39;49m\u001b[33;43m'\u001b[39;49m\u001b[43m,\u001b[49m\n\u001b[32m      6\u001b[39m \u001b[43m                     \u001b[49m\u001b[43mtitle\u001b[49m\u001b[43m=\u001b[49m\u001b[33;43m\"\u001b[39;49m\u001b[33;43mDemo 2: Energy Generation Over Time (Click Play!)\u001b[39;49m\u001b[33;43m\"\u001b[39;49m\u001b[43m,\u001b[49m\n\u001b[32m      7\u001b[39m \u001b[43m                     \u001b[49m\u001b[43mshow_timeline\u001b[49m\u001b[43m=\u001b[49m\u001b[38;5;28;43;01mTrue\u001b[39;49;00m\u001b[43m,\u001b[49m\n\u001b[32m      8\u001b[39m \u001b[43m                     \u001b[49m\u001b[43mshow_histogram\u001b[49m\u001b[43m=\u001b[49m\u001b[38;5;28;43;01mFalse\u001b[39;49;00m\u001b[43m)\u001b[49m\n\u001b[32m      9\u001b[39m fig.show()\n",
      "\u001b[36mFile \u001b[39m\u001b[32m/workspaces/PlusSankey/sankey-interactive/examples/../src/sankey_interactive/core/diagram.py:151\u001b[39m, in \u001b[36mSankeyDiagram.render\u001b[39m\u001b[34m(self, source_col, target_col, value_col, title, show_histogram, show_timeline, animation_duration, transition_easing)\u001b[39m\n\u001b[32m    149\u001b[39m \u001b[38;5;66;03m# Create figure\u001b[39;00m\n\u001b[32m    150\u001b[39m \u001b[38;5;28;01mif\u001b[39;00m show_timeline \u001b[38;5;129;01mand\u001b[39;00m \u001b[38;5;28mself\u001b[39m.time_column:\n\u001b[32m--> \u001b[39m\u001b[32m151\u001b[39m     \u001b[38;5;28mself\u001b[39m.fig = \u001b[38;5;28;43mself\u001b[39;49m\u001b[43m.\u001b[49m\u001b[43m_create_timeline_figure\u001b[49m\u001b[43m(\u001b[49m\n\u001b[32m    152\u001b[39m \u001b[43m        \u001b[49m\u001b[43msankey_data\u001b[49m\u001b[43m,\u001b[49m\u001b[43m \u001b[49m\u001b[43msource_col\u001b[49m\u001b[43m,\u001b[49m\u001b[43m \u001b[49m\u001b[43mtarget_col\u001b[49m\u001b[43m,\u001b[49m\u001b[43m \u001b[49m\u001b[43mvalue_col\u001b[49m\u001b[43m,\u001b[49m\u001b[43m \u001b[49m\n\u001b[32m    153\u001b[39m \u001b[43m        \u001b[49m\u001b[43mtitle\u001b[49m\u001b[43m,\u001b[49m\u001b[43m \u001b[49m\u001b[43mshow_histogram\u001b[49m\u001b[43m,\u001b[49m\u001b[43m \u001b[49m\u001b[43manimation_duration\u001b[49m\u001b[43m,\u001b[49m\u001b[43m \u001b[49m\u001b[43mtransition_easing\u001b[49m\n\u001b[32m    154\u001b[39m \u001b[43m    \u001b[49m\u001b[43m)\u001b[49m\n\u001b[32m    155\u001b[39m \u001b[38;5;28;01melse\u001b[39;00m:\n\u001b[32m    156\u001b[39m     \u001b[38;5;28mself\u001b[39m.fig = \u001b[38;5;28mself\u001b[39m._create_static_figure(sankey_data, title)\n",
      "\u001b[31mTypeError\u001b[39m: SankeyDiagram._create_timeline_figure() takes 7 positional arguments but 9 were given"
     ]
    }
   ],
   "source": [
    "# Demo 2: Time Series with Animation\n",
    "generation_data = df[df['type'] == 'generation'].copy()\n",
    "\n",
    "diagram = SankeyDiagram(generation_data, time_column='date')\n",
    "fig = diagram.render('source', 'target', 'value',\n",
    "                     title=\"Demo 2: Energy Generation Over Time (Click Play!)\",\n",
    "                     show_timeline=True,\n",
    "                     show_histogram=False)\n",
    "fig.show()"
   ]
  },
  {
   "cell_type": "markdown",
   "id": "af9c9e57",
   "metadata": {},
   "source": [
    "## Demo 3: Histogram Edge Coloring 🌈\n",
    "\n",
    "Edges are colored based on flow values:\n",
    "- **Blue** = Low values\n",
    "- **Red** = High values"
   ]
  },
  {
   "cell_type": "code",
   "execution_count": null,
   "id": "42fb7557",
   "metadata": {},
   "outputs": [],
   "source": [
    "# Demo 3: Histogram Edge Coloring\n",
    "first_month = df['date'].min()\n",
    "monthly_data = df[df['date'] == first_month].copy()\n",
    "\n",
    "diagram = SankeyDiagram(monthly_data)\n",
    "fig = diagram.render('source', 'target', 'value',\n",
    "                     title=\"Demo 3: Energy Flows with Value-Based Coloring\",\n",
    "                     show_histogram=True,\n",
    "                     show_timeline=False)\n",
    "fig.show()"
   ]
  },
  {
   "cell_type": "markdown",
   "id": "a2dd781b",
   "metadata": {},
   "source": [
    "## Demo 4: Interactive Filters 🔍\n",
    "\n",
    "Multiple filters applied:\n",
    "1. Only flows with value > 100\n",
    "2. Only renewable sources (Solar, Wind)"
   ]
  },
  {
   "cell_type": "code",
   "execution_count": null,
   "id": "a995723d",
   "metadata": {},
   "outputs": [],
   "source": [
    "# Demo 4: Filtered Sankey\n",
    "diagram = SankeyDiagram(df, time_column='date')\n",
    "\n",
    "# Add filter to show only high-value flows\n",
    "diagram.add_filter('high_value', lambda data: data[data['value'] > 100])\n",
    "\n",
    "# Add filter to show only renewable sources\n",
    "diagram.add_filter('renewable', \n",
    "                  lambda data: data[data['source'].isin(['Solar', 'Wind'])])\n",
    "\n",
    "fig = diagram.render('source', 'target', 'value',\n",
    "                     title=\"Demo 4: Filtered - High-Value Renewable Flows Only\",\n",
    "                     show_timeline=True)\n",
    "fig.show()"
   ]
  },
  {
   "cell_type": "markdown",
   "id": "e95e9a43",
   "metadata": {},
   "source": [
    "## Demo 5: Custom Metrics 📐\n",
    "\n",
    "Custom functions define:\n",
    "- Node sizing based on total throughput\n",
    "- Edge coloring based on value distribution"
   ]
  },
  {
   "cell_type": "code",
   "execution_count": null,
   "id": "548caa4a",
   "metadata": {},
   "outputs": [],
   "source": [
    "# Demo 5: Custom Metrics\n",
    "first_month_data = df[df['date'] == df['date'].min()].copy()\n",
    "\n",
    "diagram = SankeyDiagram(first_month_data)\n",
    "\n",
    "# Custom node metric: total flow through each node\n",
    "def node_metric(data):\n",
    "    sources = data.groupby('source')['value'].sum().to_dict()\n",
    "    targets = data.groupby('target')['value'].sum().to_dict()\n",
    "    return {**sources, **targets}\n",
    "\n",
    "# Custom edge metric: flow variance\n",
    "def edge_metric(data):\n",
    "    return data.groupby(['source', 'target'])['value'].std().to_dict()\n",
    "\n",
    "diagram.set_node_metric(node_metric)\n",
    "diagram.set_edge_metric(edge_metric)\n",
    "\n",
    "fig = diagram.render('source', 'target', 'value',\n",
    "                     title=\"Demo 5: Sankey with Custom Metrics\",\n",
    "                     show_histogram=True,\n",
    "                     show_timeline=False)\n",
    "fig.show()"
   ]
  },
  {
   "cell_type": "markdown",
   "id": "fc205159",
   "metadata": {},
   "source": [
    "## Demo 6: Complete Interactive Dashboard 🚀\n",
    "\n",
    "**ALL FEATURES COMBINED!**\n",
    "- ✅ Timeline animation\n",
    "- ✅ Histogram coloring\n",
    "- ✅ Filters applied\n",
    "- ✅ Custom metrics\n",
    "\n",
    "This is a production-ready example showing real-world energy flow visualization."
   ]
  },
  {
   "cell_type": "code",
   "execution_count": null,
   "id": "4fdb325b",
   "metadata": {},
   "outputs": [],
   "source": [
    "# Demo 6: Everything Combined!\n",
    "diagram = SankeyDiagram(df, time_column='date')\n",
    "\n",
    "# Add filter to remove small flows\n",
    "diagram.add_filter('remove_small', lambda data: data[data['value'] > 50])\n",
    "\n",
    "# Custom metrics for node sizing\n",
    "diagram.set_node_metric(\n",
    "    lambda data: data.groupby('source')['value'].sum().to_dict()\n",
    ")\n",
    "\n",
    "fig = diagram.render('source', 'target', 'value',\n",
    "                     title=\"Demo 6: Complete Interactive Energy Flow Dashboard\",\n",
    "                     show_histogram=True,\n",
    "                     show_timeline=True)\n",
    "\n",
    "# Add annotation\n",
    "fig.add_annotation(\n",
    "    text=\"Use the timeline slider to see changes over time<br>\" +\n",
    "         \"Click Play to animate | Edges colored by flow value\",\n",
    "    xref=\"paper\", yref=\"paper\",\n",
    "    x=0.5, y=-0.15,\n",
    "    showarrow=False,\n",
    "    font=dict(size=10, color=\"gray\")\n",
    ")\n",
    "\n",
    "fig.show()"
   ]
  },
  {
   "cell_type": "markdown",
   "id": "296a9805",
   "metadata": {},
   "source": [
    "## Summary\n",
    "\n",
    "### Key Features Demonstrated:\n",
    "\n",
    "1. ✨ **Time Series Support** - Animate flows over time with Play/Pause controls\n",
    "2. 📊 **Histogram Edges** - Value-based color gradients (blue→red)\n",
    "3. 🎯 **Dynamic Metrics** - Custom functions for node sizes and edge properties\n",
    "4. 🔍 **Interactive Filters** - Apply multiple filters simultaneously\n",
    "5. 🎨 **Rich Customization** - Full control over appearance and behavior\n",
    "\n",
    "### Quick API Reference:\n",
    "\n",
    "```python\n",
    "# Basic usage\n",
    "diagram = SankeyDiagram(data)\n",
    "diagram.render('source', 'target', 'value').show()\n",
    "\n",
    "# With timeline\n",
    "diagram = SankeyDiagram(data, time_column='date')\n",
    "diagram.render('source', 'target', 'value', show_timeline=True).show()\n",
    "\n",
    "# Add filters\n",
    "diagram.add_filter('name', lambda df: df[df['value'] > 100])\n",
    "\n",
    "# Custom metrics\n",
    "diagram.set_node_metric(lambda df: df.groupby('source')['value'].sum().to_dict())\n",
    "\n",
    "# Histogram coloring\n",
    "diagram.render('source', 'target', 'value', show_histogram=True).show()\n",
    "```\n",
    "\n",
    "### Real-World Applications:\n",
    "\n",
    "- **Energy Flow Analysis** - Power generation and distribution\n",
    "- **Supply Chain Visualization** - Material flows through manufacturing\n",
    "- **Financial Flows** - Money movement between accounts\n",
    "- **Network Traffic** - Data flow analysis\n",
    "- **Resource Allocation** - Budget distribution over time\n",
    "- **Migration Patterns** - Population movement visualization"
   ]
  }
 ],
 "metadata": {
  "kernelspec": {
   "display_name": "Python 3",
   "language": "python",
   "name": "python3"
  },
  "language_info": {
   "codemirror_mode": {
    "name": "ipython",
    "version": 3
   },
   "file_extension": ".py",
   "mimetype": "text/x-python",
   "name": "python",
   "nbconvert_exporter": "python",
   "pygments_lexer": "ipython3",
   "version": "3.12.1"
  }
 },
 "nbformat": 4,
 "nbformat_minor": 5
}
